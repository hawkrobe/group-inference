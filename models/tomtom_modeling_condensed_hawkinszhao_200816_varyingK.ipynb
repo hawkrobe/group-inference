{
 "cells": [
  {
   "cell_type": "code",
   "execution_count": 1,
   "metadata": {},
   "outputs": [
    {
     "data": {
      "application/javascript": [
       "IPython.notebook.set_autosave_interval(30000)"
      ]
     },
     "metadata": {},
     "output_type": "display_data"
    },
    {
     "name": "stdout",
     "output_type": "stream",
     "text": [
      "Autosaving every 30 seconds\n"
     ]
    }
   ],
   "source": [
    "import os\n",
    "from collections import defaultdict\n",
    "import torch\n",
    "import numpy as np\n",
    "import scipy.stats\n",
    "from torch.distributions import constraints\n",
    "from matplotlib import pyplot\n",
    "import random\n",
    "\n",
    "import pyro\n",
    "import pyro.distributions as dist\n",
    "from pyro import poutine\n",
    "from pyro.infer.autoguide import AutoDelta\n",
    "from pyro.optim import Adam\n",
    "from pyro.infer import SVI, TraceEnum_ELBO, config_enumerate, infer_discrete, Predictive\n",
    "from pyro.ops.indexing import Vindex\n",
    "from pyro.infer import MCMC, NUTS\n",
    "\n",
    "## Data preparation and cleaning\n",
    "# importing required packages\n",
    "import pyreadr\n",
    "import numpy as np\n",
    "import pandas as pd\n",
    "import seaborn as sns\n",
    "import matplotlib.pyplot as plt\n",
    "%matplotlib inline\n",
    "%autosave 30\n",
    "\n",
    "import umap\n",
    "import plotly\n",
    "import plotly.graph_objs as go\n",
    "\n",
    "import pickle\n",
    "\n",
    "import torch.nn.functional as F\n",
    "\n",
    "pyro.enable_validation(True)"
   ]
  },
  {
   "cell_type": "code",
   "execution_count": 2,
   "metadata": {},
   "outputs": [],
   "source": [
    "# importing in house modeling functions\n",
    "import tomtom_models as tm\n",
    "import tomtom_util as tu"
   ]
  },
  {
   "cell_type": "markdown",
   "metadata": {},
   "source": [
    "# Data importing"
   ]
  },
  {
   "cell_type": "code",
   "execution_count": 3,
   "metadata": {
    "scrolled": true
   },
   "outputs": [],
   "source": [
    "# global tself_norm_all_3d, tself_norm_noauto_3d, tself_raw_all_3d, tself_raw_noauto_3d\n",
    "# global ttarg_norm_all_3d, ttarg_norm_noauto_3d, ttarg_raw_all_3d, ttarg_raw_noauto_3d\n",
    "# global tavg_norm_all_3d, tavg_norm_noauto_3d, tavg_raw_all_3d, tavg_raw_noauto_3d\n",
    "\n",
    "# import pickled data\n",
    "with open('tomtom_data_preprocessed.pkl','rb') as f:\n",
    "    [tself_norm_all_3d, tself_norm_noauto_3d, tself_raw_all_3d, tself_raw_noauto_3d,\n",
    "    ttarg_norm_all_3d, ttarg_norm_noauto_3d, ttarg_raw_all_3d, ttarg_raw_noauto_3d,\n",
    "    tavg_norm_all_3d, tavg_norm_noauto_3d, tavg_raw_all_3d, tavg_raw_noauto_3d] = pickle.load(f) \n"
   ]
  },
  {
   "cell_type": "code",
   "execution_count": null,
   "metadata": {},
   "outputs": [],
   "source": [
    "# with open('tomtom_fitted_models.pkl','wb') as f:\n",
    "#     pickle.dump([seeds_self_norm_all_grp,maps_self_norm_all_grp,logprobs_self_norm_all_grp,mem_self_norm_all_grp,\n",
    "#                  seeds_self_norm_all_dim,maps_self_norm_all_dim,logprobs_self_norm_all_dim,\n",
    "#                 seeds_self_raw_noauto_grp,maps_self_raw_noauto_grp,logprobs_self_raw_noauto_grp,mem_self_raw_noauto_grp,\n",
    "#                 seeds_self_raw_noauto_dim,maps_self_raw_noauto_dim,logprobs_self_raw_noauto_dim],f)"
   ]
  },
  {
   "cell_type": "markdown",
   "metadata": {},
   "source": [
    "# Self ratings"
   ]
  },
  {
   "cell_type": "markdown",
   "metadata": {},
   "source": [
    "## Normalized, with Autotransitions"
   ]
  },
  {
   "cell_type": "markdown",
   "metadata": {},
   "source": [
    "### SVI"
   ]
  },
  {
   "cell_type": "code",
   "execution_count": null,
   "metadata": {},
   "outputs": [],
   "source": [
    "# # Fitting dimensional model for self normed all\n",
    "# tm.K = 2\n",
    "# tm.mtype = 'dimensional'\n",
    "# tm.target = 'self' # 'self','targ','avg'\n",
    "# tm.dtype = 'norm' # 'norm','raw'\n",
    "# tm.auto = 'all' # 'noauto','all'\n",
    "# tm.stickbreak = False\n",
    "# tm.optim = pyro.optim.Adam({'lr': 0.0005, 'betas': [0.8, 0.99]})\n",
    "# tm.elbo = TraceEnum_ELBO(max_plate_nesting=1)\n",
    "# # seed_self_norm_all, map_self_norm_all, mem_self_norm_all = tomtom_svi()\n",
    "# seed_self_norm_all, map_self_norm_all = tm.tomtom_svi(tself_norm_all_3d) # must now pass data"
   ]
  },
  {
   "cell_type": "code",
   "execution_count": 4,
   "metadata": {},
   "outputs": [
    {
     "name": "stdout",
     "output_type": "stream",
     "text": [
      "running SVI with: tself_norm_all_3d\n",
      "seed = 30, initial_loss = 2419.382080078125\n",
      "..............................\n",
      " final loss: -6295.9443359375\n",
      "\n",
      "running SVI with: tself_norm_all_3d\n",
      "seed = 18, initial_loss = 1607.314697265625\n",
      "..............................\n",
      " final loss: -6748.9931640625\n",
      "\n",
      "running SVI with: tself_norm_all_3d\n",
      "seed = 83, initial_loss = 2155.863037109375\n",
      "..............................\n",
      " final loss: -6685.5166015625\n",
      "\n",
      "running SVI with: tself_norm_all_3d\n",
      "seed = 26, initial_loss = 2448.491943359375\n",
      "..............................\n",
      " final loss: -6648.802734375\n",
      "\n",
      "running SVI with: tself_norm_all_3d\n",
      "seed = 21, initial_loss = 1967.4444580078125\n",
      "..............................\n",
      " final loss: -6669.41064453125\n",
      "\n",
      "running SVI with: tself_norm_all_3d\n",
      "seed = 25, initial_loss = 2386.956787109375\n",
      "..............................\n",
      " final loss: -6579.0185546875\n",
      "\n",
      "running SVI with: tself_norm_all_3d\n",
      "seed = 27, initial_loss = 2261.238525390625\n",
      "..............................\n",
      " final loss: -6409.99755859375\n",
      "\n",
      "running SVI with: tself_norm_all_3d\n",
      "seed = 68, initial_loss = 2677.006103515625\n",
      "..............................\n",
      " final loss: -6373.63330078125\n",
      "\n",
      "running SVI with: tself_norm_all_3d\n",
      "seed = 24, initial_loss = 2369.967529296875\n",
      "..............................\n",
      " final loss: -6034.52978515625\n",
      "\n",
      "running SVI with: tself_norm_all_3d\n",
      "seed = 4, initial_loss = 2658.157958984375\n",
      "..............................\n",
      " final loss: -6018.68115234375\n",
      "\n"
     ]
    }
   ],
   "source": [
    "# Fitting a priori K GROUP model on normed all data\n",
    "tm.mtype = 'group'\n",
    "tm.target = 'self' # 'self','targ','avg'\n",
    "tm.dtype = 'norm' # 'norm','raw'\n",
    "tm.auto = 'all' # 'noauto','all'\n",
    "tm.stickbreak = False\n",
    "tm.optim = pyro.optim.Adam({'lr': 0.0005, 'betas': [0.8, 0.99]})\n",
    "tm.elbo = TraceEnum_ELBO(max_plate_nesting=1)\n",
    "seeds_self_norm_all_grp = []\n",
    "maps_self_norm_all_grp = []\n",
    "logprobs_self_norm_all_grp = []\n",
    "for i in range(1,11):\n",
    "    tm.K = i\n",
    "    seed_self_norm_all_grp, map_self_norm_all_grp, mem_self_norm_all_grp, lp_self_norm_all_grp = tm.tomtom_svi(tself_norm_all_3d)\n",
    "    seeds_self_norm_all_grp.append(seed_self_norm_all_grp)\n",
    "    maps_self_norm_all_grp.append(map_self_norm_all_grp)\n",
    "    logprobs_self_norm_all_grp.append(lp_self_norm_all_grp)"
   ]
  },
  {
   "cell_type": "code",
   "execution_count": null,
   "metadata": {},
   "outputs": [
    {
     "name": "stdout",
     "output_type": "stream",
     "text": [
      "running SVI with: tself_norm_all_3d\n",
      "seed = 76, initial_loss = 2190.25830078125\n",
      "..............................\n",
      " final loss: -6318.2724609375\n",
      "\n",
      "running SVI with: tself_norm_all_3d\n",
      "seed = 43, initial_loss = 2070.418212890625\n",
      "..............................\n",
      " final loss: -6793.0859375\n",
      "\n",
      "running SVI with: tself_norm_all_3d\n",
      "seed = 21, initial_loss = 2324.71728515625\n",
      "..............................\n",
      " final loss: -6585.80810546875\n",
      "\n",
      "running SVI with: tself_norm_all_3d\n",
      "seed = 10, initial_loss = 2667.426025390625\n",
      "..............................\n",
      " final loss: -6640.2919921875\n",
      "\n",
      "running SVI with: tself_norm_all_3d\n",
      "seed = 95, initial_loss = 3140.47216796875\n",
      "..............................\n",
      " final loss: -6748.56298828125\n",
      "\n",
      "running SVI with: tself_norm_all_3d\n",
      "seed = 43, initial_loss = 3780.763671875\n",
      "..............................\n",
      " final loss: -6468.09765625\n",
      "\n",
      "running SVI with: tself_norm_all_3d\n",
      "seed = 19, initial_loss = 4564.8017578125\n",
      "..............................\n",
      " final loss: -6273.3359375\n",
      "\n",
      "running SVI with: tself_norm_all_3d\n",
      "seed = 88, initial_loss = 5071.455078125\n",
      "..............................\n",
      " final loss: -6231.6201171875\n",
      "\n",
      "running SVI with: tself_norm_all_3d\n",
      "seed = 88, initial_loss = 5621.7734375\n",
      "..............................\n",
      " final loss: -5751.7998046875\n",
      "\n"
     ]
    }
   ],
   "source": [
    "# Fitting a priori K DIMENSIONAL model on normed all data\n",
    "tm.mtype = 'dimensional'\n",
    "tm.target = 'self' # 'self','targ','avg'\n",
    "tm.dtype = 'norm' # 'norm','raw'\n",
    "tm.auto = 'all' # 'noauto','all'\n",
    "tm.stickbreak = False\n",
    "tm.optim = pyro.optim.Adam({'lr': 0.0005, 'betas': [0.8, 0.99]})\n",
    "tm.elbo = TraceEnum_ELBO(max_plate_nesting=1)\n",
    "seeds_self_norm_all_dim = []\n",
    "maps_self_norm_all_dim = []\n",
    "logprobs_self_norm_all_dim = []\n",
    "for i in range(1,11):\n",
    "    tm.K = i\n",
    "    seed_self_norm_all_dim, map_self_norm_all_dim, lp_self_norm_all_dim = tm.tomtom_svi(tself_norm_all_3d)\n",
    "    seeds_self_norm_all_dim.append(seed_self_norm_all_dim)\n",
    "    maps_self_norm_all_dim.append(map_self_norm_all_dim)\n",
    "    logprobs_self_norm_all_dim.append(lp_self_norm_all_dim)"
   ]
  },
  {
   "cell_type": "code",
   "execution_count": null,
   "metadata": {},
   "outputs": [],
   "source": [
    "sns.scatterplot(range(1,11),logprobs_self_norm_all_grp, color = 'blue')\n",
    "sns.scatterplot(range(1,11),logprobs_self_norm_all_dim, color = 'red')"
   ]
  },
  {
   "cell_type": "code",
   "execution_count": null,
   "metadata": {},
   "outputs": [],
   "source": [
    "logprobs_self_norm_all_grp"
   ]
  },
  {
   "cell_type": "code",
   "execution_count": null,
   "metadata": {},
   "outputs": [],
   "source": [
    "# seed_self_norm_all, map_self_norm_all, mem_self_norm_all = tomtom_svi()\n",
    "seed_self_norm_all, map_self_norm_all = tm.tomtom_svi(tself_norm_all_3d) # must now pass data"
   ]
  },
  {
   "cell_type": "code",
   "execution_count": null,
   "metadata": {
    "scrolled": true
   },
   "outputs": [],
   "source": [
    "# fig = plt.figure()\n",
    "# nrow = 15\n",
    "# ncol = 5\n",
    "# for i in np.arange(nrow):\n",
    "#     for j in np.arange(ncol):\n",
    "# #         print('i: {}, j:{}'.format(i,j))\n",
    "#         img_ind = i*ncol + j + 1\n",
    "# #         print(img_ind)\n",
    "#         ax = fig.add_subplot(ncol,nrow,img_ind)\n",
    "#         sns.distplot(tself_norm_all_3d[:,i,j],ax = ax)\n",
    "# plt.show()\n",
    "\n",
    "draw_density_better(map_self_norm_all, mem_self_norm_all)"
   ]
  },
  {
   "cell_type": "markdown",
   "metadata": {},
   "source": [
    "### MCMC"
   ]
  },
  {
   "cell_type": "code",
   "execution_count": null,
   "metadata": {},
   "outputs": [],
   "source": [
    "posterior_samples_self_norm_all = tomtom_mcmc(seed_self_norm_all)\n",
    "posterior_samples_self_norm_all['weights'].shape"
   ]
  },
  {
   "cell_type": "code",
   "execution_count": null,
   "metadata": {
    "scrolled": false
   },
   "outputs": [],
   "source": [
    "#X = posterior_samples['concentration'][:,0,0,0]\n",
    "X = posterior_samples_self_norm_all['weights'][:,1]\n",
    "\n",
    "#pyplot.figure(figsize=(8, 8), dpi=100).set_facecolor('white')\n",
    "pyplot.plot(np.arange(X.numpy().size),X.numpy())\n",
    "#pyplot.contour(np.log(h + 3).T, extent=[xs.min(), xs.max(), ys.min(), ys.max()],\n",
    "#               colors='white', alpha=0.8)\n",
    "pyplot.title('Sampling trace of top left concentration with NUTS')\n",
    "pyplot.ylabel('Sample value')\n",
    "pyplot.xlabel('Step')\n",
    "pyplot.tight_layout()"
   ]
  },
  {
   "cell_type": "markdown",
   "metadata": {},
   "source": [
    "## Normalized, no Autotransitions"
   ]
  },
  {
   "cell_type": "markdown",
   "metadata": {},
   "source": [
    "### SVI"
   ]
  },
  {
   "cell_type": "code",
   "execution_count": null,
   "metadata": {},
   "outputs": [],
   "source": [
    "K = 10\n",
    "target = 'self' # 'self','targ','avg'\n",
    "norm = 'norm' # 'norm','raw'\n",
    "auto = 'noauto' # 'noauto','all'\n",
    "optim = pyro.optim.Adam({'lr': 0.0005, 'betas': [0.8, 0.99]})\n",
    "elbo = TraceEnum_ELBO(max_plate_nesting=1)"
   ]
  },
  {
   "cell_type": "code",
   "execution_count": null,
   "metadata": {
    "scrolled": true
   },
   "outputs": [],
   "source": [
    "# seed_self_norm_noauto, map_self_norm_noauto, mem_self_norm_noauto = tomtom_svi()\n",
    "seed_self_raw_noauto, map_self_raw_noauto = tomtom_svi()"
   ]
  },
  {
   "cell_type": "code",
   "execution_count": null,
   "metadata": {},
   "outputs": [],
   "source": [
    "map_self_raw_noauto['participant_topics']"
   ]
  },
  {
   "cell_type": "code",
   "execution_count": null,
   "metadata": {},
   "outputs": [],
   "source": [
    "draw_density_better(map_self_norm_noauto, mem_self_norm_noauto)"
   ]
  },
  {
   "cell_type": "markdown",
   "metadata": {},
   "source": [
    "### MCMC"
   ]
  },
  {
   "cell_type": "code",
   "execution_count": null,
   "metadata": {},
   "outputs": [],
   "source": [
    "posterior_samples_self_norm_noauto = tomtom_mcmc(seed_self_norm_noauto)\n",
    "posterior_samples_self_norm_noauto['weights'].shape"
   ]
  },
  {
   "cell_type": "code",
   "execution_count": null,
   "metadata": {
    "scrolled": false
   },
   "outputs": [],
   "source": [
    "#X = posterior_samples['concentration'][:,0,0,0]\n",
    "X = posterior_samples_self_norm_noauto['weights'][:,0]\n",
    "\n",
    "#pyplot.figure(figsize=(8, 8), dpi=100).set_facecolor('white')\n",
    "pyplot.plot(np.arange(X.numpy().size),X.numpy())\n",
    "#pyplot.contour(np.log(h + 3).T, extent=[xs.min(), xs.max(), ys.min(), ys.max()],\n",
    "#               colors='white', alpha=0.8)\n",
    "pyplot.title('Sampling trace of top left concentration with NUTS')\n",
    "pyplot.ylabel('Sample value')\n",
    "pyplot.xlabel('Step')\n",
    "pyplot.tight_layout()"
   ]
  },
  {
   "cell_type": "markdown",
   "metadata": {},
   "source": [
    "## Raw, with autotransitions"
   ]
  },
  {
   "cell_type": "markdown",
   "metadata": {},
   "source": [
    "### SVI"
   ]
  },
  {
   "cell_type": "code",
   "execution_count": null,
   "metadata": {},
   "outputs": [],
   "source": [
    "K = 10\n",
    "target = 'self' # 'self','targ','avg'\n",
    "norm = 'raw' # 'norm','raw'\n",
    "auto = 'all' # 'noauto','all'\n",
    "optim = pyro.optim.Adam({'lr': 0.0005, 'betas': [0.8, 0.99]})\n",
    "elbo = TraceEnum_ELBO(max_plate_nesting=1)"
   ]
  },
  {
   "cell_type": "code",
   "execution_count": null,
   "metadata": {
    "scrolled": true
   },
   "outputs": [],
   "source": [
    "seed_self_raw_all, map_self_raw_all, mem_self_raw_all = tomtom_svi()"
   ]
  },
  {
   "cell_type": "code",
   "execution_count": null,
   "metadata": {},
   "outputs": [],
   "source": [
    "draw_density_better(map_self_raw_all, mem_self_raw_all)"
   ]
  },
  {
   "cell_type": "markdown",
   "metadata": {},
   "source": [
    "### MCMC"
   ]
  },
  {
   "cell_type": "code",
   "execution_count": null,
   "metadata": {},
   "outputs": [],
   "source": [
    "posterior_samples_self_raw_all = tomtom_mcmc(seed_self_raw_all)\n",
    "posterior_samples_self_raw_all['weights'].shape"
   ]
  },
  {
   "cell_type": "code",
   "execution_count": null,
   "metadata": {
    "scrolled": true
   },
   "outputs": [],
   "source": [
    "#X = posterior_samples['concentration'][:,0,0,0]\n",
    "X = posterior_samples_self_raw_all['weights'][:,0]\n",
    "\n",
    "#pyplot.figure(figsize=(8, 8), dpi=100).set_facecolor('white')\n",
    "pyplot.plot(np.arange(X.numpy().size),X.numpy())\n",
    "#pyplot.contour(np.log(h + 3).T, extent=[xs.min(), xs.max(), ys.min(), ys.max()],\n",
    "#               colors='white', alpha=0.8)\n",
    "pyplot.title('Sampling trace of top left concentration with NUTS')\n",
    "pyplot.ylabel('Sample value')\n",
    "pyplot.xlabel('Step')\n",
    "pyplot.tight_layout()"
   ]
  },
  {
   "cell_type": "markdown",
   "metadata": {},
   "source": [
    "## Raw, without autotransitions"
   ]
  },
  {
   "cell_type": "markdown",
   "metadata": {},
   "source": [
    "### SVI"
   ]
  },
  {
   "cell_type": "code",
   "execution_count": null,
   "metadata": {},
   "outputs": [],
   "source": [
    "tm.K = 2\n",
    "tm.mtype = 'dimensional'\n",
    "tm.target = 'self' # 'self','targ','avg'\n",
    "tm.dtype = 'raw' # 'norm','raw'\n",
    "tm.auto = 'noauto' # 'noauto','all'\n",
    "tm.stickbreak = False\n",
    "tm.optim = pyro.optim.Adam({'lr': 0.0005, 'betas': [0.8, 0.99]})\n",
    "tm.elbo = TraceEnum_ELBO(max_plate_nesting=1)"
   ]
  },
  {
   "cell_type": "code",
   "execution_count": 5,
   "metadata": {
    "scrolled": false
   },
   "outputs": [
    {
     "name": "stdout",
     "output_type": "stream",
     "text": [
      "running SVI with: tself_raw_noauto_3d\n",
      "seed = 68, initial_loss = 17190.09375\n",
      "..............................\n",
      " final loss: -937.40185546875\n",
      "\n",
      "running SVI with: tself_raw_noauto_3d\n",
      "seed = 7, initial_loss = 17220.7578125\n",
      "..............................\n",
      " final loss: -1183.563720703125\n",
      "\n",
      "running SVI with: tself_raw_noauto_3d\n",
      "seed = 63, initial_loss = 16388.033203125\n",
      "..............................\n",
      " final loss: -1032.6170654296875\n",
      "\n",
      "running SVI with: tself_raw_noauto_3d\n",
      "seed = 28, initial_loss = 17416.228515625\n",
      "..............................\n",
      " final loss: -859.587158203125\n",
      "\n",
      "running SVI with: tself_raw_noauto_3d\n",
      "seed = 74, initial_loss = 17766.087890625\n",
      "..............................\n",
      " final loss: -708.15966796875\n",
      "\n",
      "running SVI with: tself_raw_noauto_3d\n",
      "seed = 31, initial_loss = 17875.974609375\n",
      "..............................\n",
      " final loss: -670.018798828125\n",
      "\n",
      "running SVI with: tself_raw_noauto_3d\n",
      "seed = 29, initial_loss = 17596.248046875\n",
      "..............................\n",
      " final loss: -417.380859375\n",
      "\n",
      "running SVI with: tself_raw_noauto_3d\n",
      "seed = 12, initial_loss = 17960.203125\n",
      "..............................\n",
      " final loss: -220.1298828125\n",
      "\n",
      "running SVI with: tself_raw_noauto_3d\n",
      "seed = 19, initial_loss = 18232.501953125\n",
      "..............................\n",
      " final loss: 90.81640625\n",
      "\n",
      "running SVI with: tself_raw_noauto_3d\n",
      "seed = 23, initial_loss = 18434.2890625\n",
      "..............................\n",
      " final loss: 322.047119140625\n",
      "\n"
     ]
    }
   ],
   "source": [
    "tm.mtype = 'group'\n",
    "tm.target = 'self' # 'self','targ','avg'\n",
    "tm.dtype = 'raw' # 'norm','raw'\n",
    "tm.auto = 'noauto' # 'noauto','all'\n",
    "tm.stickbreak = False\n",
    "tm.optim = pyro.optim.Adam({'lr': 0.0005, 'betas': [0.8, 0.99]})\n",
    "tm.elbo = TraceEnum_ELBO(max_plate_nesting=1)\n",
    "seeds_self_raw_noauto_grp = []\n",
    "maps_self_raw_noauto_grp = []\n",
    "logprobs_self_raw_noauto_grp = []\n",
    "for i in range(1,11):\n",
    "    tm.K = i\n",
    "    seed_self_raw_noauto_grp, map_self_raw_noauto_grp, mem_self_raw_noauto_grp, lp_self_raw_noauto_grp = tm.tomtom_svi(tself_raw_noauto_3d)\n",
    "    seeds_self_raw_noauto_grp.append(seed_self_raw_noauto_grp)\n",
    "    maps_self_raw_noauto_grp.append(map_self_raw_noauto_grp)\n",
    "    logprobs_self_raw_noauto_grp.append(lp_self_raw_noauto_grp)"
   ]
  },
  {
   "cell_type": "code",
   "execution_count": 7,
   "metadata": {},
   "outputs": [
    {
     "name": "stdout",
     "output_type": "stream",
     "text": [
      "running SVI with: tself_raw_noauto_3d\n",
      "seed = 40, initial_loss = 16849.259765625\n",
      "..............................\n",
      " final loss: -941.41552734375\n",
      "\n",
      "running SVI with: tself_raw_noauto_3d\n",
      "seed = 2, initial_loss = 17414.65625\n",
      "..............................\n",
      " final loss: -1292.98681640625\n",
      "\n",
      "running SVI with: tself_raw_noauto_3d\n",
      "seed = 37, initial_loss = 16926.279296875\n",
      "..............................\n",
      " final loss: -1246.4873046875\n",
      "\n",
      "running SVI with: tself_raw_noauto_3d\n",
      "seed = 92, initial_loss = 17298.724609375\n",
      "..............................\n",
      " final loss: -1007.9080810546875\n",
      "\n",
      "running SVI with: tself_raw_noauto_3d\n",
      "seed = 58, initial_loss = 18017.8359375\n",
      "..............................\n",
      " final loss: -1027.5987548828125\n",
      "\n",
      "running SVI with: tself_raw_noauto_3d\n",
      "seed = 21, initial_loss = 18911.669921875\n",
      "..............................\n",
      " final loss: -477.6788330078125\n",
      "\n",
      "running SVI with: tself_raw_noauto_3d\n",
      "seed = 47, initial_loss = 19669.296875\n",
      "..............................\n",
      " final loss: -591.779296875\n",
      "\n",
      "running SVI with: tself_raw_noauto_3d\n",
      "seed = 47, initial_loss = 20520.265625\n",
      "..............................\n",
      " final loss: 95.96044921875\n",
      "\n",
      "running SVI with: tself_raw_noauto_3d\n",
      "seed = 88, initial_loss = 21212.775390625\n",
      "..............................\n",
      " final loss: 290.04638671875\n",
      "\n",
      "running SVI with: tself_raw_noauto_3d\n",
      "seed = 7, initial_loss = 22228.7734375\n",
      "..............................\n",
      " final loss: 1681.351318359375\n",
      "\n"
     ]
    }
   ],
   "source": [
    "tm.mtype = 'dimensional'\n",
    "tm.target = 'self' # 'self','targ','avg'\n",
    "tm.dtype = 'raw' # 'norm','raw'\n",
    "tm.auto = 'noauto' # 'noauto','all'\n",
    "tm.stickbreak = False\n",
    "tm.optim = pyro.optim.Adam({'lr': 0.0005, 'betas': [0.8, 0.99]})\n",
    "tm.elbo = TraceEnum_ELBO(max_plate_nesting=1)\n",
    "seeds_self_raw_noauto_dim = []\n",
    "maps_self_raw_noauto_dim = []\n",
    "logprobs_self_raw_noauto_dim = []\n",
    "for i in range(1,11):\n",
    "    tm.K = i\n",
    "    seed_self_raw_noauto_dim, map_self_raw_noauto_dim, lp_self_raw_noauto_dim = tm.tomtom_svi(tself_raw_noauto_3d)\n",
    "    seeds_self_raw_noauto_dim.append(seed_self_raw_noauto_dim)\n",
    "    maps_self_raw_noauto_dim.append(map_self_raw_noauto_dim)\n",
    "    logprobs_self_raw_noauto_dim.append(lp_self_raw_noauto_dim)"
   ]
  },
  {
   "cell_type": "code",
   "execution_count": 8,
   "metadata": {},
   "outputs": [
    {
     "data": {
      "text/plain": [
       "<matplotlib.axes._subplots.AxesSubplot at 0x222951c5cc0>"
      ]
     },
     "execution_count": 8,
     "metadata": {},
     "output_type": "execute_result"
    },
    {
     "data": {
      "image/png": "[encoded data removed]",
      "text/plain": [
       "<Figure size 432x288 with 1 Axes>"
      ]
     },
     "metadata": {
      "needs_background": "light"
     },
     "output_type": "display_data"
    }
   ],
   "source": [
    "sns.scatterplot(range(1,11), logprobs_self_raw_noauto_grp, color = 'blue')\n",
    "sns.scatterplot(range(1,11), logprobs_self_raw_noauto_dim, color = 'red')"
   ]
  },
  {
   "cell_type": "code",
   "execution_count": null,
   "metadata": {},
   "outputs": [],
   "source": [
    "logprobs_self_raw_noauto_grp"
   ]
  },
  {
   "cell_type": "code",
   "execution_count": null,
   "metadata": {
    "scrolled": true
   },
   "outputs": [],
   "source": [
    "# seed_self_raw_noauto, map_self_raw_noauto, mem_self_raw_noauto = tomtom_svi()\n",
    "seed_self_raw_noauto, map_self_raw_noauto = tm.tomtom_svi(tself_raw_noauto_3d)"
   ]
  },
  {
   "cell_type": "code",
   "execution_count": null,
   "metadata": {
    "scrolled": true
   },
   "outputs": [],
   "source": [
    "map_self_raw_noauto"
   ]
  },
  {
   "cell_type": "markdown",
   "metadata": {},
   "source": [
    "### MCMC"
   ]
  },
  {
   "cell_type": "code",
   "execution_count": null,
   "metadata": {},
   "outputs": [],
   "source": [
    "posterior_samples_self_raw_noauto = tomtom_mcmc(seed_self_raw_noauto)\n",
    "posterior_samples_self_raw_noauto['weights'].shape"
   ]
  },
  {
   "cell_type": "code",
   "execution_count": null,
   "metadata": {
    "scrolled": false
   },
   "outputs": [],
   "source": [
    "#X = posterior_samples['concentration'][:,0,0,0]\n",
    "X = posterior_samples_self_raw_noauto['weights'][:,0]\n",
    "\n",
    "#pyplot.figure(figsize=(8, 8), dpi=100).set_facecolor('white')\n",
    "pyplot.plot(np.arange(X.numpy().size),X.numpy())\n",
    "#pyplot.contour(np.log(h + 3).T, extent=[xs.min(), xs.max(), ys.min(), ys.max()],\n",
    "#               colors='white', alpha=0.8)\n",
    "pyplot.title('Sampling trace of top left concentration with NUTS')\n",
    "pyplot.ylabel('Sample value')\n",
    "pyplot.xlabel('Step')\n",
    "pyplot.tight_layout()"
   ]
  },
  {
   "cell_type": "markdown",
   "metadata": {},
   "source": [
    "# Target-specific ratings"
   ]
  },
  {
   "cell_type": "markdown",
   "metadata": {},
   "source": [
    "## Visual Inspections"
   ]
  },
  {
   "cell_type": "code",
   "execution_count": null,
   "metadata": {
    "scrolled": true
   },
   "outputs": [],
   "source": [
    "random.seed(200506)\n",
    "# umap visualization\n",
    "# rudimentary test run of umap on self transition data\n",
    "fit_trans_targ_default = umap.UMAP()\n",
    "u_trans_targ_default = fit_trans_targ_default.fit_transform(trans_targ)"
   ]
  },
  {
   "cell_type": "code",
   "execution_count": null,
   "metadata": {
    "scrolled": true
   },
   "outputs": [],
   "source": [
    "plt.scatter(u_trans_targ_default[:,0],u_trans_targ_default[:,1])"
   ]
  },
  {
   "cell_type": "code",
   "execution_count": null,
   "metadata": {},
   "outputs": [],
   "source": [
    "fit_trans_targ_neighbor30 = umap.UMAP(n_neighbors=30,min_dist=0.05)\n",
    "u_trans_targ_neighbor30 = fit_trans_targ_neighbor30.fit_transform(trans_targ)\n",
    "plt.scatter(u_trans_targ_neighbor30[:,0],u_trans_targ_neighbor30[:,1])"
   ]
  },
  {
   "cell_type": "code",
   "execution_count": null,
   "metadata": {},
   "outputs": [],
   "source": [
    "# pca to see how many dimensions best capture\n",
    "from sklearn.preprocessing import StandardScaler\n",
    "from sklearn.decomposition import PCA\n",
    "scaler = StandardScaler()\n",
    "trans_targ_scaled = scaler.fit_transform(trans_targ)\n",
    "decomp = PCA()\n",
    "trans_targ_pca = decomp.fit(trans_targ_scaled)\n",
    "plt.scatter(list(range(np.shape(trans_targ_pca.explained_variance_ratio_)[0])),np.array(trans_targ_pca.explained_variance_ratio_))"
   ]
  },
  {
   "cell_type": "code",
   "execution_count": null,
   "metadata": {
    "scrolled": true
   },
   "outputs": [],
   "source": [
    "# above pca result suggests 4-6 factors\n",
    "# here we construct a new umap object with 3 dimensions and visulize it to see if there are obv clusters\n",
    "fit_trans_targ_3d = umap.UMAP(n_neighbors=47,min_dist=0,n_components=3)\n",
    "u_trans_targ_3d = fit_trans_targ_3d.fit_transform(trans_targ)\n",
    "\n",
    "# Configure Plotly to be rendered inline in the notebook.\n",
    "plotly.offline.init_notebook_mode()\n",
    "\n",
    "trace = go.Scatter3d(\n",
    "    x=u_trans_targ_3d[:,0],  # <-- Put your data instead\n",
    "    y=u_trans_targ_3d[:,1],  # <-- Put your data instead\n",
    "    z=u_trans_targ_3d[:,2],  # <-- Put your data instead\n",
    "    mode='markers',\n",
    "    marker={\n",
    "        'size': 10,\n",
    "        'opacity': 0.8,\n",
    "        #'color': ,\n",
    "    }\n",
    ")\n",
    "# Configure the layout.\n",
    "layout = go.Layout(\n",
    "    margin={'l': 0, 'r': 0, 'b': 0, 't': 0}\n",
    ")\n",
    "data = [trace]\n",
    "\n",
    "plot_figure = go.Figure(data=data, layout=layout)\n",
    "# Render the plot.\n",
    "plotly.offline.iplot(plot_figure)"
   ]
  },
  {
   "cell_type": "markdown",
   "metadata": {},
   "source": [
    "## Target specific ratings, normalized, with autotransitions"
   ]
  },
  {
   "cell_type": "markdown",
   "metadata": {},
   "source": [
    "### SVI"
   ]
  },
  {
   "cell_type": "code",
   "execution_count": null,
   "metadata": {},
   "outputs": [],
   "source": [
    "K = 10\n",
    "target = 'targ' # 'self','targ','avg'\n",
    "norm = 'norm' # 'norm','raw'\n",
    "auto = 'all' # 'noauto','all'\n",
    "optim = pyro.optim.Adam({'lr': 0.0005, 'betas': [0.8, 0.99]})\n",
    "elbo = TraceEnum_ELBO(max_plate_nesting=1)"
   ]
  },
  {
   "cell_type": "code",
   "execution_count": null,
   "metadata": {
    "scrolled": true
   },
   "outputs": [],
   "source": [
    "seed_targ_norm_all, map_targ_norm_all, mem_targ_norm_all = tomtom_svi()"
   ]
  },
  {
   "cell_type": "code",
   "execution_count": null,
   "metadata": {},
   "outputs": [],
   "source": [
    "draw_density(map_targ_norm_all, mem_targ_norm_all)"
   ]
  },
  {
   "cell_type": "markdown",
   "metadata": {},
   "source": [
    "### MCMC"
   ]
  },
  {
   "cell_type": "code",
   "execution_count": null,
   "metadata": {},
   "outputs": [],
   "source": [
    "posterior_samples_targ_norm_all = tomtom_mcmc(seed_targ_norm_all)\n",
    "posterior_samples_targ_norm_all['weights'].shape"
   ]
  },
  {
   "cell_type": "code",
   "execution_count": null,
   "metadata": {
    "scrolled": true
   },
   "outputs": [],
   "source": [
    "#X = posterior_samples['concentration'][:,0,0,0]\n",
    "X = posterior_samples_targ_norm_all['weights'][:,0]\n",
    "\n",
    "#pyplot.figure(figsize=(8, 8), dpi=100).set_facecolor('white')\n",
    "pyplot.plot(np.arange(X.numpy().size),X.numpy())\n",
    "#pyplot.contour(np.log(h + 3).T, extent=[xs.min(), xs.max(), ys.min(), ys.max()],\n",
    "#               colors='white', alpha=0.8)\n",
    "pyplot.title('Sampling trace of top left concentration with NUTS')\n",
    "pyplot.ylabel('Sample value')\n",
    "pyplot.xlabel('Step')\n",
    "pyplot.tight_layout()"
   ]
  },
  {
   "cell_type": "markdown",
   "metadata": {},
   "source": [
    "## Target specific ratings, normalized, No autotransitions"
   ]
  },
  {
   "cell_type": "markdown",
   "metadata": {},
   "source": [
    "### SVI"
   ]
  },
  {
   "cell_type": "code",
   "execution_count": null,
   "metadata": {},
   "outputs": [],
   "source": [
    "K = 10\n",
    "target = 'targ' # 'self','targ','avg'\n",
    "norm = 'norm' # 'norm','raw'\n",
    "auto = 'noauto' # 'noauto','all'\n",
    "optim = pyro.optim.Adam({'lr': 0.0005, 'betas': [0.8, 0.99]})\n",
    "elbo = TraceEnum_ELBO(max_plate_nesting=1)"
   ]
  },
  {
   "cell_type": "code",
   "execution_count": null,
   "metadata": {
    "scrolled": true
   },
   "outputs": [],
   "source": [
    "seed_targ_norm_noauto, map_targ_norm_noauto, mem_targ_norm_noauto = tomtom_svi()"
   ]
  },
  {
   "cell_type": "code",
   "execution_count": null,
   "metadata": {},
   "outputs": [],
   "source": [
    "draw_density(map_targ_norm_noauto, mem_targ_norm_noauto)"
   ]
  },
  {
   "cell_type": "markdown",
   "metadata": {},
   "source": [
    "### MCMC"
   ]
  },
  {
   "cell_type": "code",
   "execution_count": null,
   "metadata": {},
   "outputs": [],
   "source": [
    "posterior_samples_targ_norm_noauto = tomtom_mcmc(seed_targ_norm_noauto)\n",
    "posterior_samples_targ_norm_noauto['weights'].shape"
   ]
  },
  {
   "cell_type": "code",
   "execution_count": null,
   "metadata": {
    "scrolled": true
   },
   "outputs": [],
   "source": [
    "#X = posterior_samples['concentration'][:,0,0,0]\n",
    "X = posterior_samples_targ_norm_noauto['weights'][:,0]\n",
    "\n",
    "#pyplot.figure(figsize=(8, 8), dpi=100).set_facecolor('white')\n",
    "pyplot.plot(np.arange(X.numpy().size),X.numpy())\n",
    "#pyplot.contour(np.log(h + 3).T, extent=[xs.min(), xs.max(), ys.min(), ys.max()],\n",
    "#               colors='white', alpha=0.8)\n",
    "pyplot.title('Sampling trace of top left concentration with NUTS')\n",
    "pyplot.ylabel('Sample value')\n",
    "pyplot.xlabel('Step')\n",
    "pyplot.tight_layout()"
   ]
  },
  {
   "cell_type": "markdown",
   "metadata": {},
   "source": [
    "## Target specific ratings, Raw, with autotransitions"
   ]
  },
  {
   "cell_type": "markdown",
   "metadata": {},
   "source": [
    "### SVI"
   ]
  },
  {
   "cell_type": "code",
   "execution_count": null,
   "metadata": {},
   "outputs": [],
   "source": [
    "K = 10\n",
    "target = 'targ' # 'self','targ','avg'\n",
    "norm = 'raw' # 'norm','raw'\n",
    "auto = 'all' # 'noauto','all'\n",
    "optim = pyro.optim.Adam({'lr': 0.0005, 'betas': [0.8, 0.99]})\n",
    "elbo = TraceEnum_ELBO(max_plate_nesting=1)"
   ]
  },
  {
   "cell_type": "code",
   "execution_count": null,
   "metadata": {
    "scrolled": true
   },
   "outputs": [],
   "source": [
    "seed_targ_raw_all, map_targ_raw_all, mem_targ_raw_all = tomtom_svi()"
   ]
  },
  {
   "cell_type": "code",
   "execution_count": null,
   "metadata": {},
   "outputs": [],
   "source": [
    "draw_density(map_targ_raw_all, mem_targ_raw_all)"
   ]
  },
  {
   "cell_type": "markdown",
   "metadata": {},
   "source": [
    "### MCMC"
   ]
  },
  {
   "cell_type": "code",
   "execution_count": null,
   "metadata": {},
   "outputs": [],
   "source": [
    "posterior_samples_targ_raw_all = tomtom_mcmc(seed_targ_raw_all)\n",
    "posterior_samples_targ_raw_all['weights'].shape"
   ]
  },
  {
   "cell_type": "code",
   "execution_count": null,
   "metadata": {
    "scrolled": false
   },
   "outputs": [],
   "source": [
    "#X = posterior_samples['concentration'][:,0,0,0]\n",
    "X = posterior_samples_targ_raw_all['weights'][:,0]\n",
    "\n",
    "#pyplot.figure(figsize=(8, 8), dpi=100).set_facecolor('white')\n",
    "pyplot.plot(np.arange(X.numpy().size),X.numpy())\n",
    "#pyplot.contour(np.log(h + 3).T, extent=[xs.min(), xs.max(), ys.min(), ys.max()],\n",
    "#               colors='white', alpha=0.8)\n",
    "pyplot.title('Sampling trace of top left concentration with NUTS')\n",
    "pyplot.ylabel('Sample value')\n",
    "pyplot.xlabel('Step')\n",
    "pyplot.tight_layout()"
   ]
  },
  {
   "cell_type": "markdown",
   "metadata": {},
   "source": [
    "## Target specific ratings, Raw, No autotransitions"
   ]
  },
  {
   "cell_type": "markdown",
   "metadata": {},
   "source": [
    "### SVI"
   ]
  },
  {
   "cell_type": "code",
   "execution_count": null,
   "metadata": {},
   "outputs": [],
   "source": [
    "K = 10\n",
    "target = 'targ' # 'self','targ','avg'\n",
    "norm = 'raw' # 'norm','raw'\n",
    "auto = 'noauto' # 'noauto','all'\n",
    "optim = pyro.optim.Adam({'lr': 0.0005, 'betas': [0.8, 0.99]})\n",
    "elbo = TraceEnum_ELBO(max_plate_nesting=1)"
   ]
  },
  {
   "cell_type": "code",
   "execution_count": null,
   "metadata": {
    "scrolled": true
   },
   "outputs": [],
   "source": [
    "seed_targ_raw_noauto, map_targ_raw_noauto, mem_targ_raw_noauto = tomtom_svi()"
   ]
  },
  {
   "cell_type": "code",
   "execution_count": null,
   "metadata": {},
   "outputs": [],
   "source": [
    "draw_density(map_targ_raw_noauto, mem_targ_raw_noauto)"
   ]
  },
  {
   "cell_type": "markdown",
   "metadata": {},
   "source": [
    "### MCMC"
   ]
  },
  {
   "cell_type": "code",
   "execution_count": null,
   "metadata": {},
   "outputs": [],
   "source": [
    "posterior_samples_targ_raw_noauto = tomtom_mcmc(seed_targ_raw_noauto)\n",
    "posterior_samples_targ_raw_noauto['weights'].shape"
   ]
  },
  {
   "cell_type": "code",
   "execution_count": null,
   "metadata": {
    "scrolled": true
   },
   "outputs": [],
   "source": [
    "#X = posterior_samples['concentration'][:,0,0,0]\n",
    "X = posterior_samples_targ_raw_noauto['weights'][:,0]\n",
    "\n",
    "#pyplot.figure(figsize=(8, 8), dpi=100).set_facecolor('white')\n",
    "pyplot.plot(np.arange(X.numpy().size),X.numpy())\n",
    "#pyplot.contour(np.log(h + 3).T, extent=[xs.min(), xs.max(), ys.min(), ys.max()],\n",
    "#               colors='white', alpha=0.8)\n",
    "pyplot.title('Sampling trace of top left concentration with NUTS')\n",
    "pyplot.ylabel('Sample value')\n",
    "pyplot.xlabel('Step')\n",
    "pyplot.tight_layout()"
   ]
  },
  {
   "cell_type": "markdown",
   "metadata": {},
   "source": [
    "# Group level ratings"
   ]
  },
  {
   "cell_type": "markdown",
   "metadata": {},
   "source": [
    "## Visual Inspections"
   ]
  },
  {
   "cell_type": "code",
   "execution_count": null,
   "metadata": {
    "scrolled": true
   },
   "outputs": [],
   "source": [
    "random.seed(200506)\n",
    "# umap visualization\n",
    "# rudimentary test run of umap on self transition data\n",
    "fit_trans_avg_default = umap.UMAP()\n",
    "u_trans_avg_default = fit_trans_avg_default.fit_transform(trans_avg)"
   ]
  },
  {
   "cell_type": "code",
   "execution_count": null,
   "metadata": {
    "scrolled": true
   },
   "outputs": [],
   "source": [
    "plt.scatter(u_trans_avg_default[:,0],u_trans_avg_default[:,1])"
   ]
  },
  {
   "cell_type": "code",
   "execution_count": null,
   "metadata": {},
   "outputs": [],
   "source": [
    "fit_trans_avg_neighbor30 = umap.UMAP(n_neighbors=30,min_dist=0.05)\n",
    "u_trans_avg_neighbor30 = fit_trans_avg_neighbor30.fit_transform(trans_avg)\n",
    "plt.scatter(u_trans_avg_neighbor30[:,0],u_trans_avg_neighbor30[:,1])"
   ]
  },
  {
   "cell_type": "code",
   "execution_count": null,
   "metadata": {},
   "outputs": [],
   "source": [
    "# pca to see how many dimensions best capture\n",
    "from sklearn.preprocessing import StandardScaler\n",
    "from sklearn.decomposition import PCA\n",
    "scaler = StandardScaler()\n",
    "trans_avg_scaled = scaler.fit_transform(trans_avg)\n",
    "decomp = PCA()\n",
    "trans_avg_pca = decomp.fit(trans_avg_scaled)\n",
    "plt.scatter(list(range(np.shape(trans_avg_pca.explained_variance_ratio_)[0])),np.array(trans_avg_pca.explained_variance_ratio_))"
   ]
  },
  {
   "cell_type": "code",
   "execution_count": null,
   "metadata": {
    "scrolled": true
   },
   "outputs": [],
   "source": [
    "# above pca result suggests 4-6 factors\n",
    "# here we construct a new umap object with 3 dimensions and visulize it to see if there are obv clusters\n",
    "fit_trans_avg_3d = umap.UMAP(n_neighbors=47,min_dist=0,n_components=3)\n",
    "u_trans_avg_3d = fit_trans_avg_3d.fit_transform(trans_avg)\n",
    "\n",
    "# Configure Plotly to be rendered inline in the notebook.\n",
    "plotly.offline.init_notebook_mode()\n",
    "\n",
    "trace = go.Scatter3d(\n",
    "    x=u_trans_avg_3d[:,0],  # <-- Put your data instead\n",
    "    y=u_trans_avg_3d[:,1],  # <-- Put your data instead\n",
    "    z=u_trans_avg_3d[:,2],  # <-- Put your data instead\n",
    "    mode='markers',\n",
    "    marker={\n",
    "        'size': 10,\n",
    "        'opacity': 0.8,\n",
    "        #'color': ,\n",
    "    }\n",
    ")\n",
    "# Configure the layout.\n",
    "layout = go.Layout(\n",
    "    margin={'l': 0, 'r': 0, 'b': 0, 't': 0}\n",
    ")\n",
    "data = [trace]\n",
    "\n",
    "plot_figure = go.Figure(data=data, layout=layout)\n",
    "# Render the plot.\n",
    "plotly.offline.iplot(plot_figure)"
   ]
  },
  {
   "cell_type": "markdown",
   "metadata": {},
   "source": [
    "## Group level ratings, normalized, with autotransitions"
   ]
  },
  {
   "cell_type": "markdown",
   "metadata": {},
   "source": [
    "### SVI"
   ]
  },
  {
   "cell_type": "code",
   "execution_count": null,
   "metadata": {},
   "outputs": [],
   "source": [
    "K = 10\n",
    "target = 'avg' # 'self','targ','avg'\n",
    "norm = 'norm' # 'norm','raw'\n",
    "auto = 'all' # 'noauto','all'\n",
    "optim = pyro.optim.Adam({'lr': 0.0005, 'betas': [0.8, 0.99]})\n",
    "elbo = TraceEnum_ELBO(max_plate_nesting=1)"
   ]
  },
  {
   "cell_type": "code",
   "execution_count": null,
   "metadata": {
    "scrolled": true
   },
   "outputs": [],
   "source": [
    "seed_avg_norm_all, map_avg_norm_all, mem_avg_norm_all = tomtom_svi()"
   ]
  },
  {
   "cell_type": "code",
   "execution_count": null,
   "metadata": {},
   "outputs": [],
   "source": [
    "draw_density(map_avg_norm_all, mem_avg_norm_all)"
   ]
  },
  {
   "cell_type": "markdown",
   "metadata": {},
   "source": [
    "### MCMC"
   ]
  },
  {
   "cell_type": "code",
   "execution_count": null,
   "metadata": {},
   "outputs": [],
   "source": [
    "posterior_samples_avg_norm_all = tomtom_mcmc(seed_avg_norm_all)\n",
    "posterior_samples_avg_norm_all['weights'].shape"
   ]
  },
  {
   "cell_type": "code",
   "execution_count": null,
   "metadata": {
    "scrolled": true
   },
   "outputs": [],
   "source": [
    "#X = posterior_samples['concentration'][:,0,0,0]\n",
    "X = posterior_samples_avg_norm_all['weights'][:,0]\n",
    "\n",
    "#pyplot.figure(figsize=(8, 8), dpi=100).set_facecolor('white')\n",
    "pyplot.plot(np.arange(X.numpy().size),X.numpy())\n",
    "#pyplot.contour(np.log(h + 3).T, extent=[xs.min(), xs.max(), ys.min(), ys.max()],\n",
    "#               colors='white', alpha=0.8)\n",
    "pyplot.title('Sampling trace of top left concentration with NUTS')\n",
    "pyplot.ylabel('Sample value')\n",
    "pyplot.xlabel('Step')\n",
    "pyplot.tight_layout()"
   ]
  },
  {
   "cell_type": "markdown",
   "metadata": {},
   "source": [
    "## Group level ratings, normalized, No autotransitions"
   ]
  },
  {
   "cell_type": "markdown",
   "metadata": {},
   "source": [
    "### SVI"
   ]
  },
  {
   "cell_type": "code",
   "execution_count": null,
   "metadata": {},
   "outputs": [],
   "source": [
    "K = 10\n",
    "target = 'avg' # 'self','targ','avg'\n",
    "norm = 'norm' # 'norm','raw'\n",
    "auto = 'noauto' # 'noauto','all'\n",
    "optim = pyro.optim.Adam({'lr': 0.0005, 'betas': [0.8, 0.99]})\n",
    "elbo = TraceEnum_ELBO(max_plate_nesting=1)"
   ]
  },
  {
   "cell_type": "code",
   "execution_count": null,
   "metadata": {
    "scrolled": true
   },
   "outputs": [],
   "source": [
    "seed_avg_norm_noauto, map_avg_norm_noauto, mem_avg_norm_noauto = tomtom_svi()"
   ]
  },
  {
   "cell_type": "code",
   "execution_count": null,
   "metadata": {},
   "outputs": [],
   "source": [
    "draw_density(map_avg_norm_noauto, mem_avg_norm_noauto)"
   ]
  },
  {
   "cell_type": "markdown",
   "metadata": {},
   "source": [
    "### MCMC"
   ]
  },
  {
   "cell_type": "code",
   "execution_count": null,
   "metadata": {},
   "outputs": [],
   "source": [
    "posterior_samples_avg_norm_noauto = tomtom_mcmc(seed_avg_norm_noauto)\n",
    "posterior_samples_avg_norm_noauto['weights'].shape"
   ]
  },
  {
   "cell_type": "code",
   "execution_count": null,
   "metadata": {
    "scrolled": true
   },
   "outputs": [],
   "source": [
    "#X = posterior_samples['concentration'][:,0,0,0]\n",
    "X = posterior_samples_avg_norm_noauto['weights'][:,0]\n",
    "\n",
    "#pyplot.figure(figsize=(8, 8), dpi=100).set_facecolor('white')\n",
    "pyplot.plot(np.arange(X.numpy().size),X.numpy())\n",
    "#pyplot.contour(np.log(h + 3).T, extent=[xs.min(), xs.max(), ys.min(), ys.max()],\n",
    "#               colors='white', alpha=0.8)\n",
    "pyplot.title('Sampling trace of top left concentration with NUTS')\n",
    "pyplot.ylabel('Sample value')\n",
    "pyplot.xlabel('Step')\n",
    "pyplot.tight_layout()"
   ]
  },
  {
   "cell_type": "markdown",
   "metadata": {},
   "source": [
    "## Group level ratings, Raw, with autotransitions"
   ]
  },
  {
   "cell_type": "markdown",
   "metadata": {},
   "source": [
    "### SVI"
   ]
  },
  {
   "cell_type": "code",
   "execution_count": null,
   "metadata": {},
   "outputs": [],
   "source": [
    "K = 10\n",
    "target = 'avg' # 'self','targ','avg'\n",
    "norm = 'raw' # 'norm','raw'\n",
    "auto = 'all' # 'noauto','all'\n",
    "optim = pyro.optim.Adam({'lr': 0.0005, 'betas': [0.8, 0.99]})\n",
    "elbo = TraceEnum_ELBO(max_plate_nesting=1)"
   ]
  },
  {
   "cell_type": "code",
   "execution_count": null,
   "metadata": {
    "scrolled": true
   },
   "outputs": [],
   "source": [
    "seed_avg_raw_all, map_avg_raw_all, mem_avg_raw_all = tomtom_svi()"
   ]
  },
  {
   "cell_type": "code",
   "execution_count": null,
   "metadata": {},
   "outputs": [],
   "source": [
    "draw_density(map_avg_raw_all, mem_avg_raw_all)"
   ]
  },
  {
   "cell_type": "markdown",
   "metadata": {},
   "source": [
    "### MCMC"
   ]
  },
  {
   "cell_type": "code",
   "execution_count": null,
   "metadata": {},
   "outputs": [],
   "source": [
    "posterior_samples_avg_raw_all = tomtom_mcmc(seed_avg_raw_all)\n",
    "posterior_samples_avg_raw_all['weights'].shape"
   ]
  },
  {
   "cell_type": "code",
   "execution_count": null,
   "metadata": {
    "scrolled": false
   },
   "outputs": [],
   "source": [
    "#X = posterior_samples['concentration'][:,0,0,0]\n",
    "X = posterior_samples_avg_raw_all['weights'][:,0]\n",
    "\n",
    "#pyplot.figure(figsize=(8, 8), dpi=100).set_facecolor('white')\n",
    "pyplot.plot(np.arange(X.numpy().size),X.numpy())\n",
    "#pyplot.contour(np.log(h + 3).T, extent=[xs.min(), xs.max(), ys.min(), ys.max()],\n",
    "#               colors='white', alpha=0.8)\n",
    "pyplot.title('Sampling trace of top left concentration with NUTS')\n",
    "pyplot.ylabel('Sample value')\n",
    "pyplot.xlabel('Step')\n",
    "pyplot.tight_layout()"
   ]
  },
  {
   "cell_type": "markdown",
   "metadata": {},
   "source": [
    "## Group level ratings, Raw, No autotransitions"
   ]
  },
  {
   "cell_type": "markdown",
   "metadata": {},
   "source": [
    "### SVI"
   ]
  },
  {
   "cell_type": "code",
   "execution_count": null,
   "metadata": {},
   "outputs": [],
   "source": [
    "K = 10\n",
    "target = 'avg' # 'self','targ','avg'\n",
    "norm = 'raw' # 'norm','raw'\n",
    "auto = 'noauto' # 'noauto','all'\n",
    "optim = pyro.optim.Adam({'lr': 0.0005, 'betas': [0.8, 0.99]})\n",
    "elbo = TraceEnum_ELBO(max_plate_nesting=1)"
   ]
  },
  {
   "cell_type": "code",
   "execution_count": null,
   "metadata": {
    "scrolled": true
   },
   "outputs": [],
   "source": [
    "seed_avg_raw_noauto, map_avg_raw_noauto, mem_avg_raw_noauto = tomtom_svi()"
   ]
  },
  {
   "cell_type": "code",
   "execution_count": null,
   "metadata": {},
   "outputs": [],
   "source": [
    "draw_density(map_avg_raw_noauto, mem_avg_raw_noauto)"
   ]
  },
  {
   "cell_type": "markdown",
   "metadata": {},
   "source": [
    "### MCMC"
   ]
  },
  {
   "cell_type": "code",
   "execution_count": null,
   "metadata": {},
   "outputs": [],
   "source": [
    "posterior_samples_avg_raw_noauto = tomtom_mcmc(seed_avg_raw_noauto)\n",
    "posterior_samples_avg_raw_noauto['weights'].shape"
   ]
  },
  {
   "cell_type": "code",
   "execution_count": null,
   "metadata": {
    "scrolled": true
   },
   "outputs": [],
   "source": [
    "#X = posterior_samples['concentration'][:,0,0,0]\n",
    "X = posterior_samples_avg_raw_noauto['weights'][:,0]\n",
    "\n",
    "#pyplot.figure(figsize=(8, 8), dpi=100).set_facecolor('white')\n",
    "pyplot.plot(np.arange(X.numpy().size),X.numpy())\n",
    "#pyplot.contour(np.log(h + 3).T, extent=[xs.min(), xs.max(), ys.min(), ys.max()],\n",
    "#               colors='white', alpha=0.8)\n",
    "pyplot.title('Sampling trace of top left concentration with NUTS')\n",
    "pyplot.ylabel('Sample value')\n",
    "pyplot.xlabel('Step')\n",
    "pyplot.tight_layout()"
   ]
  },
  {
   "cell_type": "markdown",
   "metadata": {},
   "source": [
    "# Topic model-y tryout"
   ]
  },
  {
   "cell_type": "code",
   "execution_count": null,
   "metadata": {},
   "outputs": [],
   "source": [
    "@config_enumerate()\n",
    "def model_topic(data):\n",
    "    num_topics = 2\n",
    "    nrow = data.shape[1]\n",
    "    ncol = data.shape[2]\n",
    "    print(nrow,ncol)\n",
    "\n",
    "    with pyro.plate('topic', num_topics):\n",
    "        # sample a weight and value for each topic\n",
    "        topic_weights = pyro.sample(\"topic_weights\", dist.Gamma(1. / num_topics, 1.))\n",
    "        topic_concentrations = pyro.sample(\"topic_values\", dist.Gamma(2 * torch.ones(nrow,ncol), 1/3 * torch.ones(nrow,ncol)).to_event(2))\n",
    "        print('topic weights', topic_weights.shape)\n",
    "        print('topic values', topic_concentrations.shape)\n",
    "\n",
    "    with pyro.plate('participants', data.shape[0]):\n",
    "        # sample each participant's idiosyncratic topic mixture\n",
    "        participant_topics = pyro.sample(\"participant_topics\", dist.Dirichlet(topic_weights))\n",
    "        print('participant topics', participant_topics.shape)\n",
    "        \n",
    "        transition_topics = pyro.sample(\"transition_topics\", dist.Categorical(participant_topics),\n",
    "                                        infer={\"enumerate\": \"parallel\"})\n",
    "        print('topics')\n",
    "        print('transition topics', transition_topics.shape)\n",
    "\n",
    "        out = dist.Dirichlet(topic_concentrations[transition_topics]).to_event(1)\n",
    "        print('observation batch:', out.batch_shape)\n",
    "        print('observation event:', out.event_shape)\n",
    "        print('data', data.shape)\n",
    "        data = pyro.sample(\"obs\", dist.Dirichlet(topic_concentrations[transition_topics]),\n",
    "                    obs=data)\n",
    "        print(data)"
   ]
  },
  {
   "cell_type": "code",
   "execution_count": null,
   "metadata": {},
   "outputs": [],
   "source": [
    "model_topic(tself_norm_all_3d)"
   ]
  },
  {
   "cell_type": "code",
   "execution_count": null,
   "metadata": {},
   "outputs": [],
   "source": []
  }
 ],
 "metadata": {
  "kernelspec": {
   "display_name": "Python 3",
   "language": "python",
   "name": "python3"
  },
  "language_info": {
   "codemirror_mode": {
    "name": "ipython",
    "version": 3
   },
   "file_extension": ".py",
   "mimetype": "text/x-python",
   "name": "python",
   "nbconvert_exporter": "python",
   "pygments_lexer": "ipython3",
   "version": "3.7.3"
  }
 },
 "nbformat": 4,
 "nbformat_minor": 2
}
