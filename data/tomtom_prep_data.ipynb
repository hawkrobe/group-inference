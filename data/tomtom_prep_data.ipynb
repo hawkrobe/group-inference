{
 "cells": [
  {
   "cell_type": "code",
   "execution_count": 1,
   "metadata": {},
   "outputs": [
    {
     "name": "stderr",
     "output_type": "stream",
     "text": [
      "C:\\Users\\zhaoz\\AppData\\Local\\Continuum\\anaconda3\\lib\\site-packages\\statsmodels\\tools\\_testing.py:19: FutureWarning: pandas.util.testing is deprecated. Use the functions in the public API at pandas.testing instead.\n",
      "  import pandas.util.testing as tm\n"
     ]
    }
   ],
   "source": [
    "## Data preparation and cleaning\n",
    "# importing required packages\n",
    "import pyreadr\n",
    "import numpy as np\n",
    "import pandas as pd\n",
    "import torch\n",
    "import pickle\n",
    "import scipy.stats\n",
    "import seaborn as sns\n",
    "import matplotlib.pyplot as plt"
   ]
  },
  {
   "cell_type": "code",
   "execution_count": 2,
   "metadata": {},
   "outputs": [
    {
     "name": "stdout",
     "output_type": "stream",
     "text": [
      "shape of self-rating dataframe:  (94, 75)\n",
      "shape of target-rating dataframe:  (94, 75)\n",
      "shape of group-rating dataframe:  (94, 75)\n"
     ]
    }
   ],
   "source": [
    "# import data and convert to python objects\n",
    "# load Rdata object\n",
    "rdata = pyreadr.read_r('det_dfs.Rdata')\n",
    "# pull out separate dataframes, one with choice text, the other with numeric responses\n",
    "df = rdata['df']\n",
    "dfn = rdata['dfn']\n",
    "# df.head()\n",
    "\n",
    "\n",
    "# read in state labels\n",
    "states = pd.read_csv('states.csv')\n",
    "states['statepair'] = states['state1'] + '_' + states['state2']# construct state pair strings\n",
    "# states.head()\n",
    "\n",
    "# extract all the self ratings\n",
    "ind_selfq1 = df.columns.get_loc('X1_Q12_1') # location of the first question\n",
    "trans_self = df.iloc[:,list(range(ind_selfq1,(ind_selfq1+75)))]\n",
    "print('shape of self-rating dataframe: ',trans_self.shape)\n",
    "trans_self.columns = states['statepair'].tolist() # renaming transitioin columns with the corresponding transition pairs\n",
    "\n",
    "# extract all the specific target ratings\n",
    "ind_targq1 = df.columns.get_loc('X1_Q9_1') # location of the first question\n",
    "trans_targ = df.iloc[:,list(range(ind_targq1,(ind_targq1+75)))]\n",
    "print('shape of target-rating dataframe: ', trans_targ.shape)\n",
    "trans_targ.columns = states['statepair'].tolist() # renaming transitioin columns with the corresponding transition pairs\n",
    "\n",
    "# extract all the group level ratings\n",
    "ind_avgq1 = df.columns.get_loc('X1_Q11_1') # location of the first question\n",
    "trans_avg = df.iloc[:,list(range(ind_avgq1,(ind_avgq1+75)))]\n",
    "print('shape of group-rating dataframe: ', trans_avg.shape)\n",
    "trans_avg.columns = states['statepair'].tolist() # renaming transitioin columns with the corresponding transition pairs\n"
   ]
  },
  {
   "cell_type": "code",
   "execution_count": 3,
   "metadata": {},
   "outputs": [],
   "source": [
    "# reusable code for pre processing each of the three sets of ratings into pyro compatible format\n",
    "\n",
    "# altering edge values to avoid rounding errors while sampling\n",
    "def de_edge_raw(t):\n",
    "    t[t == 0] = .0001\n",
    "    t[t == 1] = .9999\n",
    "    return t\n",
    "\n",
    "def de_edge_norm(t):\n",
    "    ## in the normed data there's no 1s\n",
    "    # change 0 to .0001 and decrement the max value of the same row by .0001 \n",
    "    # in order to make sure the row still sums to 1\n",
    "    ind_zero = np.where(t == 0)\n",
    "    t[ind_zero] += .0001\n",
    "    ind_max = np.argmax(t,axis = 2)\n",
    "    for i in np.arange(ind_zero[0].shape[0]):\n",
    "        temp_max = ind_max[ind_zero[0][i],ind_zero[1][i]]\n",
    "        t[ind_zero[0][i],ind_zero[1][i],temp_max] -= .0001\n",
    "    return t\n",
    "\n",
    "def data_transform(trans):\n",
    "    # set the constant for converting probability to frequency\n",
    "    freq_constant = 10000\n",
    "    # indexing autotransition columns\n",
    "    colnames = trans.columns.tolist()\n",
    "    cnsplit = [p.split('_') for p in colnames]\n",
    "    idx_autotransition = [p[0] == p[1] for p in cnsplit] # list of boolean, True = is autotransition\n",
    "    \n",
    "    # 1. normalizing with autotransitions included, one df for probability, one converted to frequency\n",
    "    # initialize 2 dataframes\n",
    "    t_norm_all = pd.DataFrame(columns=trans.columns, index = trans.index)\n",
    "    t_norm_all_f =  pd.DataFrame(columns=trans.columns, index = trans.index)\n",
    "    \n",
    "    # normalize by row-sum every five columns, since the columns are already arranged by from-state in 5\n",
    "    for i in range(0,trans.shape[1],5):\n",
    "        dftemp = trans.iloc[:,i:(i+5)]\n",
    "        dftemp_rowsum = dftemp.sum(axis = 1)\n",
    "        normed_cols = dftemp/dftemp_rowsum[:,np.newaxis]\n",
    "        t_norm_all.iloc[:,i:(i+5)] = normed_cols\n",
    "        t_norm_all_f.iloc[:,i:(i+5)] = (normed_cols * freq_constant).round()\n",
    "        \n",
    "    # 2. two additional dataframes: normed with auto transition but don't contain them\n",
    "    t_norm_all_noauto = t_norm_all.loc[:,[not t for t in idx_autotransition]]\n",
    "    t_norm_all_noauto_f = t_norm_all_f.loc[:,[not t for t in idx_autotransition]]\n",
    "\n",
    "    # 3. finally, normalizing without autotransitions, and also convert to frequency\n",
    "    trans_noauto = trans.loc[:,[not t for t in idx_autotransition]]\n",
    "    t_norm_noauto = pd.DataFrame(columns=trans_noauto.columns, index = trans_noauto.index)\n",
    "    t_norm_noauto_f = pd.DataFrame(columns=trans_noauto.columns, index = trans_noauto.index)\n",
    "\n",
    "    # normalize by row-sum every FOUR columns, grouped by from-state in 4 without autotransition\n",
    "    for i in range(0,trans_noauto.shape[1],4):\n",
    "        dftemp = trans_noauto.iloc[:,i:(i+4)]\n",
    "        dftemp_rowsum = dftemp.sum(axis = 1)\n",
    "        normed_cols = dftemp/dftemp_rowsum[:,np.newaxis]\n",
    "        t_norm_noauto.iloc[:,i:(i+5)] = normed_cols\n",
    "        t_norm_noauto_f.iloc[:,i:(i+5)] = (normed_cols * freq_constant).round()\n",
    "        \n",
    "    t_norm_all_3d = torch.tensor(np.stack([np.array(t_norm_all.iloc[i]).reshape(15,5) \n",
    "                                        for i in np.arange(t_norm_all.shape[0])]).astype('float32'))\n",
    "    t_norm_noauto_3d = torch.tensor(np.stack([np.array(t_norm_noauto.iloc[i]).reshape(15,4) \n",
    "                                            for i in np.arange(t_norm_noauto.shape[0])]).astype('float32'))\n",
    "    t_raw_all_3d = torch.tensor(np.stack([np.array(trans.iloc[i]).reshape(15,5) \n",
    "                                            for i in np.arange(trans.shape[0])]).astype('float32'))\n",
    "    t_raw_noauto_3d = torch.tensor(np.stack([np.array(trans_noauto.iloc[i]).reshape(15,4) \n",
    "                                            for i in np.arange(trans_noauto.shape[0])]).astype('float32'))\n",
    "    \n",
    "    return de_edge_norm(t_norm_all_3d), de_edge_norm(t_norm_noauto_3d), de_edge_raw(t_raw_all_3d/100), de_edge_raw(t_raw_noauto_3d/100)\n",
    "#     return t_norm_all_3d, t_norm_noauto_3d, de_edge(t_raw_all_3d/100), de_edge(t_raw_noauto_3d/100)\n"
   ]
  },
  {
   "cell_type": "code",
   "execution_count": 4,
   "metadata": {
    "scrolled": true
   },
   "outputs": [
    {
     "name": "stderr",
     "output_type": "stream",
     "text": [
      "C:\\Users\\zhaoz\\AppData\\Local\\Continuum\\anaconda3\\lib\\site-packages\\ipykernel_launcher.py:38: FutureWarning: Support for multi-dimensional indexing (e.g. `obj[:, None]`) is deprecated and will be removed in a future version.  Convert to a numpy array before indexing instead.\n",
      "C:\\Users\\zhaoz\\AppData\\Local\\Continuum\\anaconda3\\lib\\site-packages\\ipykernel_launcher.py:55: FutureWarning: Support for multi-dimensional indexing (e.g. `obj[:, None]`) is deprecated and will be removed in a future version.  Convert to a numpy array before indexing instead.\n"
     ]
    }
   ],
   "source": [
    "tself_norm_all_3d, tself_norm_noauto_3d, tself_raw_all_3d, tself_raw_noauto_3d = data_transform(trans_self)\n",
    "ttarg_norm_all_3d, ttarg_norm_noauto_3d, ttarg_raw_all_3d, ttarg_raw_noauto_3d = data_transform(trans_targ)\n",
    "tavg_norm_all_3d, tavg_norm_noauto_3d, tavg_raw_all_3d, tavg_raw_noauto_3d = data_transform(trans_avg)\n"
   ]
  },
  {
   "cell_type": "code",
   "execution_count": 5,
   "metadata": {},
   "outputs": [],
   "source": [
    "# # save data to file for easy import\n",
    "# with open('tomtom_data_preprocessed.pkl', 'wb') as f:  \n",
    "#     pickle.dump([tself_norm_all_3d, tself_norm_noauto_3d, tself_raw_all_3d, tself_raw_noauto_3d,\n",
    "#                  ttarg_norm_all_3d, ttarg_norm_noauto_3d, ttarg_raw_all_3d, ttarg_raw_noauto_3d,\n",
    "#                  tavg_norm_all_3d, tavg_norm_noauto_3d, tavg_raw_all_3d, tavg_raw_noauto_3d], f)\n"
   ]
  },
  {
   "cell_type": "code",
   "execution_count": 6,
   "metadata": {},
   "outputs": [
    {
     "name": "stdout",
     "output_type": "stream",
     "text": [
      "The spread of self ratings:  0.5710433236550672\n",
      "The spread of target ratings:  0.5042138201358816\n",
      "The spread of group ratings:  0.6135978109836753\n"
     ]
    },
    {
     "data": {
      "text/plain": [
       "Ttest_relResult(statistic=-44.555126397363594, pvalue=0.0)"
      ]
     },
     "execution_count": 6,
     "metadata": {},
     "output_type": "execute_result"
    }
   ],
   "source": [
    "# inspect the \"spread\" of target vs group ratings using pairwise correlation between subjects\n",
    "# getting pairwise correlations\n",
    "trans_self_corbtsub = trans_self.transpose().corr()\n",
    "trans_targ_corbtsub = trans_targ.transpose().corr()\n",
    "trans_avg_corbtsub = trans_avg.transpose().corr()\n",
    "\n",
    "# get the mean pairwise correlation for each of the three sets of correlations\n",
    "def mean_pairwise_corr(corbtsub):\n",
    "    corbtsub = np.array(corbtsub)\n",
    "    corbtsub_flat = corbtsub[np.tril_indices(corbtsub.shape[0],-1)] # gett lower triangle and flatten\n",
    "#     print(corbtsub_flat.shape)\n",
    "    return corbtsub_flat, np.nanmean(corbtsub_flat)\n",
    "\n",
    "trans_self_pairwiseflat, trans_self_meanpairwise = mean_pairwise_corr(trans_self_corbtsub)\n",
    "trans_targ_pairwiseflat, trans_targ_meanpairwise = mean_pairwise_corr(trans_targ_corbtsub)\n",
    "trans_avg_pairwiseflat, trans_avg_meanpairwise = mean_pairwise_corr(trans_avg_corbtsub)\n",
    "\n",
    "print('The spread of self ratings: ', trans_self_meanpairwise)\n",
    "print('The spread of target ratings: ', trans_targ_meanpairwise)\n",
    "print('The spread of group ratings: ', trans_avg_meanpairwise)\n",
    "\n",
    "scipy.stats.ttest_rel(trans_targ_pairwiseflat,trans_avg_pairwiseflat, nan_policy='omit')"
   ]
  },
  {
   "cell_type": "code",
   "execution_count": 7,
   "metadata": {},
   "outputs": [
    {
     "data": {
      "image/png": "[encoded data removed]",
      "text/plain": [
       "<Figure size 432x288 with 1 Axes>"
      ]
     },
     "metadata": {
      "needs_background": "light"
     },
     "output_type": "display_data"
    }
   ],
   "source": [
    "# Additional way to look at the spread of specific vs group: looking at the variance for each of the items\n",
    "# the graph shows less spread at the item level for group ratings than for self or target specific ratings.\n",
    "itemvar_trans_self = trans_self.var(axis = 0)\n",
    "itemvar_trans_targ = trans_targ.var(axis = 0)\n",
    "itemvar_trans_avg = trans_avg.var(axis = 0)\n",
    "\n",
    "sns.distplot(itemvar_trans_self, label='Self')\n",
    "sns.distplot(itemvar_trans_targ, label='Target')\n",
    "sns.distplot(itemvar_trans_avg, label='Group')\n",
    "plt.legend()\n",
    "plt.show()"
   ]
  }
 ],
 "metadata": {
  "kernelspec": {
   "display_name": "Python 3",
   "language": "python",
   "name": "python3"
  },
  "language_info": {
   "codemirror_mode": {
    "name": "ipython",
    "version": 3
   },
   "file_extension": ".py",
   "mimetype": "text/x-python",
   "name": "python",
   "nbconvert_exporter": "python",
   "pygments_lexer": "ipython3",
   "version": "3.8.5"
  }
 },
 "nbformat": 4,
 "nbformat_minor": 2
}
