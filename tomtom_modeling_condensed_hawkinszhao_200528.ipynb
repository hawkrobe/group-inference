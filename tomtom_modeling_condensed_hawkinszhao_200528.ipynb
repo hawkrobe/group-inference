{
 "cells": [
  {
   "cell_type": "code",
   "execution_count": 1,
   "metadata": {},
   "outputs": [
    {
     "data": {
      "application/javascript": [
       "IPython.notebook.set_autosave_interval(30000)"
      ]
     },
     "metadata": {},
     "output_type": "display_data"
    },
    {
     "name": "stdout",
     "output_type": "stream",
     "text": [
      "Autosaving every 30 seconds\n"
     ]
    }
   ],
   "source": [
    "import os\n",
    "from collections import defaultdict\n",
    "import torch\n",
    "import numpy as np\n",
    "import scipy.stats\n",
    "from torch.distributions import constraints\n",
    "from matplotlib import pyplot\n",
    "import random\n",
    "\n",
    "import pyro\n",
    "import pyro.distributions as dist\n",
    "from pyro import poutine\n",
    "from pyro.infer.autoguide import AutoDelta\n",
    "from pyro.optim import Adam\n",
    "from pyro.infer import SVI, TraceEnum_ELBO, config_enumerate, infer_discrete, Predictive\n",
    "from pyro.ops.indexing import Vindex\n",
    "from pyro.infer import MCMC, NUTS\n",
    "\n",
    "## Data preparation and cleaning\n",
    "# importing required packages\n",
    "import pyreadr\n",
    "import numpy as np\n",
    "import pandas as pd\n",
    "import seaborn as sns\n",
    "import matplotlib.pyplot as plt\n",
    "%matplotlib inline\n",
    "%autosave 30\n",
    "\n",
    "import umap\n",
    "import plotly\n",
    "import plotly.graph_objs as go\n",
    "\n",
    "import pickle\n",
    "\n",
    "pyro.enable_validation(True)"
   ]
  },
  {
   "cell_type": "markdown",
   "metadata": {},
   "source": [
    "# Data preparation and visualization"
   ]
  },
  {
   "cell_type": "code",
   "execution_count": 2,
   "metadata": {},
   "outputs": [
    {
     "name": "stdout",
     "output_type": "stream",
     "text": [
      "shape of self-rating dataframe:  (94, 75)\n",
      "shape of target-rating dataframe:  (94, 75)\n",
      "shape of group-rating dataframe:  (94, 75)\n"
     ]
    }
   ],
   "source": [
    "# import data and convert to python objects\n",
    "# load Rdata object\n",
    "rdata = pyreadr.read_r('tomtom_data/det_dfs.Rdata')\n",
    "# pull out separate dataframes, one with choice text, the other with numeric responses\n",
    "df = rdata['df']\n",
    "dfn = rdata['dfn']\n",
    "df.head()\n",
    "\n",
    "\n",
    "# read in state labels\n",
    "states = pd.read_csv('tomtom_data/states.csv')\n",
    "states['statepair'] = states['state1'] + '_' + states['state2']# construct state pair strings\n",
    "states.head()\n",
    "\n",
    "# extract all the self ratings\n",
    "ind_selfq1 = df.columns.get_loc('X1_Q12_1') # location of the first question\n",
    "trans_self = df.iloc[:,list(range(ind_selfq1,(ind_selfq1+75)))]\n",
    "print('shape of self-rating dataframe: ',trans_self.shape)\n",
    "trans_self.columns = states['statepair'].tolist() # renaming transitioin columns with the corresponding transition pairs\n",
    "#print(trans_self.columns[1:5])\n",
    "#trans_self.head()\n",
    "# extract all the specific target ratings\n",
    "ind_targq1 = df.columns.get_loc('X1_Q9_1') # location of the first question\n",
    "trans_targ = df.iloc[:,list(range(ind_targq1,(ind_targq1+75)))]\n",
    "print('shape of target-rating dataframe: ', trans_targ.shape)\n",
    "trans_targ.columns = states['statepair'].tolist() # renaming transitioin columns with the corresponding transition pairs\n",
    "#print(trans_targ.columns[1:5])\n",
    "#trans_targ.head()\n",
    "# extract all the group level ratings\n",
    "ind_avgq1 = df.columns.get_loc('X1_Q11_1') # location of the first question\n",
    "trans_avg = df.iloc[:,list(range(ind_avgq1,(ind_avgq1+75)))]\n",
    "print('shape of group-rating dataframe: ', trans_avg.shape)\n",
    "trans_avg.columns = states['statepair'].tolist() # renaming transitioin columns with the corresponding transition pairs\n",
    "#print(trans_avg.columns[1:5])\n",
    "#trans_targ.head()"
   ]
  },
  {
   "cell_type": "code",
   "execution_count": 3,
   "metadata": {},
   "outputs": [
    {
     "name": "stdout",
     "output_type": "stream",
     "text": [
      "The spread of self ratings:  0.5710433236550672\n",
      "The spread of target ratings:  0.5042138201358816\n",
      "The spread of group ratings:  0.6135978109836753\n"
     ]
    },
    {
     "data": {
      "text/plain": [
       "Ttest_relResult(statistic=-44.555126397363594, pvalue=0.0)"
      ]
     },
     "execution_count": 3,
     "metadata": {},
     "output_type": "execute_result"
    }
   ],
   "source": [
    "# inspect the \"spread\" of target vs group ratings using pairwise correlation between subjects\n",
    "# getting pairwise correlations\n",
    "trans_self_corbtsub = trans_self.transpose().corr()\n",
    "trans_targ_corbtsub = trans_targ.transpose().corr()\n",
    "trans_avg_corbtsub = trans_avg.transpose().corr()\n",
    "\n",
    "# get the mean pairwise correlation for each of the three sets of correlations\n",
    "def mean_pairwise_corr(corbtsub):\n",
    "    corbtsub = np.array(corbtsub)\n",
    "    corbtsub_flat = corbtsub[np.tril_indices(corbtsub.shape[0],-1)] # gett lower triangle and flatten\n",
    "#     print(corbtsub_flat.shape)\n",
    "    return corbtsub_flat, np.nanmean(corbtsub_flat)\n",
    "\n",
    "trans_self_pairwiseflat, trans_self_meanpairwise = mean_pairwise_corr(trans_self_corbtsub)\n",
    "trans_targ_pairwiseflat, trans_targ_meanpairwise = mean_pairwise_corr(trans_targ_corbtsub)\n",
    "trans_avg_pairwiseflat, trans_avg_meanpairwise = mean_pairwise_corr(trans_avg_corbtsub)\n",
    "\n",
    "print('The spread of self ratings: ', trans_self_meanpairwise)\n",
    "print('The spread of target ratings: ', trans_targ_meanpairwise)\n",
    "print('The spread of group ratings: ', trans_avg_meanpairwise)\n",
    "\n",
    "scipy.stats.ttest_rel(trans_targ_pairwiseflat,trans_avg_pairwiseflat, nan_policy='omit')"
   ]
  },
  {
   "cell_type": "code",
   "execution_count": 4,
   "metadata": {
    "scrolled": true
   },
   "outputs": [
    {
     "data": {
      "image/png": "[encoded data removed]",
      "text/plain": [
       "<Figure size 432x288 with 1 Axes>"
      ]
     },
     "metadata": {
      "needs_background": "light"
     },
     "output_type": "display_data"
    }
   ],
   "source": [
    "# Additional way to look at the spread of specific vs group: looking at the variance for each of the items\n",
    "# the graph shows less spread at the item level for group ratings than for self or target specific ratings.\n",
    "itemvar_trans_self = trans_self.var(axis = 0)\n",
    "itemvar_trans_targ = trans_targ.var(axis = 0)\n",
    "itemvar_trans_avg = trans_avg.var(axis = 0)\n",
    "\n",
    "sns.distplot(itemvar_trans_self, label='Self')\n",
    "sns.distplot(itemvar_trans_targ, label='Target')\n",
    "sns.distplot(itemvar_trans_avg, label='Group')\n",
    "plt.legend()\n",
    "plt.show()"
   ]
  },
  {
   "cell_type": "code",
   "execution_count": 5,
   "metadata": {},
   "outputs": [],
   "source": [
    "# reusable code for pre processing each of the three sets of ratings into pyro compatible format\n",
    "\n",
    "# altering edge values to avoid rounding errors while sampling\n",
    "def de_edge_raw(t):\n",
    "    t[t == 0] = .0001\n",
    "    t[t == 1] = .9999\n",
    "    return t\n",
    "\n",
    "def de_edge_norm(t):\n",
    "    ## in the normed data there's no 1s\n",
    "    # change 0 to .0001 and decrement the max value of the same row by .0001 \n",
    "    # in order to make sure the row still sums to 1\n",
    "    ind_zero = np.where(t == 0)\n",
    "    t[ind_zero] += .0001\n",
    "    ind_max = np.argmax(t,axis = 2)\n",
    "    for i in np.arange(ind_zero[0].shape[0]):\n",
    "        temp_max = ind_max[ind_zero[0][i],ind_zero[1][i]]\n",
    "        t[ind_zero[0][i],ind_zero[1][i],temp_max] -= .0001\n",
    "    return t\n",
    "\n",
    "def data_transform(trans):\n",
    "    # set the constant for converting probability to frequency\n",
    "    freq_constant = 10000\n",
    "    # indexing autotransition columns\n",
    "    colnames = trans.columns.tolist()\n",
    "    cnsplit = [p.split('_') for p in colnames]\n",
    "    idx_autotransition = [p[0] == p[1] for p in cnsplit] # list of boolean, True = is autotransition\n",
    "    \n",
    "    # 1. normalizing with autotransitions included, one df for probability, one converted to frequency\n",
    "    # initialize 2 dataframes\n",
    "    t_norm_all = pd.DataFrame(columns=trans.columns, index = trans.index)\n",
    "    t_norm_all_f =  pd.DataFrame(columns=trans.columns, index = trans.index)\n",
    "    \n",
    "    # normalize by row-sum every five columns, since the columns are already arranged by from-state in 5\n",
    "    for i in range(0,trans.shape[1],5):\n",
    "        dftemp = trans.iloc[:,i:(i+5)]\n",
    "        dftemp_rowsum = dftemp.sum(axis = 1)\n",
    "        normed_cols = dftemp/dftemp_rowsum[:,np.newaxis]\n",
    "        t_norm_all.iloc[:,i:(i+5)] = normed_cols\n",
    "        t_norm_all_f.iloc[:,i:(i+5)] = (normed_cols * freq_constant).round()\n",
    "        \n",
    "    # 2. two additional dataframes: normed with auto transition but don't contain them\n",
    "    t_norm_all_noauto = t_norm_all.loc[:,[not t for t in idx_autotransition]]\n",
    "    t_norm_all_noauto_f = t_norm_all_f.loc[:,[not t for t in idx_autotransition]]\n",
    "\n",
    "    # 3. finally, normalizing without autotransitions, and also convert to frequency\n",
    "    trans_noauto = trans.loc[:,[not t for t in idx_autotransition]]\n",
    "    t_norm_noauto = pd.DataFrame(columns=trans_noauto.columns, index = trans_noauto.index)\n",
    "    t_norm_noauto_f = pd.DataFrame(columns=trans_noauto.columns, index = trans_noauto.index)\n",
    "\n",
    "    # normalize by row-sum every FOUR columns, grouped by from-state in 4 without autotransition\n",
    "    for i in range(0,trans_noauto.shape[1],4):\n",
    "        dftemp = trans_noauto.iloc[:,i:(i+4)]\n",
    "        dftemp_rowsum = dftemp.sum(axis = 1)\n",
    "        normed_cols = dftemp/dftemp_rowsum[:,np.newaxis]\n",
    "        t_norm_noauto.iloc[:,i:(i+5)] = normed_cols\n",
    "        t_norm_noauto_f.iloc[:,i:(i+5)] = (normed_cols * freq_constant).round()\n",
    "        \n",
    "    t_norm_all_3d = torch.tensor(np.stack([np.array(t_norm_all.iloc[i]).reshape(15,5) \n",
    "                                        for i in np.arange(t_norm_all.shape[0])]).astype('float32'))\n",
    "    t_norm_noauto_3d = torch.tensor(np.stack([np.array(t_norm_noauto.iloc[i]).reshape(15,4) \n",
    "                                            for i in np.arange(t_norm_noauto.shape[0])]).astype('float32'))\n",
    "    t_raw_all_3d = torch.tensor(np.stack([np.array(trans.iloc[i]).reshape(15,5) \n",
    "                                            for i in np.arange(trans.shape[0])]).astype('float32'))\n",
    "    t_raw_noauto_3d = torch.tensor(np.stack([np.array(trans_noauto.iloc[i]).reshape(15,4) \n",
    "                                            for i in np.arange(trans_noauto.shape[0])]).astype('float32'))\n",
    "    \n",
    "    return de_edge_norm(t_norm_all_3d), de_edge_norm(t_norm_noauto_3d), de_edge_raw(t_raw_all_3d/100), de_edge_raw(t_raw_noauto_3d/100)\n",
    "#     return t_norm_all_3d, t_norm_noauto_3d, de_edge(t_raw_all_3d/100), de_edge(t_raw_noauto_3d/100)\n"
   ]
  },
  {
   "cell_type": "code",
   "execution_count": 6,
   "metadata": {
    "scrolled": true
   },
   "outputs": [],
   "source": [
    "global tself_norm_all_3d, tself_norm_noauto_3d, tself_raw_all_3d, tself_raw_noauto_3d\n",
    "global ttarg_norm_all_3d, ttarg_norm_noauto_3d, ttarg_raw_all_3d, ttarg_raw_noauto_3d\n",
    "global tavg_norm_all_3d, tavg_norm_noauto_3d, tavg_raw_all_3d, tavg_raw_noauto_3d\n",
    "tself_norm_all_3d, tself_norm_noauto_3d, tself_raw_all_3d, tself_raw_noauto_3d = data_transform(trans_self)\n",
    "ttarg_norm_all_3d, ttarg_norm_noauto_3d, ttarg_raw_all_3d, ttarg_raw_noauto_3d = data_transform(trans_targ)\n",
    "tavg_norm_all_3d, tavg_norm_noauto_3d, tavg_raw_all_3d, tavg_raw_noauto_3d = data_transform(trans_avg)\n"
   ]
  },
  {
   "cell_type": "markdown",
   "metadata": {},
   "source": [
    "# Function definition"
   ]
  },
  {
   "cell_type": "code",
   "execution_count": 32,
   "metadata": {},
   "outputs": [],
   "source": [
    "# define a model function that's dynamically declared\n",
    "@config_enumerate()\n",
    "def model(data):\n",
    "    # Background probability of different groups (assume equally likely)\n",
    "    weights = pyro.sample('weights', dist.Dirichlet(0.5 * torch.ones(K)))\n",
    "    # declare number of columns based on whether auto-transitions are included\n",
    "    if auto == 'all':\n",
    "        ncol = 5\n",
    "    elif auto == 'noauto':\n",
    "        ncol = 4\n",
    "            \n",
    "    # declare model parameters based on whether the data are row-normalized\n",
    "    if norm == 'norm':\n",
    "        with pyro.plate('components', K):\n",
    "            # concentration parameters\n",
    "            concentration = pyro.sample('concentration', \n",
    "                                        dist.Gamma(2 * torch.ones(15,ncol), 1/3 * torch.ones(15,ncol)).to_event(2))\n",
    "        \n",
    "        with pyro.plate('data', data.shape[0]):\n",
    "            assignment = pyro.sample('assignment', dist.Categorical(weights))\n",
    "            #d = dist.Dirichlet(concentration[assignment,:,:].clone().detach()) # .detach() might interfere with backprop\n",
    "            d = dist.Dirichlet(concentration[assignment,:,:])\n",
    "            pyro.sample('obs', d.to_event(1), obs=data)\n",
    "            \n",
    "    elif norm == 'raw':\n",
    "        with pyro.plate('components', K):\n",
    "            alphas = pyro.sample('alpha', dist.Gamma(2 * torch.ones(15,ncol), 1/3 * torch.ones(15,ncol)).to_event(2))\n",
    "            betas = pyro.sample('beta', dist.Gamma(2 * torch.ones(15,ncol), 1/3 * torch.ones(15,ncol)).to_event(2))\n",
    "            \n",
    "        with pyro.plate('data', data.shape[0]):\n",
    "            assignment = pyro.sample('assignment', dist.Categorical(weights))\n",
    "            d = dist.Beta(alphas[assignment,:,:], betas[assignment,:,:])\n",
    "            pyro.sample('obs', d.to_event(2), obs=data)\n",
    "\n",
    "# function used to initialize model\n",
    "def initialize(seed,model,data):    \n",
    "    global global_guide, svi\n",
    "    pyro.set_rng_seed(seed)\n",
    "    pyro.clear_param_store()\n",
    "    if norm == 'norm':\n",
    "        global_guide = AutoDelta(poutine.block(model, expose=['weights', 'concentration']))\n",
    "    elif norm == 'raw':\n",
    "        global_guide = AutoDelta(poutine.block(model, expose=['weights', 'alpha', 'beta']))\n",
    "    svi = SVI(model, global_guide, optim, loss=elbo)\n",
    "    return svi.loss(model, global_guide, data)\n",
    "            \n",
    "# define a code chunk that does the SVI step for singel variation\n",
    "def tomtom_svi():\n",
    "    pyro.clear_param_store()\n",
    "    \n",
    "    #declare dataset to be modeled\n",
    "    dtname = 't{}_{}_{}_3d'.format(target, norm, auto)\n",
    "    print(\"running SVI with: {}\".format(dtname))\n",
    "    data = globals()[dtname]\n",
    "    \n",
    "    loss, seed = min((initialize(seed,model,data), seed) for seed in range(100))\n",
    "    initialize(seed,model,data)\n",
    "    print('seed = {}, initial_loss = {}'.format(seed, loss))\n",
    "    \n",
    "    gradient_norms = defaultdict(list)\n",
    "    for name, value in pyro.get_param_store().named_parameters():\n",
    "        value.register_hook(lambda g, name=name: gradient_norms[name].append(g.norm().item()))\n",
    "\n",
    "    losses = []\n",
    "    for i in range(3000):\n",
    "        loss = svi.step(data)\n",
    "        #print(loss)\n",
    "        losses.append(loss)\n",
    "        if i % 100 == 0:\n",
    "            print('.',end = '')\n",
    "#             print(loss)\n",
    "    print('\\n final loss: {}\\n'.format(losses[-1]))\n",
    "\n",
    "    map_estimates = global_guide(data)\n",
    "    weights = map_estimates['weights']\n",
    "    print('weights = {}'.format(weights.data.numpy()))\n",
    "    if norm == 'norm':\n",
    "        concentration = map_estimates['concentration']\n",
    "        print('concentration = {}'.format(concentration.data.numpy()))\n",
    "    elif norm == 'raw':\n",
    "        alpha = map_estimates['alpha']\n",
    "        print('alphas = {}'.format(alpha.data.numpy()))\n",
    "        beta = map_estimates['beta']\n",
    "        print('beta = {}'.format(beta.data.numpy()))\n",
    "    return seed, map_estimates\n",
    "\n",
    "def tomtom_mcmc(seed,nsample = 5000, burnin = 1000):\n",
    "    pyro.clear_param_store()\n",
    "    pyro.set_rng_seed(seed)\n",
    "\n",
    "    #declare dataset to be modeled\n",
    "    dtname = 't{}_{}_{}_3d'.format(target, norm, auto)\n",
    "    print(\"running MCMC with: {}\".format(dtname))\n",
    "    data = globals()[dtname]\n",
    "\n",
    "    nuts_kernel = NUTS(model)\n",
    "\n",
    "    mcmc = MCMC(nuts_kernel, num_samples=nsample, warmup_steps=burnin)\n",
    "    mcmc.run(data)\n",
    "    \n",
    "    posterior_samples = mcmc.get_samples()\n",
    "    return posterior_samples\n",
    "                                     \n",
    "                                    "
   ]
  },
  {
   "cell_type": "code",
   "execution_count": 8,
   "metadata": {},
   "outputs": [],
   "source": [
    "# with open('tomtom_mcmc.pkl','rb') as input:\n",
    "#     [posterior_samples_self_norm_all,\n",
    "#     posterior_samples_self_norm_noauto,\n",
    "#     posterior_samples_self_raw_all,\n",
    "#     posterior_samples_self_raw_noauto] = pickle.load(input)"
   ]
  },
  {
   "cell_type": "markdown",
   "metadata": {},
   "source": [
    "# Self ratings"
   ]
  },
  {
   "cell_type": "markdown",
   "metadata": {},
   "source": [
    "## Visual Inspections"
   ]
  },
  {
   "cell_type": "code",
   "execution_count": null,
   "metadata": {
    "scrolled": true
   },
   "outputs": [],
   "source": [
    "random.seed(200515)\n",
    "# umap visualization\n",
    "# rudimentary test run of umap on self transition data\n",
    "fit_trans_self_default = umap.UMAP()\n",
    "u_trans_self_default = fit_trans_self_default.fit_transform(trans_self)"
   ]
  },
  {
   "cell_type": "code",
   "execution_count": null,
   "metadata": {
    "scrolled": false
   },
   "outputs": [],
   "source": [
    "plt.scatter(u_trans_self_default[:,0],u_trans_self_default[:,1])"
   ]
  },
  {
   "cell_type": "code",
   "execution_count": null,
   "metadata": {},
   "outputs": [],
   "source": [
    "fit_trans_self_neighbor30 = umap.UMAP(n_neighbors=15,min_dist=0.05)\n",
    "u_trans_self_neighbor30 = fit_trans_self_neighbor30.fit_transform(trans_self)\n",
    "plt.scatter(u_trans_self_neighbor30[:,0],u_trans_self_neighbor30[:,1])"
   ]
  },
  {
   "cell_type": "code",
   "execution_count": null,
   "metadata": {},
   "outputs": [],
   "source": [
    "# pca to see how many dimensions best capture\n",
    "from sklearn.preprocessing import StandardScaler\n",
    "from sklearn.decomposition import PCA\n",
    "scaler = StandardScaler()\n",
    "trans_self_scaled = scaler.fit_transform(trans_self)\n",
    "decomp = PCA()\n",
    "trans_self_pca = decomp.fit(trans_self_scaled)\n",
    "plt.scatter(list(range(np.shape(trans_self_pca.explained_variance_ratio_)[0])),np.array(trans_self_pca.explained_variance_ratio_))"
   ]
  },
  {
   "cell_type": "code",
   "execution_count": null,
   "metadata": {
    "scrolled": true
   },
   "outputs": [],
   "source": [
    "# above pca result suggests 4-6 factors\n",
    "# here we construct a new umap object with 3 dimensions and visulize it to see if there are obv clusters\n",
    "fit_trans_self_3d = umap.UMAP(n_neighbors=47,min_dist=0,n_components=3)\n",
    "u_trans_self_3d = fit_trans_self_3d.fit_transform(trans_self)\n",
    "\n",
    "# Configure Plotly to be rendered inline in the notebook.\n",
    "plotly.offline.init_notebook_mode()\n",
    "\n",
    "trace = go.Scatter3d(\n",
    "    x=u_trans_self_3d[:,0],  # <-- Put your data instead\n",
    "    y=u_trans_self_3d[:,1],  # <-- Put your data instead\n",
    "    z=u_trans_self_3d[:,2],  # <-- Put your data instead\n",
    "    mode='markers',\n",
    "    marker={\n",
    "        'size': 10,\n",
    "        'opacity': 0.8,\n",
    "        #'color': ,\n",
    "    }\n",
    ")\n",
    "# Configure the layout.\n",
    "layout = go.Layout(\n",
    "    margin={'l': 0, 'r': 0, 'b': 0, 't': 0}\n",
    ")\n",
    "data = [trace]\n",
    "\n",
    "plot_figure = go.Figure(data=data, layout=layout)\n",
    "# Render the plot.\n",
    "plotly.offline.iplot(plot_figure)"
   ]
  },
  {
   "cell_type": "markdown",
   "metadata": {},
   "source": [
    "## Normalized, with Autotransitions"
   ]
  },
  {
   "cell_type": "markdown",
   "metadata": {},
   "source": [
    "### SVI"
   ]
  },
  {
   "cell_type": "code",
   "execution_count": 23,
   "metadata": {},
   "outputs": [],
   "source": [
    "K = 2\n",
    "target = 'self' # 'self','targ','avg'\n",
    "norm = 'norm' # 'norm','raw'\n",
    "auto = 'all' # 'noauto','all'\n",
    "optim = pyro.optim.Adam({'lr': 0.0005, 'betas': [0.8, 0.99]})\n",
    "elbo = TraceEnum_ELBO(max_plate_nesting=1)"
   ]
  },
  {
   "cell_type": "code",
   "execution_count": 24,
   "metadata": {
    "scrolled": true
   },
   "outputs": [
    {
     "name": "stdout",
     "output_type": "stream",
     "text": [
      "running SVI with: tself_norm_all_3d\n",
      "seed = 18, initial_loss = 1607.314697265625\n",
      "..............................\n",
      " final loss: -6748.9931640625\n",
      "\n",
      "weights = [0.61970574 0.38029432]\n",
      "concentration = [[[ 7.3659515   4.0554147   2.2900863   6.803809    5.595425  ]\n",
      "  [ 6.790407    2.7152827   2.4730997   7.2810435   5.586057  ]\n",
      "  [ 2.088247    6.3769374   5.0514965   3.7414823   2.948318  ]\n",
      "  [ 1.6431022   6.32083     7.403025    2.1794698   2.2774475 ]\n",
      "  [ 7.312853    3.7465158   3.4893582   7.4062843   7.323937  ]\n",
      "  [ 3.1283808   3.9318433   8.212253    7.762928    8.3751955 ]\n",
      "  [ 3.644196    5.7984548   1.720823    3.0503888   1.3325818 ]\n",
      "  [ 3.870595    3.6684065   8.761982    8.819763    9.48627   ]\n",
      "  [ 6.538947    5.5985966   2.7822018   1.9889688   3.3021417 ]\n",
      "  [ 5.2893915   4.6008945  10.38565     9.833348    9.552838  ]\n",
      "  [ 2.4350579   1.6927137   7.1330266   6.8486366   3.7360265 ]\n",
      "  [ 1.918916    1.6723903   7.4323225   8.678087    4.65353   ]\n",
      "  [ 1.231305    1.6924834   3.412794    4.11886     5.5340066 ]\n",
      "  [ 7.0196924   7.423537    1.977062    1.9620326   3.6780653 ]\n",
      "  [ 9.650346    8.332402    3.2821388   2.744306    2.9880922 ]]\n",
      "\n",
      " [[ 4.737214    1.7209576   1.2812779   4.3657985   2.5817664 ]\n",
      "  [ 6.536703    1.7047638   1.4297324   6.630591    4.564731  ]\n",
      "  [ 0.9307255   2.3764362   2.340545    1.6868215   1.9853156 ]\n",
      "  [ 1.1049352   1.8343776   3.100873    0.85632324  1.1405468 ]\n",
      "  [ 2.4352317   1.0195041   0.8598153   1.9107366   1.9846098 ]\n",
      "  [ 1.3668845   1.3275651   4.8108373   4.097378    4.6150966 ]\n",
      "  [ 1.1871119   3.385339    1.2229631   1.4792179   0.7735623 ]\n",
      "  [ 1.5625966   1.557087    6.4927173   6.5427217   7.210167  ]\n",
      "  [ 3.039838    1.8438737   1.1921471   1.3417317   1.5874956 ]\n",
      "  [ 2.1773665   1.3801429   5.107931    3.9049542   4.7274327 ]\n",
      "  [ 1.1300987   1.1055123   3.827051    3.2936773   1.4434596 ]\n",
      "  [ 0.7086142   1.1493299   3.0743327   3.6452057   1.4103088 ]\n",
      "  [ 1.2279104   0.85367453  1.5087422   2.0244994   3.6080384 ]\n",
      "  [ 4.52041     5.12356     1.0833488   1.5409297   1.4013584 ]\n",
      "  [ 3.79569     2.7492714   1.048575    0.6901016   0.74731135]]]\n"
     ]
    }
   ],
   "source": [
    "seed_self_norm_all, map_self_norm_all = tomtom_svi()"
   ]
  },
  {
   "cell_type": "markdown",
   "metadata": {},
   "source": [
    "### MCMC"
   ]
  },
  {
   "cell_type": "code",
   "execution_count": 14,
   "metadata": {},
   "outputs": [
    {
     "name": "stderr",
     "output_type": "stream",
     "text": [
      "\r",
      "Warmup:   0%|                                                                                   | 0/6000 [00:00, ?it/s]"
     ]
    },
    {
     "name": "stdout",
     "output_type": "stream",
     "text": [
      "running MCMC with: tself_norm_all_3d\n"
     ]
    },
    {
     "name": "stderr",
     "output_type": "stream",
     "text": [
      "Sample: 100%|███████████████████████████████████████| 6000/6000 [25:35,  3.91it/s, step size=2.91e-01, acc. prob=0.762]\n"
     ]
    },
    {
     "data": {
      "text/plain": [
       "torch.Size([5000, 2])"
      ]
     },
     "execution_count": 14,
     "metadata": {},
     "output_type": "execute_result"
    }
   ],
   "source": [
    "posterior_samples_self_norm_all = tomtom_mcmc(seed_self_norm_all)\n",
    "posterior_samples_self_norm_all['weights'].shape"
   ]
  },
  {
   "cell_type": "code",
   "execution_count": 16,
   "metadata": {
    "scrolled": false
   },
   "outputs": [
    {
     "data": {
      "image/png": "[encoded data removed]",
      "text/plain": [
       "<Figure size 432x288 with 1 Axes>"
      ]
     },
     "metadata": {
      "needs_background": "light"
     },
     "output_type": "display_data"
    }
   ],
   "source": [
    "#X = posterior_samples['concentration'][:,0,0,0]\n",
    "X = posterior_samples_self_norm_all['weights'][:,1]\n",
    "\n",
    "#pyplot.figure(figsize=(8, 8), dpi=100).set_facecolor('white')\n",
    "pyplot.plot(np.arange(X.numpy().size),X.numpy())\n",
    "#pyplot.contour(np.log(h + 3).T, extent=[xs.min(), xs.max(), ys.min(), ys.max()],\n",
    "#               colors='white', alpha=0.8)\n",
    "pyplot.title('Sampling trace of top left concentration with NUTS')\n",
    "pyplot.ylabel('Sample value')\n",
    "pyplot.xlabel('Step')\n",
    "pyplot.tight_layout()"
   ]
  },
  {
   "cell_type": "markdown",
   "metadata": {},
   "source": [
    "## Normalized, no Autotransitions"
   ]
  },
  {
   "cell_type": "markdown",
   "metadata": {},
   "source": [
    "### SVI"
   ]
  },
  {
   "cell_type": "code",
   "execution_count": 27,
   "metadata": {},
   "outputs": [],
   "source": [
    "K = 4\n",
    "target = 'self' # 'self','targ','avg'\n",
    "norm = 'norm' # 'norm','raw'\n",
    "auto = 'noauto' # 'noauto','all'\n",
    "optim = pyro.optim.Adam({'lr': 0.0005, 'betas': [0.8, 0.99]})\n",
    "elbo = TraceEnum_ELBO(max_plate_nesting=1)"
   ]
  },
  {
   "cell_type": "code",
   "execution_count": 28,
   "metadata": {
    "scrolled": true
   },
   "outputs": [
    {
     "name": "stdout",
     "output_type": "stream",
     "text": [
      "running SVI with: tself_norm_noauto_3d\n",
      "seed = 40, initial_loss = 3276.393798828125\n",
      "..............................\n",
      " final loss: -3747.67578125\n",
      "\n",
      "weights = [0.3904204  0.08617049 0.450394   0.07301497]\n",
      "concentration = [[[11.444359    6.77115     4.7143083   9.1345005 ]\n",
      "  [ 4.456621    3.7087634   9.798256    8.331729  ]\n",
      "  [ 2.8879416   5.693016    4.709612    4.0736227 ]\n",
      "  [ 2.1997795   6.6299973   2.523388    2.695602  ]\n",
      "  [ 8.485411    4.799984    3.9807522   8.559107  ]\n",
      "  [ 6.3567505   6.6982307  12.250469   12.5114355 ]\n",
      "  [ 4.3422737   2.3803043   3.6363974   1.6106465 ]\n",
      "  [ 6.2133064   6.993357   13.20425    13.903656  ]\n",
      "  [ 7.3002386   3.8024077   3.1901462   4.289074  ]\n",
      "  [ 7.078188    6.159778   12.384774   12.0486965 ]\n",
      "  [ 2.5794747   2.373783    6.2077713   3.7619967 ]\n",
      "  [ 2.4102883   2.08638     7.124115    4.802867  ]\n",
      "  [ 1.8499521   1.9398315   3.932386    4.5270166 ]\n",
      "  [ 7.537712    3.030021    2.6205235   4.6604986 ]\n",
      "  [ 6.663859    3.249297    2.7928367   2.602337  ]]\n",
      "\n",
      " [[ 8.154119    1.5588161   1.6362897   6.0688095 ]\n",
      "  [ 1.7447348   1.8023152  10.2896385   9.463348  ]\n",
      "  [ 1.5702887   1.706108    1.8470446   1.4800061 ]\n",
      "  [ 3.0029404   1.3831404   1.8223208   1.5329711 ]\n",
      "  [ 6.039815    1.8280846   1.8727539   5.11643   ]\n",
      "  [ 3.1159403   1.8515722   8.084342    8.236858  ]\n",
      "  [ 2.179281    2.1671047   2.1614997   2.1931741 ]\n",
      "  [ 2.459456    2.4002643  10.021426   11.188465  ]\n",
      "  [ 1.9414209   2.5128171   1.9976779   2.916524  ]\n",
      "  [ 2.1849685   1.7897981   6.3595877   5.4638095 ]\n",
      "  [ 2.5693653   1.9600401   5.268412    2.2833054 ]\n",
      "  [ 2.28038     1.9563694   3.8887389   2.2155511 ]\n",
      "  [ 1.7359649   1.2527525   1.7044094   1.9875863 ]\n",
      "  [ 6.7313385   1.4528259   1.3013775   2.1664379 ]\n",
      "  [ 8.926666    2.498512    2.0266151   3.0397007 ]]\n",
      "\n",
      " [[ 4.235167    1.6028688   1.2295779   2.3940985 ]\n",
      "  [ 1.2645108   1.3007983   5.580228    3.4094105 ]\n",
      "  [ 0.7239013   3.025507    1.7735381   1.4717256 ]\n",
      "  [ 0.9581874   5.459338    0.7651734   1.6674576 ]\n",
      "  [ 3.2110994   1.4792662   1.1782676   2.7395887 ]\n",
      "  [ 1.5222234   1.3494598   5.372524    5.2264104 ]\n",
      "  [ 1.7703549   1.2269782   1.7503778   1.2392967 ]\n",
      "  [ 1.4786426   1.1762062   5.2141347   5.834883  ]\n",
      "  [ 2.4724514   1.185551    1.2484227   1.6490723 ]\n",
      "  [ 1.7364359   1.2213248   4.3163624   3.3270025 ]\n",
      "  [ 0.8296796   0.79036784  3.316894    1.4983014 ]\n",
      "  [ 0.7063934   0.7569234   3.4992807   1.5586259 ]\n",
      "  [ 0.9417222   0.847258    1.9300411   2.70055   ]\n",
      "  [ 5.2206726   1.2085383   1.0842178   1.5469557 ]\n",
      "  [ 4.0472136   0.8346239   1.5540861   1.2525084 ]]\n",
      "\n",
      " [[ 4.6178727   2.2390285   3.4349782   1.5982325 ]\n",
      "  [ 1.2017516   5.585876    5.5815563   3.3393996 ]\n",
      "  [ 5.2937226   5.2937646   5.007377    3.3119273 ]\n",
      "  [ 2.1425335   2.3100612   4.136773    4.857111  ]\n",
      "  [ 2.6955729   1.6752747   5.668665    1.7362522 ]\n",
      "  [ 2.2785654   3.9678595   5.1381955   4.452842  ]\n",
      "  [ 6.5879736   1.2993152   6.971622    1.2024157 ]\n",
      "  [ 1.8112282   1.2097164   5.369421    5.1809316 ]\n",
      "  [ 3.6080496   3.5131164   3.4445388   5.1315737 ]\n",
      "  [ 3.6401048   2.1925251   3.3448772   3.9088664 ]\n",
      "  [ 1.298927    2.5187235   7.074363    6.7596126 ]\n",
      "  [ 2.0472639   1.8563383   8.0197315   6.1555676 ]\n",
      "  [ 2.2441456   5.93158     3.2357075   5.6423078 ]\n",
      "  [ 4.863079    1.5428797   4.5988793   4.099835  ]\n",
      "  [ 5.6456804   2.4788585   3.586023    4.566372  ]]]\n"
     ]
    }
   ],
   "source": [
    "seed_self_norm_noauto, map_self_norm_noauto = tomtom_svi()"
   ]
  },
  {
   "cell_type": "markdown",
   "metadata": {},
   "source": [
    "### MCMC"
   ]
  },
  {
   "cell_type": "code",
   "execution_count": null,
   "metadata": {},
   "outputs": [],
   "source": [
    "posterior_samples_self_norm_noauto = tomtom_mcmc(seed_self_norm_noauto)\n",
    "posterior_samples_self_norm_noauto['weights'].shape"
   ]
  },
  {
   "cell_type": "code",
   "execution_count": null,
   "metadata": {
    "scrolled": false
   },
   "outputs": [],
   "source": [
    "#X = posterior_samples['concentration'][:,0,0,0]\n",
    "X = posterior_samples_self_norm_noauto['weights'][:,0]\n",
    "\n",
    "#pyplot.figure(figsize=(8, 8), dpi=100).set_facecolor('white')\n",
    "pyplot.plot(np.arange(X.numpy().size),X.numpy())\n",
    "#pyplot.contour(np.log(h + 3).T, extent=[xs.min(), xs.max(), ys.min(), ys.max()],\n",
    "#               colors='white', alpha=0.8)\n",
    "pyplot.title('Sampling trace of top left concentration with NUTS')\n",
    "pyplot.ylabel('Sample value')\n",
    "pyplot.xlabel('Step')\n",
    "pyplot.tight_layout()"
   ]
  },
  {
   "cell_type": "markdown",
   "metadata": {},
   "source": [
    "## Raw, with autotransitions"
   ]
  },
  {
   "cell_type": "markdown",
   "metadata": {},
   "source": [
    "### SVI"
   ]
  },
  {
   "cell_type": "code",
   "execution_count": 35,
   "metadata": {},
   "outputs": [],
   "source": [
    "K = 2\n",
    "target = 'self' # 'self','targ','avg'\n",
    "norm = 'raw' # 'norm','raw'\n",
    "auto = 'all' # 'noauto','all'\n",
    "optim = pyro.optim.Adam({'lr': 0.0005, 'betas': [0.8, 0.99]})\n",
    "elbo = TraceEnum_ELBO(max_plate_nesting=1)"
   ]
  },
  {
   "cell_type": "code",
   "execution_count": 36,
   "metadata": {
    "scrolled": true
   },
   "outputs": [
    {
     "name": "stdout",
     "output_type": "stream",
     "text": [
      "running SVI with: tself_raw_all_3d\n",
      "seed = 31, initial_loss = 28616.029296875\n",
      "..............................\n",
      " final loss: -1154.709716796875\n",
      "\n",
      "weights = [0.90075916 0.09924082]\n",
      "alphas = [[[ 6.4947844   1.213055    1.4778461   4.27383     1.6957169 ]\n",
      "  [ 5.539972    1.2392217   0.97237     4.9828124   1.3614473 ]\n",
      "  [ 0.8667997   2.7143054   2.3157341   1.4294803   1.0474187 ]\n",
      "  [ 0.97334296  1.7937162   4.081501    0.9649732   1.1401625 ]\n",
      "  [ 2.755589    0.9660289   1.2370805   1.5493251   2.4514248 ]\n",
      "  [ 1.1680149   1.3512003   5.113312    3.7172654   5.428161  ]\n",
      "  [ 1.4951694   3.7903745   1.2936995   1.563123    0.97572964]\n",
      "  [ 1.2423402   1.3978074   3.7870402   5.744174    8.642322  ]\n",
      "  [ 4.7074423   2.399359    1.1263129   1.2274355   1.8789662 ]\n",
      "  [ 1.3989091   1.1580758   7.947257    4.031546    4.4666986 ]\n",
      "  [ 1.196226    1.2360672   3.4269736   1.7899394   1.2755492 ]\n",
      "  [ 1.2901853   1.2628058   1.6309716   3.7806628   1.0078574 ]\n",
      "  [ 1.5208482   0.85131997  1.1527308   1.3264368   3.4612617 ]\n",
      "  [ 3.1014397   9.634405    1.2399193   1.1063266   0.82791734]\n",
      "  [ 5.7248874   1.8153731   1.3314301   0.86161727  1.0077317 ]]\n",
      "\n",
      " [[ 3.7831004   4.631145    3.0880368   6.408225    3.6491582 ]\n",
      "  [ 4.5672      4.413673    3.30272     4.7378035   5.020884  ]\n",
      "  [ 3.0326993   7.051465    3.598225    7.2567854   3.2516418 ]\n",
      "  [ 2.4412558   4.7069626   5.819068    2.169616    4.221521  ]\n",
      "  [ 5.662756    6.4745655   3.3115067   4.557323    3.9554327 ]\n",
      "  [ 6.821612    4.8218355  10.58729     3.5631258   8.777111  ]\n",
      "  [ 3.0656965   2.6602128   2.5613787   4.0842886   4.4130645 ]\n",
      "  [ 5.6570854   3.14438     3.449808   10.116386    9.793151  ]\n",
      "  [ 3.6829894   2.9009001   4.4729195   3.0735054   3.5415547 ]\n",
      "  [ 2.5956662   4.875131    9.663051    8.247556    4.7910185 ]\n",
      "  [ 2.3950827   4.358491    7.0814238   5.183382    4.9541593 ]\n",
      "  [ 5.1160035   2.1845696   5.2233777   4.501684    3.6216483 ]\n",
      "  [ 2.372977    2.6858063   3.3783143   4.098987    5.163464  ]\n",
      "  [ 5.4687877   4.7031846   3.286575    2.960755    3.109482  ]\n",
      "  [ 4.966397    4.992198    3.904483    3.4852107   3.992523  ]]]\n",
      "beta = [[[1.2784348  1.6242228  4.295625   1.2778112  1.2292905 ]\n",
      "  [1.3155833  3.1052418  2.0529263  0.91570026 0.68646157]\n",
      "  [1.7540214  1.1260706  1.3756194  1.1645758  1.4119109 ]\n",
      "  [2.770798   1.4206901  1.4109939  2.4479134  2.8373473 ]\n",
      "  [1.2511759  1.600553   1.9749962  0.7395251  1.3367428 ]\n",
      "  [1.6682338  2.5589964  1.0451678  1.0728298  1.1648284 ]\n",
      "  [1.5104722  0.92140156 3.91361    2.0799499  2.194962  ]\n",
      "  [2.1846356  2.9934561  0.67647797 1.3282887  1.1531522 ]\n",
      "  [1.1521467  1.6163137  1.9367733  2.949897   1.4999576 ]\n",
      "  [1.5979968  2.4507551  1.6763524  1.5945188  1.2643629 ]\n",
      "  [3.5055985  4.9755073  1.4147997  0.89653045 1.9697822 ]\n",
      "  [6.891127   8.650477   0.8896524  1.4084003  1.5835649 ]\n",
      "  [6.2809997  2.1932554  1.5009687  1.1554731  1.2061793 ]\n",
      "  [0.7390534  1.295236   3.1347961  3.712109   1.1946259 ]\n",
      "  [1.0098037  0.7519636  3.1252646  2.8291237  2.5968413 ]]\n",
      "\n",
      " [[1.6892068  4.800444   5.8206706  3.1567745  2.6530614 ]\n",
      "  [2.4608498  6.916092   5.081511   2.0295131  2.483023  ]\n",
      "  [5.033679   2.4579303  1.8680516  5.301339   2.9374132 ]\n",
      "  [5.9678206  1.5545367  2.1791685  5.570675   5.1618867 ]\n",
      "  [3.2537858  5.1498227  5.5620275  3.0720778  3.11801   ]\n",
      "  [5.596926   3.9937384  3.2416372  2.2443469  2.1241372 ]\n",
      "  [2.173453   0.9121141  4.119291   3.5871215  6.12522   ]\n",
      "  [4.675487   3.1022973  1.8810499  2.42791    1.8883772 ]\n",
      "  [1.1687342  1.9297622  3.9663427  4.3285675  2.9419253 ]\n",
      "  [2.9317913  6.26241    2.3888557  2.6682913  2.3146844 ]\n",
      "  [3.1186736  4.3720846  3.5256236  2.5527003  6.0455704 ]\n",
      "  [9.442091   4.4766107  2.8707576  3.0238166  3.798226  ]\n",
      "  [4.026871   5.8220496  3.2331948  3.9650857  2.804087  ]\n",
      "  [1.7406393  2.1993194  3.1999602  6.0322776  2.5975132 ]\n",
      "  [2.4476492  2.3208766  3.6377242  6.566981   5.208477  ]]]\n"
     ]
    }
   ],
   "source": [
    "seed_self_raw_all, map_self_raw_all = tomtom_svi()"
   ]
  },
  {
   "cell_type": "markdown",
   "metadata": {},
   "source": [
    "### MCMC"
   ]
  },
  {
   "cell_type": "code",
   "execution_count": null,
   "metadata": {},
   "outputs": [],
   "source": [
    "posterior_samples_self_raw_all = tomtom_mcmc(seed_self_raw_all)\n",
    "posterior_samples_self_raw_all['weights'].shape"
   ]
  },
  {
   "cell_type": "code",
   "execution_count": null,
   "metadata": {
    "scrolled": true
   },
   "outputs": [],
   "source": [
    "#X = posterior_samples['concentration'][:,0,0,0]\n",
    "X = posterior_samples_self_raw_all['weights'][:,0]\n",
    "\n",
    "#pyplot.figure(figsize=(8, 8), dpi=100).set_facecolor('white')\n",
    "pyplot.plot(np.arange(X.numpy().size),X.numpy())\n",
    "#pyplot.contour(np.log(h + 3).T, extent=[xs.min(), xs.max(), ys.min(), ys.max()],\n",
    "#               colors='white', alpha=0.8)\n",
    "pyplot.title('Sampling trace of top left concentration with NUTS')\n",
    "pyplot.ylabel('Sample value')\n",
    "pyplot.xlabel('Step')\n",
    "pyplot.tight_layout()"
   ]
  },
  {
   "cell_type": "markdown",
   "metadata": {},
   "source": [
    "## Raw, without autotransitions"
   ]
  },
  {
   "cell_type": "markdown",
   "metadata": {},
   "source": [
    "### SVI"
   ]
  },
  {
   "cell_type": "code",
   "execution_count": 37,
   "metadata": {},
   "outputs": [],
   "source": [
    "K = 2\n",
    "target = 'self' # 'self','targ','avg'\n",
    "norm = 'raw' # 'norm','raw'\n",
    "auto = 'noauto' # 'noauto','all'\n",
    "optim = pyro.optim.Adam({'lr': 0.0005, 'betas': [0.8, 0.99]})\n",
    "elbo = TraceEnum_ELBO(max_plate_nesting=1)"
   ]
  },
  {
   "cell_type": "code",
   "execution_count": 38,
   "metadata": {
    "scrolled": true
   },
   "outputs": [
    {
     "name": "stdout",
     "output_type": "stream",
     "text": [
      "running SVI with: tself_raw_noauto_3d\n",
      "seed = 7, initial_loss = 17220.7578125\n",
      "..............................\n",
      " final loss: -1183.563720703125\n",
      "\n",
      "weights = [0.55296254 0.44703746]\n",
      "alphas = [[[5.3760557  1.4041181  1.3553767  2.1306615 ]\n",
      "  [1.4715848  1.0445079  6.384801   2.2970276 ]\n",
      "  [1.0663307  2.094435   1.6886896  1.2306862 ]\n",
      "  [1.1814449  2.9768307  1.3803353  1.2280813 ]\n",
      "  [2.529727   0.93393433 1.8417283  2.5994039 ]\n",
      "  [1.3149413  1.5011585  5.518318   5.8304667 ]\n",
      "  [2.0933015  1.1879052  1.6979834  1.4290034 ]\n",
      "  [1.3240012  2.0266426  5.881065   7.374322  ]\n",
      "  [3.038057   1.0151465  1.3586067  1.9458133 ]\n",
      "  [1.9595304  1.5830814  4.7076364  6.6570883 ]\n",
      "  [1.6187291  1.2422104  2.8043315  1.2966183 ]\n",
      "  [1.3090074  1.6032526  2.640947   1.4455388 ]\n",
      "  [1.2784518  1.4442897  1.5910308  1.937343  ]\n",
      "  [5.900097   1.1942412  0.9451342  1.2303582 ]\n",
      "  [3.0264437  1.5832713  1.2172024  1.146591  ]]\n",
      "\n",
      " [[5.1380205  1.2822267  1.0682133  1.6618522 ]\n",
      "  [1.3023033  1.2008442  6.2246995  2.0939262 ]\n",
      "  [1.6947386  1.7965002  1.492623   1.6693107 ]\n",
      "  [0.9750667  1.2992073  1.376185   1.6401578 ]\n",
      "  [3.4049206  1.023045   1.4247583  2.30452   ]\n",
      "  [1.4062401  1.393398   6.8348336  3.3149676 ]\n",
      "  [0.99237704 1.1967528  1.3627238  0.96917707]\n",
      "  [1.2189978  0.97698987 5.553718   7.980439  ]\n",
      "  [1.6905544  1.1435944  1.4977922  0.8779143 ]\n",
      "  [1.6549698  1.2538277  7.0684814  1.8086005 ]\n",
      "  [1.5855435  0.99709517 2.1924593  1.2016857 ]\n",
      "  [0.79294664 0.8008171  1.661174   1.2372811 ]\n",
      "  [1.2424222  1.1270486  1.621715   1.3825364 ]\n",
      "  [4.6099567  1.4656534  1.4073048  1.074378  ]\n",
      "  [2.9137661  1.0572108  0.74467844 1.1848377 ]]]\n",
      "beta = [[[ 1.1174455   1.4298961   2.7706318   1.1798235 ]\n",
      "  [ 2.3089693   1.4377911   1.2666895   1.2038804 ]\n",
      "  [ 1.4288698   0.8957496   0.9072538   1.1868299 ]\n",
      "  [ 2.3941004   1.0682917   2.2142437   2.0357609 ]\n",
      "  [ 1.1018903   1.051085    2.0648923   1.2208123 ]\n",
      "  [ 1.7696525   1.7308291   1.1438775   0.9855535 ]\n",
      "  [ 1.6865627   2.553826    1.6041315   2.2194948 ]\n",
      "  [ 1.5595568   2.4211533   1.12844     0.88320976]\n",
      "  [ 1.1946527   0.903673    2.3559122   1.3645519 ]\n",
      "  [ 1.5445361   2.2278244   0.87322533  1.3816272 ]\n",
      "  [ 2.698658    2.5743642   1.49686     1.704352  ]\n",
      "  [ 4.601896    5.758549    1.3245348   1.5963979 ]\n",
      "  [ 3.6914477   2.3448162   1.2682165   1.0664698 ]\n",
      "  [ 1.4395682   1.6814862   2.063021    1.042489  ]\n",
      "  [ 1.1790869   2.0250793   2.4835823   1.8791718 ]]\n",
      "\n",
      " [[ 1.2029297   2.4643168   5.615154    1.2298317 ]\n",
      "  [ 7.4060545   6.5712714   1.3955474   1.2572064 ]\n",
      "  [ 7.530611    1.3336732   2.1479049   3.024797  ]\n",
      "  [ 4.949143    1.5637654   8.963857    6.8324018 ]\n",
      "  [ 1.698609    3.4317837   3.9146845   1.6587795 ]\n",
      "  [ 2.1183543   5.4557877   1.5254148   0.88007015]\n",
      "  [ 1.6900258   5.512594    3.0166206   3.3375688 ]\n",
      "  [ 3.7137985   4.823241    1.5434412   1.2883832 ]\n",
      "  [ 1.4188542   3.0278335   5.2209253   1.5012507 ]\n",
      "  [ 3.0769129   4.4261556   1.7141334   1.0179509 ]\n",
      "  [10.272172   11.812561    1.263925    2.8441951 ]\n",
      "  [ 5.867136   11.56894     0.9375061   2.9172823 ]\n",
      "  [ 6.8025064   6.568231    2.1236439   1.7239951 ]\n",
      "  [ 1.3415198  11.737586   12.100529    2.6955895 ]\n",
      "  [ 1.6819478   8.419227    5.3739233   6.193673  ]]]\n"
     ]
    }
   ],
   "source": [
    "seed_self_raw_noauto, map_self_raw_noauto = tomtom_svi()"
   ]
  },
  {
   "cell_type": "markdown",
   "metadata": {},
   "source": [
    "### MCMC"
   ]
  },
  {
   "cell_type": "code",
   "execution_count": null,
   "metadata": {},
   "outputs": [],
   "source": [
    "posterior_samples_self_raw_noauto = tomtom_mcmc(seed_self_raw_noauto)\n",
    "posterior_samples_self_raw_noauto['weights'].shape"
   ]
  },
  {
   "cell_type": "code",
   "execution_count": null,
   "metadata": {
    "scrolled": false
   },
   "outputs": [],
   "source": [
    "#X = posterior_samples['concentration'][:,0,0,0]\n",
    "X = posterior_samples_self_raw_noauto['weights'][:,0]\n",
    "\n",
    "#pyplot.figure(figsize=(8, 8), dpi=100).set_facecolor('white')\n",
    "pyplot.plot(np.arange(X.numpy().size),X.numpy())\n",
    "#pyplot.contour(np.log(h + 3).T, extent=[xs.min(), xs.max(), ys.min(), ys.max()],\n",
    "#               colors='white', alpha=0.8)\n",
    "pyplot.title('Sampling trace of top left concentration with NUTS')\n",
    "pyplot.ylabel('Sample value')\n",
    "pyplot.xlabel('Step')\n",
    "pyplot.tight_layout()"
   ]
  },
  {
   "cell_type": "markdown",
   "metadata": {},
   "source": [
    "# Target-specific ratings"
   ]
  },
  {
   "cell_type": "markdown",
   "metadata": {},
   "source": [
    "## Visual Inspections"
   ]
  },
  {
   "cell_type": "code",
   "execution_count": null,
   "metadata": {
    "scrolled": true
   },
   "outputs": [],
   "source": [
    "random.seed(200506)\n",
    "# umap visualization\n",
    "# rudimentary test run of umap on self transition data\n",
    "fit_trans_targ_default = umap.UMAP()\n",
    "u_trans_targ_default = fit_trans_targ_default.fit_transform(trans_targ)"
   ]
  },
  {
   "cell_type": "code",
   "execution_count": null,
   "metadata": {
    "scrolled": true
   },
   "outputs": [],
   "source": [
    "plt.scatter(u_trans_targ_default[:,0],u_trans_targ_default[:,1])"
   ]
  },
  {
   "cell_type": "code",
   "execution_count": null,
   "metadata": {},
   "outputs": [],
   "source": [
    "fit_trans_targ_neighbor30 = umap.UMAP(n_neighbors=30,min_dist=0.05)\n",
    "u_trans_targ_neighbor30 = fit_trans_targ_neighbor30.fit_transform(trans_targ)\n",
    "plt.scatter(u_trans_targ_neighbor30[:,0],u_trans_targ_neighbor30[:,1])"
   ]
  },
  {
   "cell_type": "code",
   "execution_count": null,
   "metadata": {},
   "outputs": [],
   "source": [
    "# pca to see how many dimensions best capture\n",
    "from sklearn.preprocessing import StandardScaler\n",
    "from sklearn.decomposition import PCA\n",
    "scaler = StandardScaler()\n",
    "trans_targ_scaled = scaler.fit_transform(trans_targ)\n",
    "decomp = PCA()\n",
    "trans_targ_pca = decomp.fit(trans_targ_scaled)\n",
    "plt.scatter(list(range(np.shape(trans_targ_pca.explained_variance_ratio_)[0])),np.array(trans_targ_pca.explained_variance_ratio_))"
   ]
  },
  {
   "cell_type": "code",
   "execution_count": null,
   "metadata": {
    "scrolled": true
   },
   "outputs": [],
   "source": [
    "# above pca result suggests 4-6 factors\n",
    "# here we construct a new umap object with 3 dimensions and visulize it to see if there are obv clusters\n",
    "fit_trans_targ_3d = umap.UMAP(n_neighbors=47,min_dist=0,n_components=3)\n",
    "u_trans_targ_3d = fit_trans_targ_3d.fit_transform(trans_targ)\n",
    "\n",
    "# Configure Plotly to be rendered inline in the notebook.\n",
    "plotly.offline.init_notebook_mode()\n",
    "\n",
    "trace = go.Scatter3d(\n",
    "    x=u_trans_targ_3d[:,0],  # <-- Put your data instead\n",
    "    y=u_trans_targ_3d[:,1],  # <-- Put your data instead\n",
    "    z=u_trans_targ_3d[:,2],  # <-- Put your data instead\n",
    "    mode='markers',\n",
    "    marker={\n",
    "        'size': 10,\n",
    "        'opacity': 0.8,\n",
    "        #'color': ,\n",
    "    }\n",
    ")\n",
    "# Configure the layout.\n",
    "layout = go.Layout(\n",
    "    margin={'l': 0, 'r': 0, 'b': 0, 't': 0}\n",
    ")\n",
    "data = [trace]\n",
    "\n",
    "plot_figure = go.Figure(data=data, layout=layout)\n",
    "# Render the plot.\n",
    "plotly.offline.iplot(plot_figure)"
   ]
  },
  {
   "cell_type": "markdown",
   "metadata": {},
   "source": [
    "## Target specific ratings, normalized, with autotransitions"
   ]
  },
  {
   "cell_type": "markdown",
   "metadata": {},
   "source": [
    "### SVI"
   ]
  },
  {
   "cell_type": "code",
   "execution_count": null,
   "metadata": {},
   "outputs": [],
   "source": [
    "K = 2\n",
    "target = 'targ' # 'self','targ','avg'\n",
    "norm = 'norm' # 'norm','raw'\n",
    "auto = 'all' # 'noauto','all'\n",
    "optim = pyro.optim.Adam({'lr': 0.0005, 'betas': [0.8, 0.99]})\n",
    "elbo = TraceEnum_ELBO(max_plate_nesting=1)"
   ]
  },
  {
   "cell_type": "code",
   "execution_count": null,
   "metadata": {
    "scrolled": true
   },
   "outputs": [],
   "source": [
    "seed_targ_norm_all, map_targ_norm_all = tomtom_svi()"
   ]
  },
  {
   "cell_type": "markdown",
   "metadata": {},
   "source": [
    "### MCMC"
   ]
  },
  {
   "cell_type": "code",
   "execution_count": null,
   "metadata": {},
   "outputs": [],
   "source": [
    "posterior_samples_targ_norm_all = tomtom_mcmc(seed_targ_norm_all)\n",
    "posterior_samples_targ_norm_all['weights'].shape"
   ]
  },
  {
   "cell_type": "code",
   "execution_count": null,
   "metadata": {
    "scrolled": true
   },
   "outputs": [],
   "source": [
    "#X = posterior_samples['concentration'][:,0,0,0]\n",
    "X = posterior_samples_targ_norm_all['weights'][:,0]\n",
    "\n",
    "#pyplot.figure(figsize=(8, 8), dpi=100).set_facecolor('white')\n",
    "pyplot.plot(np.arange(X.numpy().size),X.numpy())\n",
    "#pyplot.contour(np.log(h + 3).T, extent=[xs.min(), xs.max(), ys.min(), ys.max()],\n",
    "#               colors='white', alpha=0.8)\n",
    "pyplot.title('Sampling trace of top left concentration with NUTS')\n",
    "pyplot.ylabel('Sample value')\n",
    "pyplot.xlabel('Step')\n",
    "pyplot.tight_layout()"
   ]
  },
  {
   "cell_type": "markdown",
   "metadata": {},
   "source": [
    "## Target specific ratings, normalized, No autotransitions"
   ]
  },
  {
   "cell_type": "markdown",
   "metadata": {},
   "source": [
    "### SVI"
   ]
  },
  {
   "cell_type": "code",
   "execution_count": null,
   "metadata": {},
   "outputs": [],
   "source": [
    "K = 2\n",
    "target = 'targ' # 'self','targ','avg'\n",
    "norm = 'norm' # 'norm','raw'\n",
    "auto = 'noauto' # 'noauto','all'\n",
    "optim = pyro.optim.Adam({'lr': 0.0005, 'betas': [0.8, 0.99]})\n",
    "elbo = TraceEnum_ELBO(max_plate_nesting=1)"
   ]
  },
  {
   "cell_type": "code",
   "execution_count": null,
   "metadata": {
    "scrolled": true
   },
   "outputs": [],
   "source": [
    "seed_targ_norm_noauto, map_targ_norm_noauto = tomtom_svi()"
   ]
  },
  {
   "cell_type": "markdown",
   "metadata": {},
   "source": [
    "### MCMC"
   ]
  },
  {
   "cell_type": "code",
   "execution_count": null,
   "metadata": {},
   "outputs": [],
   "source": [
    "posterior_samples_targ_norm_noauto = tomtom_mcmc(seed_targ_norm_noauto)\n",
    "posterior_samples_targ_norm_noauto['weights'].shape"
   ]
  },
  {
   "cell_type": "code",
   "execution_count": null,
   "metadata": {
    "scrolled": true
   },
   "outputs": [],
   "source": [
    "#X = posterior_samples['concentration'][:,0,0,0]\n",
    "X = posterior_samples_targ_norm_noauto['weights'][:,0]\n",
    "\n",
    "#pyplot.figure(figsize=(8, 8), dpi=100).set_facecolor('white')\n",
    "pyplot.plot(np.arange(X.numpy().size),X.numpy())\n",
    "#pyplot.contour(np.log(h + 3).T, extent=[xs.min(), xs.max(), ys.min(), ys.max()],\n",
    "#               colors='white', alpha=0.8)\n",
    "pyplot.title('Sampling trace of top left concentration with NUTS')\n",
    "pyplot.ylabel('Sample value')\n",
    "pyplot.xlabel('Step')\n",
    "pyplot.tight_layout()"
   ]
  },
  {
   "cell_type": "markdown",
   "metadata": {},
   "source": [
    "## Target specific ratings, Raw, with autotransitions"
   ]
  },
  {
   "cell_type": "markdown",
   "metadata": {},
   "source": [
    "### SVI"
   ]
  },
  {
   "cell_type": "code",
   "execution_count": null,
   "metadata": {},
   "outputs": [],
   "source": [
    "K = 2\n",
    "target = 'targ' # 'self','targ','avg'\n",
    "norm = 'raw' # 'norm','raw'\n",
    "auto = 'all' # 'noauto','all'\n",
    "optim = pyro.optim.Adam({'lr': 0.0005, 'betas': [0.8, 0.99]})\n",
    "elbo = TraceEnum_ELBO(max_plate_nesting=1)"
   ]
  },
  {
   "cell_type": "code",
   "execution_count": null,
   "metadata": {
    "scrolled": true
   },
   "outputs": [],
   "source": [
    "seed_targ_raw_all, map_targ_raw_all = tomtom_svi()"
   ]
  },
  {
   "cell_type": "markdown",
   "metadata": {},
   "source": [
    "### MCMC"
   ]
  },
  {
   "cell_type": "code",
   "execution_count": null,
   "metadata": {},
   "outputs": [],
   "source": [
    "posterior_samples_targ_raw_all = tomtom_mcmc(seed_targ_raw_all)\n",
    "posterior_samples_targ_raw_all['weights'].shape"
   ]
  },
  {
   "cell_type": "code",
   "execution_count": null,
   "metadata": {
    "scrolled": false
   },
   "outputs": [],
   "source": [
    "#X = posterior_samples['concentration'][:,0,0,0]\n",
    "X = posterior_samples_targ_raw_all['weights'][:,0]\n",
    "\n",
    "#pyplot.figure(figsize=(8, 8), dpi=100).set_facecolor('white')\n",
    "pyplot.plot(np.arange(X.numpy().size),X.numpy())\n",
    "#pyplot.contour(np.log(h + 3).T, extent=[xs.min(), xs.max(), ys.min(), ys.max()],\n",
    "#               colors='white', alpha=0.8)\n",
    "pyplot.title('Sampling trace of top left concentration with NUTS')\n",
    "pyplot.ylabel('Sample value')\n",
    "pyplot.xlabel('Step')\n",
    "pyplot.tight_layout()"
   ]
  },
  {
   "cell_type": "markdown",
   "metadata": {},
   "source": [
    "## Target specific ratings, Raw, No autotransitions"
   ]
  },
  {
   "cell_type": "markdown",
   "metadata": {},
   "source": [
    "### SVI"
   ]
  },
  {
   "cell_type": "code",
   "execution_count": null,
   "metadata": {},
   "outputs": [],
   "source": [
    "K = 2\n",
    "target = 'targ' # 'self','targ','avg'\n",
    "norm = 'raw' # 'norm','raw'\n",
    "auto = 'noauto' # 'noauto','all'\n",
    "optim = pyro.optim.Adam({'lr': 0.0005, 'betas': [0.8, 0.99]})\n",
    "elbo = TraceEnum_ELBO(max_plate_nesting=1)"
   ]
  },
  {
   "cell_type": "code",
   "execution_count": null,
   "metadata": {
    "scrolled": true
   },
   "outputs": [],
   "source": [
    "seed_targ_raw_noauto, map_targ_raw_noauto = tomtom_svi()"
   ]
  },
  {
   "cell_type": "markdown",
   "metadata": {},
   "source": [
    "### MCMC"
   ]
  },
  {
   "cell_type": "code",
   "execution_count": null,
   "metadata": {},
   "outputs": [],
   "source": [
    "posterior_samples_targ_raw_noauto = tomtom_mcmc(seed_targ_raw_noauto)\n",
    "posterior_samples_targ_raw_noauto['weights'].shape"
   ]
  },
  {
   "cell_type": "code",
   "execution_count": null,
   "metadata": {
    "scrolled": true
   },
   "outputs": [],
   "source": [
    "#X = posterior_samples['concentration'][:,0,0,0]\n",
    "X = posterior_samples_targ_raw_noauto['weights'][:,0]\n",
    "\n",
    "#pyplot.figure(figsize=(8, 8), dpi=100).set_facecolor('white')\n",
    "pyplot.plot(np.arange(X.numpy().size),X.numpy())\n",
    "#pyplot.contour(np.log(h + 3).T, extent=[xs.min(), xs.max(), ys.min(), ys.max()],\n",
    "#               colors='white', alpha=0.8)\n",
    "pyplot.title('Sampling trace of top left concentration with NUTS')\n",
    "pyplot.ylabel('Sample value')\n",
    "pyplot.xlabel('Step')\n",
    "pyplot.tight_layout()"
   ]
  },
  {
   "cell_type": "markdown",
   "metadata": {},
   "source": [
    "# Group level ratings"
   ]
  },
  {
   "cell_type": "markdown",
   "metadata": {},
   "source": [
    "## Visual Inspections"
   ]
  },
  {
   "cell_type": "code",
   "execution_count": null,
   "metadata": {
    "scrolled": true
   },
   "outputs": [],
   "source": [
    "random.seed(200506)\n",
    "# umap visualization\n",
    "# rudimentary test run of umap on self transition data\n",
    "fit_trans_avg_default = umap.UMAP()\n",
    "u_trans_avg_default = fit_trans_avg_default.fit_transform(trans_avg)"
   ]
  },
  {
   "cell_type": "code",
   "execution_count": null,
   "metadata": {
    "scrolled": true
   },
   "outputs": [],
   "source": [
    "plt.scatter(u_trans_avg_default[:,0],u_trans_avg_default[:,1])"
   ]
  },
  {
   "cell_type": "code",
   "execution_count": null,
   "metadata": {},
   "outputs": [],
   "source": [
    "fit_trans_avg_neighbor30 = umap.UMAP(n_neighbors=30,min_dist=0.05)\n",
    "u_trans_avg_neighbor30 = fit_trans_avg_neighbor30.fit_transform(trans_avg)\n",
    "plt.scatter(u_trans_avg_neighbor30[:,0],u_trans_avg_neighbor30[:,1])"
   ]
  },
  {
   "cell_type": "code",
   "execution_count": null,
   "metadata": {},
   "outputs": [],
   "source": [
    "# pca to see how many dimensions best capture\n",
    "from sklearn.preprocessing import StandardScaler\n",
    "from sklearn.decomposition import PCA\n",
    "scaler = StandardScaler()\n",
    "trans_avg_scaled = scaler.fit_transform(trans_avg)\n",
    "decomp = PCA()\n",
    "trans_avg_pca = decomp.fit(trans_avg_scaled)\n",
    "plt.scatter(list(range(np.shape(trans_avg_pca.explained_variance_ratio_)[0])),np.array(trans_avg_pca.explained_variance_ratio_))"
   ]
  },
  {
   "cell_type": "code",
   "execution_count": null,
   "metadata": {
    "scrolled": true
   },
   "outputs": [],
   "source": [
    "# above pca result suggests 4-6 factors\n",
    "# here we construct a new umap object with 3 dimensions and visulize it to see if there are obv clusters\n",
    "fit_trans_avg_3d = umap.UMAP(n_neighbors=47,min_dist=0,n_components=3)\n",
    "u_trans_avg_3d = fit_trans_avg_3d.fit_transform(trans_avg)\n",
    "\n",
    "# Configure Plotly to be rendered inline in the notebook.\n",
    "plotly.offline.init_notebook_mode()\n",
    "\n",
    "trace = go.Scatter3d(\n",
    "    x=u_trans_avg_3d[:,0],  # <-- Put your data instead\n",
    "    y=u_trans_avg_3d[:,1],  # <-- Put your data instead\n",
    "    z=u_trans_avg_3d[:,2],  # <-- Put your data instead\n",
    "    mode='markers',\n",
    "    marker={\n",
    "        'size': 10,\n",
    "        'opacity': 0.8,\n",
    "        #'color': ,\n",
    "    }\n",
    ")\n",
    "# Configure the layout.\n",
    "layout = go.Layout(\n",
    "    margin={'l': 0, 'r': 0, 'b': 0, 't': 0}\n",
    ")\n",
    "data = [trace]\n",
    "\n",
    "plot_figure = go.Figure(data=data, layout=layout)\n",
    "# Render the plot.\n",
    "plotly.offline.iplot(plot_figure)"
   ]
  },
  {
   "cell_type": "markdown",
   "metadata": {},
   "source": [
    "## Group level ratings, normalized, with autotransitions"
   ]
  },
  {
   "cell_type": "markdown",
   "metadata": {},
   "source": [
    "### SVI"
   ]
  },
  {
   "cell_type": "code",
   "execution_count": null,
   "metadata": {},
   "outputs": [],
   "source": [
    "K = 2\n",
    "target = 'avg' # 'self','targ','avg'\n",
    "norm = 'norm' # 'norm','raw'\n",
    "auto = 'all' # 'noauto','all'\n",
    "optim = pyro.optim.Adam({'lr': 0.0005, 'betas': [0.8, 0.99]})\n",
    "elbo = TraceEnum_ELBO(max_plate_nesting=1)"
   ]
  },
  {
   "cell_type": "code",
   "execution_count": null,
   "metadata": {
    "scrolled": true
   },
   "outputs": [],
   "source": [
    "seed_avg_norm_all, map_avg_norm_all = tomtom_svi()"
   ]
  },
  {
   "cell_type": "markdown",
   "metadata": {},
   "source": [
    "### MCMC"
   ]
  },
  {
   "cell_type": "code",
   "execution_count": null,
   "metadata": {},
   "outputs": [],
   "source": [
    "posterior_samples_avg_norm_all = tomtom_mcmc(seed_avg_norm_all)\n",
    "posterior_samples_avg_norm_all['weights'].shape"
   ]
  },
  {
   "cell_type": "code",
   "execution_count": null,
   "metadata": {
    "scrolled": true
   },
   "outputs": [],
   "source": [
    "#X = posterior_samples['concentration'][:,0,0,0]\n",
    "X = posterior_samples_avg_norm_all['weights'][:,0]\n",
    "\n",
    "#pyplot.figure(figsize=(8, 8), dpi=100).set_facecolor('white')\n",
    "pyplot.plot(np.arange(X.numpy().size),X.numpy())\n",
    "#pyplot.contour(np.log(h + 3).T, extent=[xs.min(), xs.max(), ys.min(), ys.max()],\n",
    "#               colors='white', alpha=0.8)\n",
    "pyplot.title('Sampling trace of top left concentration with NUTS')\n",
    "pyplot.ylabel('Sample value')\n",
    "pyplot.xlabel('Step')\n",
    "pyplot.tight_layout()"
   ]
  },
  {
   "cell_type": "markdown",
   "metadata": {},
   "source": [
    "## Group level ratings, normalized, No autotransitions"
   ]
  },
  {
   "cell_type": "markdown",
   "metadata": {},
   "source": [
    "### SVI"
   ]
  },
  {
   "cell_type": "code",
   "execution_count": null,
   "metadata": {},
   "outputs": [],
   "source": [
    "K = 2\n",
    "target = 'avg' # 'self','targ','avg'\n",
    "norm = 'norm' # 'norm','raw'\n",
    "auto = 'noauto' # 'noauto','all'\n",
    "optim = pyro.optim.Adam({'lr': 0.0005, 'betas': [0.8, 0.99]})\n",
    "elbo = TraceEnum_ELBO(max_plate_nesting=1)"
   ]
  },
  {
   "cell_type": "code",
   "execution_count": null,
   "metadata": {
    "scrolled": true
   },
   "outputs": [],
   "source": [
    "seed_avg_norm_noauto, map_avg_norm_noauto = tomtom_svi()"
   ]
  },
  {
   "cell_type": "markdown",
   "metadata": {},
   "source": [
    "### MCMC"
   ]
  },
  {
   "cell_type": "code",
   "execution_count": null,
   "metadata": {},
   "outputs": [],
   "source": [
    "posterior_samples_avg_norm_noauto = tomtom_mcmc(seed_avg_norm_noauto)\n",
    "posterior_samples_avg_norm_noauto['weights'].shape"
   ]
  },
  {
   "cell_type": "code",
   "execution_count": null,
   "metadata": {
    "scrolled": true
   },
   "outputs": [],
   "source": [
    "#X = posterior_samples['concentration'][:,0,0,0]\n",
    "X = posterior_samples_avg_norm_noauto['weights'][:,0]\n",
    "\n",
    "#pyplot.figure(figsize=(8, 8), dpi=100).set_facecolor('white')\n",
    "pyplot.plot(np.arange(X.numpy().size),X.numpy())\n",
    "#pyplot.contour(np.log(h + 3).T, extent=[xs.min(), xs.max(), ys.min(), ys.max()],\n",
    "#               colors='white', alpha=0.8)\n",
    "pyplot.title('Sampling trace of top left concentration with NUTS')\n",
    "pyplot.ylabel('Sample value')\n",
    "pyplot.xlabel('Step')\n",
    "pyplot.tight_layout()"
   ]
  },
  {
   "cell_type": "markdown",
   "metadata": {},
   "source": [
    "## Group level ratings, Raw, with autotransitions"
   ]
  },
  {
   "cell_type": "markdown",
   "metadata": {},
   "source": [
    "### SVI"
   ]
  },
  {
   "cell_type": "code",
   "execution_count": null,
   "metadata": {},
   "outputs": [],
   "source": [
    "K = 2\n",
    "target = 'avg' # 'self','targ','avg'\n",
    "norm = 'raw' # 'norm','raw'\n",
    "auto = 'all' # 'noauto','all'\n",
    "optim = pyro.optim.Adam({'lr': 0.0005, 'betas': [0.8, 0.99]})\n",
    "elbo = TraceEnum_ELBO(max_plate_nesting=1)"
   ]
  },
  {
   "cell_type": "code",
   "execution_count": null,
   "metadata": {
    "scrolled": true
   },
   "outputs": [],
   "source": [
    "seed_avg_raw_all, map_avg_raw_all = tomtom_svi()"
   ]
  },
  {
   "cell_type": "markdown",
   "metadata": {},
   "source": [
    "### MCMC"
   ]
  },
  {
   "cell_type": "code",
   "execution_count": null,
   "metadata": {},
   "outputs": [],
   "source": [
    "posterior_samples_avg_raw_all = tomtom_mcmc(seed_avg_raw_all)\n",
    "posterior_samples_avg_raw_all['weights'].shape"
   ]
  },
  {
   "cell_type": "code",
   "execution_count": null,
   "metadata": {
    "scrolled": false
   },
   "outputs": [],
   "source": [
    "#X = posterior_samples['concentration'][:,0,0,0]\n",
    "X = posterior_samples_avg_raw_all['weights'][:,0]\n",
    "\n",
    "#pyplot.figure(figsize=(8, 8), dpi=100).set_facecolor('white')\n",
    "pyplot.plot(np.arange(X.numpy().size),X.numpy())\n",
    "#pyplot.contour(np.log(h + 3).T, extent=[xs.min(), xs.max(), ys.min(), ys.max()],\n",
    "#               colors='white', alpha=0.8)\n",
    "pyplot.title('Sampling trace of top left concentration with NUTS')\n",
    "pyplot.ylabel('Sample value')\n",
    "pyplot.xlabel('Step')\n",
    "pyplot.tight_layout()"
   ]
  },
  {
   "cell_type": "markdown",
   "metadata": {},
   "source": [
    "## Group level ratings, Raw, No autotransitions"
   ]
  },
  {
   "cell_type": "markdown",
   "metadata": {},
   "source": [
    "### SVI"
   ]
  },
  {
   "cell_type": "code",
   "execution_count": null,
   "metadata": {},
   "outputs": [],
   "source": [
    "K = 2\n",
    "target = 'avg' # 'self','targ','avg'\n",
    "norm = 'raw' # 'norm','raw'\n",
    "auto = 'noauto' # 'noauto','all'\n",
    "optim = pyro.optim.Adam({'lr': 0.0005, 'betas': [0.8, 0.99]})\n",
    "elbo = TraceEnum_ELBO(max_plate_nesting=1)"
   ]
  },
  {
   "cell_type": "code",
   "execution_count": null,
   "metadata": {
    "scrolled": true
   },
   "outputs": [],
   "source": [
    "seed_avg_raw_noauto, map_avg_raw_noauto = tomtom_svi()"
   ]
  },
  {
   "cell_type": "markdown",
   "metadata": {},
   "source": [
    "### MCMC"
   ]
  },
  {
   "cell_type": "code",
   "execution_count": null,
   "metadata": {},
   "outputs": [],
   "source": [
    "posterior_samples_avg_raw_noauto = tomtom_mcmc(seed_avg_raw_noauto)\n",
    "posterior_samples_avg_raw_noauto['weights'].shape"
   ]
  },
  {
   "cell_type": "code",
   "execution_count": null,
   "metadata": {
    "scrolled": true
   },
   "outputs": [],
   "source": [
    "#X = posterior_samples['concentration'][:,0,0,0]\n",
    "X = posterior_samples_avg_raw_noauto['weights'][:,0]\n",
    "\n",
    "#pyplot.figure(figsize=(8, 8), dpi=100).set_facecolor('white')\n",
    "pyplot.plot(np.arange(X.numpy().size),X.numpy())\n",
    "#pyplot.contour(np.log(h + 3).T, extent=[xs.min(), xs.max(), ys.min(), ys.max()],\n",
    "#               colors='white', alpha=0.8)\n",
    "pyplot.title('Sampling trace of top left concentration with NUTS')\n",
    "pyplot.ylabel('Sample value')\n",
    "pyplot.xlabel('Step')\n",
    "pyplot.tight_layout()"
   ]
  },
  {
   "cell_type": "markdown",
   "metadata": {},
   "source": [
    "# Topic model-y tryout"
   ]
  },
  {
   "cell_type": "code",
   "execution_count": null,
   "metadata": {},
   "outputs": [],
   "source": [
    "@config_enumerate()\n",
    "def model(data):\n",
    "    num_topics = 2\n",
    "    nrow = data.shape[1]\n",
    "    ncol = data.shape[2]\n",
    "    print(nrow,ncol)\n",
    "\n",
    "    with pyro.plate('topic', num_topics):\n",
    "        # sample a weight and value for each topic\n",
    "        topic_weights = pyro.sample(\"topic_weights\", dist.Gamma(1. / num_topics, 1.))\n",
    "        topic_concentrations = pyro.sample(\"topic_values\", dist.Gamma(2 * torch.ones(nrow,ncol), 1/3 * torch.ones(nrow,ncol)).to_event(2))\n",
    "        print('topic weights', topic_weights.shape)\n",
    "        print('topic values', topic_concentrations.shape)\n",
    "\n",
    "    with pyro.plate('participants', data.shape[0]):\n",
    "        # sample each participant's idiosyncratic topic mixture\n",
    "        participant_topics = pyro.sample(\"participant_topics\", dist.Dirichlet(topic_weights))\n",
    "        print('participant topics', participant_topics.shape)\n",
    "        \n",
    "        transition_topics = pyro.sample(\"transition_topics\", dist.Categorical(participant_topics),\n",
    "                                        infer={\"enumerate\": \"parallel\"})\n",
    "        print('topics')\n",
    "        print('transition topics', transition_topics.shape)\n",
    "\n",
    "        out = dist.Dirichlet(topic_concentrations[transition_topics]).to_event(1)\n",
    "        print('observation batch:', out.batch_shape)\n",
    "        print('observation event:', out.event_shape)\n",
    "        print('data', data.shape)\n",
    "        data = pyro.sample(\"obs\", dist.Dirichlet(topic_concentrations[transition_topics]),\n",
    "                    obs=data)\n",
    "        print(data)"
   ]
  },
  {
   "cell_type": "code",
   "execution_count": null,
   "metadata": {},
   "outputs": [],
   "source": [
    "model(tself_norm_all_3d)"
   ]
  }
 ],
 "metadata": {
  "kernelspec": {
   "display_name": "Python 3",
   "language": "python",
   "name": "python3"
  },
  "language_info": {
   "codemirror_mode": {
    "name": "ipython",
    "version": 3
   },
   "file_extension": ".py",
   "mimetype": "text/x-python",
   "name": "python",
   "nbconvert_exporter": "python",
   "pygments_lexer": "ipython3",
   "version": "3.7.3"
  }
 },
 "nbformat": 4,
 "nbformat_minor": 2
}
