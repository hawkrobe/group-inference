{
 "cells": [
  {
   "cell_type": "markdown",
   "metadata": {},
   "source": [
    "## Importing and setting up"
   ]
  },
  {
   "cell_type": "code",
   "execution_count": 1,
   "metadata": {},
   "outputs": [
    {
     "data": {
      "application/javascript": [
       "IPython.notebook.set_autosave_interval(30000)"
      ]
     },
     "metadata": {},
     "output_type": "display_data"
    },
    {
     "name": "stdout",
     "output_type": "stream",
     "text": [
      "Autosaving every 30 seconds\n"
     ]
    }
   ],
   "source": [
    "##### import packages\n",
    "#base\n",
    "import os\n",
    "import sys\n",
    "from collections import defaultdict\n",
    "import numpy as np\n",
    "import scipy.stats\n",
    "from matplotlib import pyplot as plt\n",
    "import random\n",
    "import pyreadr\n",
    "import pandas as pd\n",
    "import seaborn as sns\n",
    "%matplotlib inline\n",
    "%autosave 30\n",
    "\n",
    "#pyro contingency\n",
    "import pyro\n",
    "import pyro.distributions as dist\n",
    "from pyro import poutine\n",
    "from pyro.infer.autoguide import AutoDelta\n",
    "from pyro.optim import Adam\n",
    "from pyro.infer import SVI, TraceEnum_ELBO, config_enumerate, infer_discrete, Predictive\n",
    "from pyro.ops.indexing import Vindex\n",
    "from pyro.infer import MCMC, NUTS\n",
    "import torch\n",
    "from torch.distributions import constraints\n",
    "pyro.enable_validation(True)\n",
    "\n",
    "#misc\n",
    "import pickle\n",
    "import torch.nn.functional as F\n",
    "import itertools\n",
    "import time\n",
    "# import umap\n",
    "# import plotly\n",
    "# import plotly.graph_objs as go\n",
    "\n",
    "# import homebrew modules\n",
    "import models.tomtom_models as tm\n",
    "import models.tomtom_util as tu"
   ]
  },
  {
   "cell_type": "code",
   "execution_count": 2,
   "metadata": {},
   "outputs": [],
   "source": [
    "global tself_norm_all_3d, tself_norm_noauto_3d, tself_raw_all_3d, tself_raw_noauto_3d\n",
    "global ttarg_norm_all_3d, ttarg_norm_noauto_3d, ttarg_raw_all_3d, ttarg_raw_noauto_3d\n",
    "global tavg_norm_all_3d, tavg_norm_noauto_3d, tavg_raw_all_3d, tavg_raw_noauto_3d\n",
    "\n",
    "# import pickled data\n",
    "with open('data/tomtom_data_preprocessed.pkl','rb') as f:\n",
    "    [tself_norm_all_3d, tself_norm_noauto_3d, tself_raw_all_3d, tself_raw_noauto_3d,\n",
    "    ttarg_norm_all_3d, ttarg_norm_noauto_3d, ttarg_raw_all_3d, ttarg_raw_noauto_3d,\n",
    "    tavg_norm_all_3d, tavg_norm_noauto_3d, tavg_raw_all_3d, tavg_raw_noauto_3d] = pickle.load(f) "
   ]
  },
  {
   "cell_type": "code",
   "execution_count": 3,
   "metadata": {},
   "outputs": [],
   "source": [
    "# # import fitted models\n",
    "# with open('tomtom_fitted_models.pkl','rb') as f:\n",
    "#     [seeds_self_norm_all_grp,maps_self_norm_all_grp,logprobs_self_norm_all_grp,mems_self_norm_all_grp,\n",
    "#      seeds_self_norm_all_dim,maps_self_norm_all_dim,logprobs_self_norm_all_dim,\n",
    "#      seeds_self_norm_noauto_grp,maps_self_norm_noauto_grp,logprobs_self_norm_noauto_grp,mems_self_norm_noauto_grp,\n",
    "#      seeds_self_norm_noauto_dim,maps_self_norm_noauto_dim,logprobs_self_norm_noauto_dim,\n",
    "#      seeds_self_raw_all_grp,maps_self_raw_all_grp,logprobs_self_raw_all_grp,mems_self_raw_all_grp,\n",
    "#      seeds_self_raw_all_dim,maps_self_raw_all_dim,logprobs_self_raw_all_dim,\n",
    "#      seeds_self_raw_noauto_grp,maps_self_raw_noauto_grp,logprobs_self_raw_noauto_grp,mems_self_raw_noauto_grp,\n",
    "#      seeds_self_raw_noauto_dim,maps_self_raw_noauto_dim,logprobs_self_raw_noauto_dim] = pickle.load(f)"
   ]
  },
  {
   "cell_type": "markdown",
   "metadata": {},
   "source": [
    "## fitting models of varying k\n",
    "\n",
    "currently only fitting self data, swap out the target variable"
   ]
  },
  {
   "cell_type": "code",
   "execution_count": 4,
   "metadata": {},
   "outputs": [],
   "source": [
    "def fit_varying_k(mtype,target,dtype,auto,maxk):\n",
    "    tm.mtype = mtype\n",
    "    tm.target = target # 'self','targ','avg'\n",
    "    tm.dtype = dtype # 'norm','raw'\n",
    "    tm.auto = auto # 'noauto','all'\n",
    "    tm.stickbreak = False\n",
    "    tm.optim = pyro.optim.Adam({'lr': 0.0005, 'betas': [0.8, 0.99]})\n",
    "    tm.elbo = TraceEnum_ELBO(max_plate_nesting=1)\n",
    "    #dynamically initiate data\n",
    "    dt = globals()['t{}_{}_{}_3d'.format(target,dtype,auto)]\n",
    "    seeds = []\n",
    "    maps = []\n",
    "    logprobs = []\n",
    "    mems = []\n",
    "    if 'gr' in mtype:\n",
    "        for i in range(1,maxk+1):\n",
    "            tm.K = i\n",
    "            seed, mapp, mem, lp = tm.tomtom_svi(dt)\n",
    "            seeds.append(seed)\n",
    "            maps.append(mapp)\n",
    "            logprobs.append(lp)\n",
    "            mems.append(mem)\n",
    "        return seeds, maps, logprobs, mems\n",
    "    elif 'di' in mtype:\n",
    "        for i in range(1,11):\n",
    "            tm.K = i\n",
    "            seed, mapp, lp = tm.tomtom_svi(dt)\n",
    "            seeds.append(seed)\n",
    "            maps.append(mapp)\n",
    "            logprobs.append(lp)\n",
    "        return seeds,maps,logprobs"
   ]
  },
  {
   "cell_type": "code",
   "execution_count": 5,
   "metadata": {
    "scrolled": true
   },
   "outputs": [
    {
     "name": "stdout",
     "output_type": "stream",
     "text": [
      "running SVI with: tself_norm_all_3d\n",
      "seed = 30, initial_loss = 2419.382080078125\n",
      "..............................\n",
      " final loss: -6295.9462890625\n",
      "\n",
      "running SVI with: tself_norm_all_3d\n",
      "seed = 18, initial_loss = 1607.314453125\n",
      "..............................\n",
      " final loss: -6748.98583984375\n",
      "\n",
      "running SVI with: tself_norm_all_3d\n",
      "seed = 83, initial_loss = 2155.86474609375\n",
      "..............................\n",
      " final loss: -6685.51708984375\n",
      "\n",
      "running SVI with: tself_norm_all_3d\n",
      "seed = 26, initial_loss = 2448.491943359375\n",
      "..............................\n",
      " final loss: -6648.80517578125\n",
      "\n",
      "running SVI with: tself_norm_all_3d\n",
      "seed = 21, initial_loss = 1967.4449462890625\n",
      "..............................\n",
      " final loss: -6669.4111328125\n",
      "\n",
      "running SVI with: tself_norm_all_3d\n",
      "seed = 25, initial_loss = 2386.95849609375\n",
      "..............................\n",
      " final loss: -6579.013671875\n",
      "\n",
      "running SVI with: tself_norm_all_3d\n",
      "seed = 27, initial_loss = 2261.238037109375\n",
      "..............................\n",
      " final loss: -6409.99853515625\n",
      "\n",
      "running SVI with: tself_norm_all_3d\n",
      "seed = 68, initial_loss = 2677.006103515625\n",
      "..............................\n",
      " final loss: -6373.63525390625\n",
      "\n",
      "running SVI with: tself_norm_all_3d\n",
      "seed = 24, initial_loss = 2369.966552734375\n",
      "..............................\n",
      " final loss: -6034.529296875\n",
      "\n",
      "running SVI with: tself_norm_all_3d\n",
      "seed = 4, initial_loss = 2658.157470703125\n",
      "..............................\n",
      " final loss: -6018.68115234375\n",
      "\n",
      "running SVI with: tself_norm_all_3d\n",
      "seed = 76, initial_loss = 2190.258544921875\n",
      "..............................\n",
      " final loss: -6318.2705078125\n",
      "\n",
      "running SVI with: tself_norm_all_3d\n",
      "seed = 43, initial_loss = 2070.41845703125\n",
      "..............................\n",
      " final loss: -6793.08251953125\n",
      "\n",
      "running SVI with: tself_norm_all_3d\n",
      "seed = 21, initial_loss = 2324.71728515625\n",
      "..............................\n",
      " final loss: -6585.806640625\n",
      "\n",
      "running SVI with: tself_norm_all_3d\n",
      "seed = 10, initial_loss = 2667.426025390625\n",
      "..............................\n",
      " final loss: -6640.2939453125\n",
      "\n",
      "running SVI with: tself_norm_all_3d\n",
      "seed = 95, initial_loss = 3140.46923828125\n",
      "..............................\n",
      " final loss: -6748.5673828125\n",
      "\n",
      "running SVI with: tself_norm_all_3d\n",
      "seed = 43, initial_loss = 3780.764404296875\n",
      "..............................\n",
      " final loss: -6468.1025390625\n",
      "\n",
      "running SVI with: tself_norm_all_3d\n",
      "seed = 19, initial_loss = 4564.80078125\n",
      "..............................\n",
      " final loss: -6273.337890625\n",
      "\n",
      "running SVI with: tself_norm_all_3d\n",
      "seed = 88, initial_loss = 5071.45556640625\n",
      "..............................\n",
      " final loss: -6231.6240234375\n",
      "\n",
      "running SVI with: tself_norm_all_3d\n",
      "seed = 88, initial_loss = 5621.77490234375\n",
      "..............................\n",
      " final loss: -5751.8017578125\n",
      "\n",
      "running SVI with: tself_norm_all_3d\n",
      "seed = 88, initial_loss = 5842.4677734375\n",
      "..............................\n",
      " final loss: -5457.337890625\n",
      "\n"
     ]
    }
   ],
   "source": [
    "maxk = 10\n",
    "# self, normalized, with autotransitions\n",
    "seeds_self_norm_all_grp, maps_self_norm_all_grp, logprobs_self_norm_all_grp, mems_self_norm_all_grp =\\\n",
    "    fit_varying_k('grp','self','norm','all',maxk)\n",
    "seeds_self_norm_all_dim, maps_self_norm_all_dim, logprobs_self_norm_all_dim =\\\n",
    "    fit_varying_k('dim','self','norm','all',maxk)"
   ]
  },
  {
   "cell_type": "code",
   "execution_count": 6,
   "metadata": {},
   "outputs": [
    {
     "name": "stdout",
     "output_type": "stream",
     "text": [
      "running SVI with: tself_norm_noauto_3d\n",
      "seed = 14, initial_loss = 3685.878662109375\n",
      "..............................\n",
      " final loss: -3498.884765625\n",
      "\n",
      "running SVI with: tself_norm_noauto_3d\n",
      "seed = 48, initial_loss = 3041.630859375\n",
      "..............................\n",
      " final loss: -3900.60888671875\n",
      "\n",
      "running SVI with: tself_norm_noauto_3d\n",
      "seed = 63, initial_loss = 3330.660888671875\n",
      "..............................\n",
      " final loss: -3872.85400390625\n",
      "\n",
      "running SVI with: tself_norm_noauto_3d\n",
      "seed = 40, initial_loss = 3276.39404296875\n",
      "..............................\n",
      " final loss: -3747.674072265625\n",
      "\n",
      "running SVI with: tself_norm_noauto_3d\n",
      "seed = 40, initial_loss = 3795.091552734375\n",
      "..............................\n",
      " final loss: -3740.516357421875\n",
      "\n",
      "running SVI with: tself_norm_noauto_3d\n",
      "seed = 92, initial_loss = 4015.600341796875\n",
      "..............................\n",
      " final loss: -3651.29541015625\n",
      "\n",
      "running SVI with: tself_norm_noauto_3d\n",
      "seed = 26, initial_loss = 4040.1591796875\n",
      "..............................\n",
      " final loss: -3573.888427734375\n",
      "\n",
      "running SVI with: tself_norm_noauto_3d\n",
      "seed = 12, initial_loss = 3941.59716796875\n",
      "..............................\n",
      " final loss: -3466.2177734375\n",
      "\n",
      "running SVI with: tself_norm_noauto_3d\n",
      "seed = 72, initial_loss = 4058.510009765625\n",
      "..............................\n",
      " final loss: -3434.31103515625\n",
      "\n",
      "running SVI with: tself_norm_noauto_3d\n",
      "seed = 75, initial_loss = 4493.0087890625\n",
      "..............................\n",
      " final loss: -3242.71484375\n",
      "\n",
      "running SVI with: tself_norm_noauto_3d\n",
      "seed = 40, initial_loss = 2786.6796875\n",
      "..............................\n",
      " final loss: -3527.869140625\n",
      "\n",
      "running SVI with: tself_norm_noauto_3d\n",
      "seed = 7, initial_loss = 3300.250732421875\n",
      "..............................\n",
      " final loss: -3812.88623046875\n",
      "\n",
      "running SVI with: tself_norm_noauto_3d\n",
      "seed = 65, initial_loss = 3433.69677734375\n",
      "..............................\n",
      " final loss: -3963.0595703125\n",
      "\n",
      "running SVI with: tself_norm_noauto_3d\n",
      "seed = 29, initial_loss = 4031.61279296875\n",
      "..............................\n",
      " final loss: -3975.8720703125\n",
      "\n",
      "running SVI with: tself_norm_noauto_3d\n",
      "seed = 4, initial_loss = 4823.4248046875\n",
      "..............................\n",
      " final loss: -3790.625\n",
      "\n",
      "running SVI with: tself_norm_noauto_3d\n",
      "seed = 21, initial_loss = 5431.9677734375\n",
      "..............................\n",
      " final loss: -3501.6650390625\n",
      "\n",
      "running SVI with: tself_norm_noauto_3d\n",
      "seed = 60, initial_loss = 5363.61669921875\n",
      "..............................\n",
      " final loss: -3071.55859375\n",
      "\n",
      "running SVI with: tself_norm_noauto_3d\n",
      "seed = 7, initial_loss = 6456.1640625\n",
      "..............................\n",
      " final loss: -3222.479248046875\n",
      "\n",
      "running SVI with: tself_norm_noauto_3d\n",
      "seed = 88, initial_loss = 7046.1923828125\n",
      "..............................\n",
      " final loss: -3011.89404296875\n",
      "\n",
      "running SVI with: tself_norm_noauto_3d\n",
      "seed = 96, initial_loss = 7396.10546875\n",
      "..............................\n",
      " final loss: -2292.72900390625\n",
      "\n"
     ]
    }
   ],
   "source": [
    "# self, normalized, no autotransitions\n",
    "seeds_self_norm_noauto_grp, maps_self_norm_noauto_grp, logprobs_self_norm_noauto_grp, mems_self_norm_noauto_grp =\\\n",
    "    fit_varying_k('grp','self','norm','noauto',maxk)\n",
    "seeds_self_norm_noauto_dim, maps_self_norm_noauto_dim, logprobs_self_norm_noauto_dim =\\\n",
    "    fit_varying_k('dim','self','norm','noauto',maxk)"
   ]
  },
  {
   "cell_type": "code",
   "execution_count": 7,
   "metadata": {},
   "outputs": [
    {
     "name": "stdout",
     "output_type": "stream",
     "text": [
      "running SVI with: tself_raw_all_3d\n",
      "seed = 58, initial_loss = 29378.205078125\n",
      "..............................\n",
      " final loss: -1120.0361328125\n",
      "\n",
      "running SVI with: tself_raw_all_3d\n",
      "seed = 31, initial_loss = 28616.029296875\n",
      "..............................\n",
      " final loss: -1154.7095947265625\n",
      "\n",
      "running SVI with: tself_raw_all_3d\n",
      "seed = 42, initial_loss = 28270.21875\n",
      "..............................\n",
      " final loss: -1649.3536376953125\n",
      "\n",
      "running SVI with: tself_raw_all_3d\n",
      "seed = 98, initial_loss = 28668.017578125\n",
      "..............................\n",
      " final loss: -1326.251220703125\n",
      "\n",
      "running SVI with: tself_raw_all_3d\n",
      "seed = 67, initial_loss = 28678.748046875\n",
      "..............................\n",
      " final loss: -1234.5390625\n",
      "\n",
      "running SVI with: tself_raw_all_3d\n",
      "seed = 41, initial_loss = 29296.65625\n",
      "..............................\n",
      " final loss: -911.135498046875\n",
      "\n",
      "running SVI with: tself_raw_all_3d\n",
      "seed = 88, initial_loss = 28997.82421875\n",
      "..............................\n",
      " final loss: -746.711181640625\n",
      "\n",
      "running SVI with: tself_raw_all_3d\n",
      "seed = 47, initial_loss = 28848.71875\n",
      "..............................\n",
      " final loss: -517.0166015625\n",
      "\n",
      "running SVI with: tself_raw_all_3d\n",
      "seed = 9, initial_loss = 29838.740234375\n",
      "..............................\n",
      " final loss: 23.0390625\n",
      "\n",
      "running SVI with: tself_raw_all_3d\n",
      "seed = 34, initial_loss = 30228.486328125\n",
      "..............................\n",
      " final loss: -20.652587890625\n",
      "\n",
      "running SVI with: tself_raw_all_3d\n",
      "seed = 74, initial_loss = 27958.474609375\n",
      "..............................\n",
      " final loss: -1287.0916748046875\n",
      "\n",
      "running SVI with: tself_raw_all_3d\n",
      "seed = 37, initial_loss = 28471.521484375\n",
      "..............................\n",
      " final loss: -1615.61279296875\n",
      "\n",
      "running SVI with: tself_raw_all_3d\n",
      "seed = 21, initial_loss = 29340.36328125\n",
      "..............................\n",
      " final loss: -1480.70263671875\n",
      "\n",
      "running SVI with: tself_raw_all_3d\n",
      "seed = 34, initial_loss = 29138.0546875\n",
      "..............................\n",
      " final loss: -1463.445556640625\n",
      "\n",
      "running SVI with: tself_raw_all_3d\n",
      "seed = 98, initial_loss = 29034.33984375\n",
      "..............................\n",
      " final loss: -966.97216796875\n",
      "\n",
      "running SVI with: tself_raw_all_3d\n",
      "seed = 91, initial_loss = 30721.751953125\n",
      "..............................\n",
      " final loss: -507.594970703125\n",
      "\n",
      "running SVI with: tself_raw_all_3d\n",
      "seed = 51, initial_loss = 31684.80078125\n",
      "..............................\n",
      " final loss: -213.863525390625\n",
      "\n",
      "running SVI with: tself_raw_all_3d\n",
      "seed = 65, initial_loss = 31901.623046875\n",
      "..............................\n",
      " final loss: -363.689697265625\n",
      "\n",
      "running SVI with: tself_raw_all_3d\n",
      "seed = 88, initial_loss = 33447.5\n",
      "..............................\n",
      " final loss: 120.931396484375\n",
      "\n",
      "running SVI with: tself_raw_all_3d\n",
      "seed = 69, initial_loss = 34141.5078125\n",
      "..............................\n",
      " final loss: 2737.8798828125\n",
      "\n"
     ]
    }
   ],
   "source": [
    "# self, raw, with autotransitions\n",
    "seeds_self_raw_all_grp, maps_self_raw_all_grp, logprobs_self_raw_all_grp, mems_self_raw_all_grp =\\\n",
    "    fit_varying_k('grp','self','raw','all',maxk)\n",
    "seeds_self_raw_all_dim, maps_self_raw_all_dim, logprobs_self_raw_all_dim =\\\n",
    "    fit_varying_k('dim','self','raw','all',maxk)"
   ]
  },
  {
   "cell_type": "code",
   "execution_count": 8,
   "metadata": {},
   "outputs": [
    {
     "name": "stdout",
     "output_type": "stream",
     "text": [
      "running SVI with: tself_raw_noauto_3d\n",
      "seed = 68, initial_loss = 17190.091796875\n",
      "..............................\n",
      " final loss: -937.4014892578125\n",
      "\n",
      "running SVI with: tself_raw_noauto_3d\n",
      "seed = 7, initial_loss = 17220.7578125\n",
      "..............................\n",
      " final loss: -1183.563232421875\n",
      "\n",
      "running SVI with: tself_raw_noauto_3d\n",
      "seed = 63, initial_loss = 16388.037109375\n",
      "..............................\n",
      " final loss: -1032.616943359375\n",
      "\n",
      "running SVI with: tself_raw_noauto_3d\n",
      "seed = 28, initial_loss = 17416.228515625\n",
      "..............................\n",
      " final loss: -859.5875244140625\n",
      "\n",
      "running SVI with: tself_raw_noauto_3d\n",
      "seed = 74, initial_loss = 17766.08984375\n",
      "..............................\n",
      " final loss: -708.160400390625\n",
      "\n",
      "running SVI with: tself_raw_noauto_3d\n",
      "seed = 31, initial_loss = 17875.974609375\n",
      "..............................\n",
      " final loss: -670.0185546875\n",
      "\n",
      "running SVI with: tself_raw_noauto_3d\n",
      "seed = 29, initial_loss = 17596.248046875\n",
      "..............................\n",
      " final loss: -417.381591796875\n",
      "\n",
      "running SVI with: tself_raw_noauto_3d\n",
      "seed = 12, initial_loss = 17960.205078125\n",
      "..............................\n",
      " final loss: -220.131103515625\n",
      "\n",
      "running SVI with: tself_raw_noauto_3d\n",
      "seed = 19, initial_loss = 18232.501953125\n",
      "..............................\n",
      " final loss: 90.816650390625\n",
      "\n",
      "running SVI with: tself_raw_noauto_3d\n",
      "seed = 23, initial_loss = 18434.291015625\n",
      "..............................\n",
      " final loss: 322.046875\n",
      "\n",
      "running SVI with: tself_raw_noauto_3d\n",
      "seed = 40, initial_loss = 16849.26171875\n",
      "..............................\n",
      " final loss: -941.4149169921875\n",
      "\n",
      "running SVI with: tself_raw_noauto_3d\n",
      "seed = 2, initial_loss = 17414.658203125\n",
      "..............................\n",
      " final loss: -1292.986572265625\n",
      "\n",
      "running SVI with: tself_raw_noauto_3d\n",
      "seed = 37, initial_loss = 16926.279296875\n",
      "..............................\n",
      " final loss: -1246.4871826171875\n",
      "\n",
      "running SVI with: tself_raw_noauto_3d\n",
      "seed = 92, initial_loss = 17298.724609375\n",
      "..............................\n",
      " final loss: -1007.9073486328125\n",
      "\n",
      "running SVI with: tself_raw_noauto_3d\n",
      "seed = 58, initial_loss = 18017.837890625\n",
      "..............................\n",
      " final loss: -1027.5986328125\n",
      "\n",
      "running SVI with: tself_raw_noauto_3d\n",
      "seed = 21, initial_loss = 18911.66796875\n",
      "..............................\n",
      " final loss: -477.678466796875\n",
      "\n",
      "running SVI with: tself_raw_noauto_3d\n",
      "seed = 47, initial_loss = 19669.298828125\n",
      "..............................\n",
      " final loss: -591.779541015625\n",
      "\n",
      "running SVI with: tself_raw_noauto_3d\n",
      "seed = 47, initial_loss = 20520.265625\n",
      "..............................\n",
      " final loss: 95.961669921875\n",
      "\n",
      "running SVI with: tself_raw_noauto_3d\n",
      "seed = 88, initial_loss = 21212.783203125\n",
      "..............................\n",
      " final loss: 290.04736328125\n",
      "\n",
      "running SVI with: tself_raw_noauto_3d\n",
      "seed = 7, initial_loss = 22228.7734375\n",
      "..............................\n",
      " final loss: 1681.350830078125\n",
      "\n"
     ]
    }
   ],
   "source": [
    "# self, raw, no autotransitions\n",
    "seeds_self_raw_noauto_grp, maps_self_raw_noauto_grp, logprobs_self_raw_noauto_grp, mems_self_raw_noauto_grp =\\\n",
    "    fit_varying_k('grp','self','raw','noauto',maxk)\n",
    "seeds_self_raw_noauto_dim, maps_self_raw_noauto_dim, logprobs_self_raw_noauto_dim =\\\n",
    "    fit_varying_k('dim','self','raw','noauto',maxk)"
   ]
  },
  {
   "cell_type": "code",
   "execution_count": 9,
   "metadata": {},
   "outputs": [],
   "source": [
    "with open('tomtom_fitted_models.pkl','wb') as f:\n",
    "    pickle.dump([seeds_self_norm_all_grp,maps_self_norm_all_grp,logprobs_self_norm_all_grp,mems_self_norm_all_grp,\n",
    "                 seeds_self_norm_all_dim,maps_self_norm_all_dim,logprobs_self_norm_all_dim,\n",
    "                 seeds_self_norm_noauto_grp,maps_self_norm_noauto_grp,logprobs_self_norm_noauto_grp,mems_self_norm_noauto_grp,\n",
    "                 seeds_self_norm_noauto_dim,maps_self_norm_noauto_dim,logprobs_self_norm_noauto_dim,\n",
    "                 seeds_self_raw_all_grp,maps_self_raw_all_grp,logprobs_self_raw_all_grp,mems_self_raw_all_grp,\n",
    "                 seeds_self_raw_all_dim,maps_self_raw_all_dim,logprobs_self_raw_all_dim,\n",
    "                 seeds_self_raw_noauto_grp,maps_self_raw_noauto_grp,logprobs_self_raw_noauto_grp,mems_self_raw_noauto_grp,\n",
    "                 seeds_self_raw_noauto_dim,maps_self_raw_noauto_dim,logprobs_self_raw_noauto_dim],f)"
   ]
  },
  {
   "cell_type": "markdown",
   "metadata": {},
   "source": [
    "## analyze fitted models\n",
    "\n",
    "analyzing fitted raw_noauto models as an example, but could easily swap out below."
   ]
  },
  {
   "cell_type": "code",
   "execution_count": 10,
   "metadata": {},
   "outputs": [],
   "source": [
    "maps_grp = maps_self_raw_noauto_grp\n",
    "maps_dim = maps_self_raw_noauto_dim\n",
    "lps_grp = logprobs_self_raw_noauto_grp\n",
    "lps_dim = logprobs_self_raw_noauto_dim"
   ]
  },
  {
   "cell_type": "markdown",
   "metadata": {},
   "source": [
    "1) plot the models' log prob as a function of K, grouped by model type"
   ]
  },
  {
   "cell_type": "code",
   "execution_count": 11,
   "metadata": {
    "scrolled": true
   },
   "outputs": [
    {
     "name": "stderr",
     "output_type": "stream",
     "text": [
      "/home/zidong/.conda/envs/tomtom-env/lib/python3.6/site-packages/seaborn/_decorators.py:43: FutureWarning: Pass the following variables as keyword args: x, y. From version 0.12, the only valid positional argument will be `data`, and passing other arguments without an explicit keyword will result in an error or misinterpretation.\n",
      "  FutureWarning\n",
      "/home/zidong/.conda/envs/tomtom-env/lib/python3.6/site-packages/seaborn/_decorators.py:43: FutureWarning: Pass the following variables as keyword args: x, y. From version 0.12, the only valid positional argument will be `data`, and passing other arguments without an explicit keyword will result in an error or misinterpretation.\n",
      "  FutureWarning\n"
     ]
    },
    {
     "data": {
      "text/plain": [
       "<AxesSubplot:>"
      ]
     },
     "execution_count": 11,
     "metadata": {},
     "output_type": "execute_result"
    },
    {
     "data": {
      "image/png": "[encoded data removed]",
      "text/plain": [
       "<Figure size 432x288 with 1 Axes>"
      ]
     },
     "metadata": {
      "needs_background": "light"
     },
     "output_type": "display_data"
    }
   ],
   "source": [
    "sns.scatterplot(range(1,11),lps_grp, color = 'blue')\n",
    "sns.scatterplot(range(1,11),lps_dim, color = 'red')"
   ]
  },
  {
   "cell_type": "markdown",
   "metadata": {},
   "source": [
    "2) analyze how similar grp- and dim-model parameters are as a function of K"
   ]
  },
  {
   "cell_type": "code",
   "execution_count": 12,
   "metadata": {},
   "outputs": [],
   "source": [
    "# compare parameters from the two models under varying k\n",
    "meancor = []\n",
    "meanmaxrow = []\n",
    "meanmaxcol = []\n",
    "otorow = []\n",
    "otocol = []\n",
    "for i in range(len(maps_self_raw_noauto_grp)):\n",
    "    cor_mat = tu.grp_dim_param_convergence(map_grp=maps_grp[i],map_dim=maps_dim[i], dtype='raw')\n",
    "    # get the overall mean of the cormat\n",
    "    meancor.append(cor_mat['b'].mean())\n",
    "    # get means of row max and col max\n",
    "    meanmaxrow.append(cor_mat['b'].max(1).mean())\n",
    "    meanmaxcol.append(cor_mat['b'].max(0).mean())\n",
    "    rowindmax, oto = tu.one_to_one_correspondence(cor_mat['b'])\n",
    "    otorow.append(oto[0]) \n",
    "    otocol.append(oto[1]) "
   ]
  },
  {
   "cell_type": "markdown",
   "metadata": {},
   "source": [
    "is there evidence that there's one-to-one correspondence (indistinguishable clusters) between the group and the dimensional models?"
   ]
  },
  {
   "cell_type": "code",
   "execution_count": 13,
   "metadata": {},
   "outputs": [
    {
     "name": "stdout",
     "output_type": "stream",
     "text": [
      "[True, True, False, False, False, False, False, False, False, False]\n"
     ]
    }
   ],
   "source": [
    "print(otocol)"
   ]
  },
  {
   "cell_type": "markdown",
   "metadata": {},
   "source": [
    "plot mean pair-wise factor parameter correlations as a function of K\n",
    "\n",
    "alternatives: meamaxcol/meanmaxrow - mean of max parameter correlation per column/row as a function of L"
   ]
  },
  {
   "cell_type": "code",
   "execution_count": 14,
   "metadata": {},
   "outputs": [
    {
     "name": "stderr",
     "output_type": "stream",
     "text": [
      "/home/zidong/.conda/envs/tomtom-env/lib/python3.6/site-packages/seaborn/_decorators.py:43: FutureWarning: Pass the following variables as keyword args: x, y. From version 0.12, the only valid positional argument will be `data`, and passing other arguments without an explicit keyword will result in an error or misinterpretation.\n",
      "  FutureWarning\n"
     ]
    },
    {
     "data": {
      "text/plain": [
       "Text(0, 0.5, 'Mean pair-wise param corr')"
      ]
     },
     "execution_count": 14,
     "metadata": {},
     "output_type": "execute_result"
    },
    {
     "data": {
      "image/png": "[encoded data removed]",
      "text/plain": [
       "<Figure size 432x288 with 1 Axes>"
      ]
     },
     "metadata": {
      "needs_background": "light"
     },
     "output_type": "display_data"
    }
   ],
   "source": [
    "ax = sns.scatterplot(range(10), meancor)\n",
    "ax.set_xlabel('K')\n",
    "ax.set_ylabel('Mean pair-wise param corr')"
   ]
  }
 ],
 "metadata": {
  "kernelspec": {
   "display_name": "Python 3",
   "language": "python",
   "name": "python3"
  },
  "language_info": {
   "codemirror_mode": {
    "name": "ipython",
    "version": 3
   },
   "file_extension": ".py",
   "mimetype": "text/x-python",
   "name": "python",
   "nbconvert_exporter": "python",
   "pygments_lexer": "ipython3",
   "version": "3.8.5"
  }
 },
 "nbformat": 4,
 "nbformat_minor": 2
}
