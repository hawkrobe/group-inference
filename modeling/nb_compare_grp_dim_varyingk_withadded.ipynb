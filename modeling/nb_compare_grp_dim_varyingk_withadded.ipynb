{
 "cells": [
  {
   "cell_type": "markdown",
   "metadata": {},
   "source": [
    "## Importing and setting up"
   ]
  },
  {
   "cell_type": "code",
   "execution_count": 1,
   "metadata": {
    "execution": {
     "iopub.execute_input": "2021-02-24T20:42:39.745272Z",
     "iopub.status.busy": "2021-02-24T20:42:39.744628Z",
     "iopub.status.idle": "2021-02-24T20:42:46.439407Z",
     "shell.execute_reply": "2021-02-24T20:42:46.439883Z"
    }
   },
   "outputs": [
    {
     "data": {
      "application/javascript": [
       "IPython.notebook.set_autosave_interval(30000)"
      ]
     },
     "metadata": {},
     "output_type": "display_data"
    },
    {
     "name": "stdout",
     "output_type": "stream",
     "text": [
      "Autosaving every 30 seconds\n"
     ]
    }
   ],
   "source": [
    "##### import packages\n",
    "#base\n",
    "import os\n",
    "import sys\n",
    "from collections import defaultdict\n",
    "import numpy as np\n",
    "import scipy.stats\n",
    "from matplotlib import pyplot as plt\n",
    "import random\n",
    "import pyreadr\n",
    "import pandas as pd\n",
    "import seaborn as sns\n",
    "%matplotlib inline\n",
    "%autosave 30\n",
    "\n",
    "#pyro contingency\n",
    "import pyro\n",
    "import pyro.distributions as dist\n",
    "from pyro import poutine\n",
    "from pyro.infer.autoguide import AutoDelta\n",
    "from pyro.optim import Adam\n",
    "from pyro.infer import SVI, TraceEnum_ELBO, config_enumerate, infer_discrete, Predictive\n",
    "from pyro.ops.indexing import Vindex\n",
    "from pyro.infer import MCMC, NUTS\n",
    "import torch\n",
    "from torch.distributions import constraints\n",
    "pyro.enable_validation(True)\n",
    "\n",
    "#misc\n",
    "import pickle\n",
    "import torch.nn.functional as F\n",
    "import itertools\n",
    "import time\n",
    "# import umap\n",
    "# import plotly\n",
    "# import plotly.graph_objs as go\n",
    "\n",
    "# import homebrew modules\n",
    "import models.tomtom_models_rewrite as tm\n",
    "import models.tomtom_util as tu"
   ]
  },
  {
   "cell_type": "code",
   "execution_count": 2,
   "metadata": {
    "execution": {
     "iopub.execute_input": "2021-02-24T20:42:46.444659Z",
     "iopub.status.busy": "2021-02-24T20:42:46.444082Z",
     "iopub.status.idle": "2021-02-24T20:42:46.466076Z",
     "shell.execute_reply": "2021-02-24T20:42:46.465597Z"
    }
   },
   "outputs": [],
   "source": [
    "global tself_norm_all_3d, tself_norm_noauto_3d, tself_raw_all_3d, tself_raw_noauto_3d\n",
    "global ttarg_norm_all_3d, ttarg_norm_noauto_3d, ttarg_raw_all_3d, ttarg_raw_noauto_3d\n",
    "global tavg_norm_all_3d, tavg_norm_noauto_3d, tavg_raw_all_3d, tavg_raw_noauto_3d\n",
    "\n",
    "# import pickled data\n",
    "with open('../data/tomtom_data_preprocessed_withadded.pkl','rb') as f:\n",
    "    [tself_norm_all_3d, tself_norm_noauto_3d, tself_raw_all_3d, tself_raw_noauto_3d,\n",
    "    ttarg_norm_all_3d, ttarg_norm_noauto_3d, ttarg_raw_all_3d, ttarg_raw_noauto_3d,\n",
    "    tavg_norm_all_3d, tavg_norm_noauto_3d, tavg_raw_all_3d, tavg_raw_noauto_3d] = pickle.load(f) "
   ]
  },
  {
   "cell_type": "code",
   "execution_count": 3,
   "metadata": {
    "execution": {
     "iopub.execute_input": "2021-02-24T20:42:46.469234Z",
     "iopub.status.busy": "2021-02-24T20:42:46.468654Z",
     "iopub.status.idle": "2021-02-24T20:42:46.470659Z",
     "shell.execute_reply": "2021-02-24T20:42:46.471098Z"
    }
   },
   "outputs": [],
   "source": [
    "# # import fitted models\n",
    "# with open('tomtom_fitted_models.pkl','rb') as f:\n",
    "#     [seeds_self_norm_all_grp,maps_self_norm_all_grp,logprobs_self_norm_all_grp,mems_self_norm_all_grp,\n",
    "#      seeds_self_norm_all_dim,maps_self_norm_all_dim,logprobs_self_norm_all_dim,\n",
    "#      seeds_self_norm_noauto_grp,maps_self_norm_noauto_grp,logprobs_self_norm_noauto_grp,mems_self_norm_noauto_grp,\n",
    "#      seeds_self_norm_noauto_dim,maps_self_norm_noauto_dim,logprobs_self_norm_noauto_dim,\n",
    "#      seeds_self_raw_all_grp,maps_self_raw_all_grp,logprobs_self_raw_all_grp,mems_self_raw_all_grp,\n",
    "#      seeds_self_raw_all_dim,maps_self_raw_all_dim,logprobs_self_raw_all_dim,\n",
    "#      seeds_self_raw_noauto_grp,maps_self_raw_noauto_grp,logprobs_self_raw_noauto_grp,mems_self_raw_noauto_grp,\n",
    "#      seeds_self_raw_noauto_dim,maps_self_raw_noauto_dim,logprobs_self_raw_noauto_dim] = pickle.load(f)"
   ]
  },
  {
   "cell_type": "markdown",
   "metadata": {},
   "source": [
    "## fitting models of varying k\n",
    "\n",
    "currently only fitting self data, swap out the target variable"
   ]
  },
  {
   "cell_type": "code",
   "execution_count": 4,
   "metadata": {
    "execution": {
     "iopub.execute_input": "2021-02-24T20:42:46.477662Z",
     "iopub.status.busy": "2021-02-24T20:42:46.477078Z",
     "iopub.status.idle": "2021-02-24T20:42:46.478906Z",
     "shell.execute_reply": "2021-02-24T20:42:46.479372Z"
    }
   },
   "outputs": [],
   "source": [
    "def fit_varying_k(mtype,target,dtype,auto,maxk):\n",
    "    #dynamically initiate data\n",
    "    dt = globals()['t{}_{}_{}_3d'.format(target,dtype,auto)]\n",
    "    seeds = []\n",
    "    maps = []\n",
    "    logprobs = []\n",
    "    mems = []\n",
    "\n",
    "    if 'gr' in mtype:\n",
    "        for i in range(1,maxk+1):\n",
    "            seed, mapp, mem, lp = tm.TransitionModel(dt, i, target, dtype, auto, mtype).fit()\n",
    "            seeds.append(seed)\n",
    "            maps.append(mapp)\n",
    "            logprobs.append(lp)\n",
    "            mems.append(mem)\n",
    "        return seeds, maps, logprobs, mems\n",
    "    elif 'di' in mtype:\n",
    "        for i in range(1,11):\n",
    "            seed, mapp, lp = tm.TransitionModel(dt, i, target, dtype, auto, mtype).fit()\n",
    "            seeds.append(seed)\n",
    "            maps.append(mapp)\n",
    "            logprobs.append(lp)\n",
    "        return seeds,maps,logprobs"
   ]
  },
  {
   "cell_type": "code",
   "execution_count": 5,
   "metadata": {
    "execution": {
     "iopub.execute_input": "2021-02-24T20:42:46.483222Z",
     "iopub.status.busy": "2021-02-24T20:42:46.482649Z",
     "iopub.status.idle": "2021-02-24T21:04:26.049655Z",
     "shell.execute_reply": "2021-02-24T21:04:26.050096Z"
    },
    "scrolled": true
   },
   "outputs": [
    {
     "name": "stdout",
     "output_type": "stream",
     "text": [
      "running SVI with: tself_norm_all_3d\n",
      "seed = 30, initial_loss = 2189.53564453125\n",
      "..............................\n",
      " final loss: -23363.49609375\n",
      "\n"
     ]
    },
    {
     "name": "stderr",
     "output_type": "stream",
     "text": [
      "/u/zidong/.conda/envs/tomtom-env/lib/python3.8/site-packages/pyro/infer/discrete.py:92: UserWarning: infer_discrete found no sample sites configured for enumeration. If you want to enumerate sites, you need to @config_enumerate or set infer={\"enumerate\": \"sequential\"} or infer={\"enumerate\": \"parallel\"}.\n",
      "  warnings.warn('infer_discrete found no sample sites configured for enumeration. '\n"
     ]
    },
    {
     "name": "stdout",
     "output_type": "stream",
     "text": [
      "running SVI with: tself_norm_all_3d\n",
      "seed = 18, initial_loss = -753.21728515625\n",
      "..............................\n",
      " final loss: -25853.21875\n",
      "\n",
      "running SVI with: tself_norm_all_3d\n",
      "seed = 83, initial_loss = -115.1337890625\n",
      "..............................\n",
      " final loss: -26112.11328125\n",
      "\n",
      "running SVI with: tself_norm_all_3d\n",
      "seed = 7, initial_loss = 455.6276550292969\n",
      "..............................\n",
      " final loss: -26764.703125\n",
      "\n",
      "running SVI with: tself_norm_all_3d\n",
      "seed = 21, initial_loss = -1311.9544677734375\n",
      "..............................\n",
      " final loss: -26657.126953125\n",
      "\n",
      "running SVI with: tself_norm_all_3d\n",
      "seed = 25, initial_loss = -222.0972900390625\n",
      "..............................\n",
      " final loss: -26949.3515625\n",
      "\n",
      "running SVI with: tself_norm_all_3d\n",
      "seed = 27, initial_loss = -954.42236328125\n",
      "..............................\n",
      " final loss: -26910.02734375\n",
      "\n",
      "running SVI with: tself_norm_all_3d\n",
      "seed = 62, initial_loss = 235.7861328125\n",
      "..............................\n",
      " final loss: -26844.482421875\n",
      "\n",
      "running SVI with: tself_norm_all_3d\n",
      "seed = 24, initial_loss = -1279.5867919921875\n",
      "..............................\n",
      " final loss: -26891.619140625\n",
      "\n",
      "running SVI with: tself_norm_all_3d\n",
      "seed = 4, initial_loss = -475.03955078125\n",
      "..............................\n",
      " final loss: -27017.37890625\n",
      "\n",
      "running SVI with: tself_norm_all_3d\n",
      "seed = 76, initial_loss = 1151.7576904296875\n",
      "..............................\n",
      " final loss: -23383.37890625\n",
      "\n",
      "running SVI with: tself_norm_all_3d\n",
      "seed = 89, initial_loss = 467.50872802734375\n",
      "..............................\n",
      " final loss: -25924.76171875\n",
      "\n",
      "running SVI with: tself_norm_all_3d\n",
      "seed = 14, initial_loss = 1207.5133056640625\n",
      "..............................\n",
      " final loss: -26419.66796875\n",
      "\n",
      "running SVI with: tself_norm_all_3d\n",
      "seed = 10, initial_loss = 1605.1343994140625\n",
      "..............................\n",
      " final loss: -27480.267578125\n",
      "\n",
      "running SVI with: tself_norm_all_3d\n",
      "seed = 95, initial_loss = 2662.8447265625\n",
      "..............................\n",
      " final loss: -27237.91796875\n",
      "\n",
      "running SVI with: tself_norm_all_3d\n",
      "seed = 43, initial_loss = 4692.75390625\n",
      "..............................\n",
      " final loss: -26752.537109375\n",
      "\n",
      "running SVI with: tself_norm_all_3d\n",
      "seed = 19, initial_loss = 6926.6689453125\n",
      "..............................\n",
      " final loss: -26394.173828125\n",
      "\n",
      "running SVI with: tself_norm_all_3d\n",
      "seed = 7, initial_loss = 8776.5185546875\n",
      "..............................\n",
      " final loss: -26102.20703125\n",
      "\n",
      "running SVI with: tself_norm_all_3d\n",
      "seed = 88, initial_loss = 10035.4990234375\n",
      "..............................\n",
      " final loss: -25582.080078125\n",
      "\n",
      "running SVI with: tself_norm_all_3d\n",
      "seed = 88, initial_loss = 10993.1416015625\n",
      "..............................\n",
      " final loss: -24698.16015625\n",
      "\n"
     ]
    }
   ],
   "source": [
    "maxk = 10\n",
    "# self, normalized, with autotransitions\n",
    "seeds_self_norm_all_grp, maps_self_norm_all_grp, logprobs_self_norm_all_grp, mems_self_norm_all_grp =\\\n",
    "    fit_varying_k('grp','self','norm','all',maxk)\n",
    "seeds_self_norm_all_dim, maps_self_norm_all_dim, logprobs_self_norm_all_dim =\\\n",
    "    fit_varying_k('dim','self','norm','all',maxk)"
   ]
  },
  {
   "cell_type": "code",
   "execution_count": 6,
   "metadata": {
    "execution": {
     "iopub.execute_input": "2021-02-24T21:04:26.055518Z",
     "iopub.status.busy": "2021-02-24T21:04:26.054947Z",
     "iopub.status.idle": "2021-02-24T21:25:24.346869Z",
     "shell.execute_reply": "2021-02-24T21:25:24.347590Z"
    }
   },
   "outputs": [
    {
     "name": "stdout",
     "output_type": "stream",
     "text": [
      "running SVI with: tself_norm_noauto_3d\n",
      "seed = 14, initial_loss = 7541.52001953125\n",
      "..............................\n",
      " final loss: -13065.20703125\n",
      "\n"
     ]
    },
    {
     "name": "stderr",
     "output_type": "stream",
     "text": [
      "/u/zidong/.conda/envs/tomtom-env/lib/python3.8/site-packages/pyro/infer/discrete.py:92: UserWarning: infer_discrete found no sample sites configured for enumeration. If you want to enumerate sites, you need to @config_enumerate or set infer={\"enumerate\": \"sequential\"} or infer={\"enumerate\": \"parallel\"}.\n",
      "  warnings.warn('infer_discrete found no sample sites configured for enumeration. '\n"
     ]
    },
    {
     "name": "stdout",
     "output_type": "stream",
     "text": [
      "running SVI with: tself_norm_noauto_3d\n",
      "seed = 48, initial_loss = 5303.57666015625\n",
      "..............................\n",
      " final loss: -15057.5205078125\n",
      "\n",
      "running SVI with: tself_norm_noauto_3d\n",
      "seed = 63, initial_loss = 6020.810546875\n",
      "..............................\n",
      " final loss: -15498.279296875\n",
      "\n",
      "running SVI with: tself_norm_noauto_3d\n",
      "seed = 40, initial_loss = 4992.0263671875\n",
      "..............................\n",
      " final loss: -15716.41015625\n",
      "\n",
      "running SVI with: tself_norm_noauto_3d\n",
      "seed = 40, initial_loss = 6644.07177734375\n",
      "..............................\n",
      " final loss: -15662.53125\n",
      "\n",
      "running SVI with: tself_norm_noauto_3d\n",
      "seed = 26, initial_loss = 6766.93212890625\n",
      "..............................\n",
      " final loss: -15680.876953125\n",
      "\n",
      "running SVI with: tself_norm_noauto_3d\n",
      "seed = 58, initial_loss = 6636.73681640625\n",
      "..............................\n",
      " final loss: -15614.5380859375\n",
      "\n",
      "running SVI with: tself_norm_noauto_3d\n",
      "seed = 12, initial_loss = 6141.21630859375\n",
      "..............................\n",
      " final loss: -15680.650390625\n",
      "\n",
      "running SVI with: tself_norm_noauto_3d\n",
      "seed = 59, initial_loss = 6024.76416015625\n",
      "..............................\n",
      " final loss: -15768.4609375\n",
      "\n",
      "running SVI with: tself_norm_noauto_3d\n",
      "seed = 75, initial_loss = 7175.7568359375\n",
      "..............................\n",
      " final loss: -15354.2861328125\n",
      "\n",
      "running SVI with: tself_norm_noauto_3d\n",
      "seed = 40, initial_loss = 4815.287109375\n",
      "..............................\n",
      " final loss: -13153.423828125\n",
      "\n",
      "running SVI with: tself_norm_noauto_3d\n",
      "seed = 7, initial_loss = 6006.4267578125\n",
      "..............................\n",
      " final loss: -15041.3046875\n",
      "\n",
      "running SVI with: tself_norm_noauto_3d\n",
      "seed = 65, initial_loss = 6229.5712890625\n",
      "..............................\n",
      " final loss: -16008.1318359375\n",
      "\n",
      "running SVI with: tself_norm_noauto_3d\n",
      "seed = 29, initial_loss = 8084.91796875\n",
      "..............................\n",
      " final loss: -16271.2509765625\n",
      "\n",
      "running SVI with: tself_norm_noauto_3d\n",
      "seed = 55, initial_loss = 9945.916015625\n",
      "..............................\n",
      " final loss: -16053.583984375\n",
      "\n",
      "running SVI with: tself_norm_noauto_3d\n",
      "seed = 80, initial_loss = 12033.4033203125\n",
      "..............................\n",
      " final loss: -16293.3779296875\n",
      "\n",
      "running SVI with: tself_norm_noauto_3d\n",
      "seed = 60, initial_loss = 12701.01171875\n",
      "..............................\n",
      " final loss: -13805.052734375\n",
      "\n",
      "running SVI with: tself_norm_noauto_3d\n",
      "seed = 7, initial_loss = 14879.408203125\n",
      "..............................\n",
      " final loss: -14598.162109375\n",
      "\n",
      "running SVI with: tself_norm_noauto_3d\n",
      "seed = 88, initial_loss = 16678.671875\n",
      "..............................\n",
      " final loss: -14310.0185546875\n",
      "\n",
      "running SVI with: tself_norm_noauto_3d\n",
      "seed = 96, initial_loss = 18147.609375\n",
      "..............................\n",
      " final loss: -11674.07421875\n",
      "\n"
     ]
    }
   ],
   "source": [
    "# self, normalized, no autotransitions\n",
    "seeds_self_norm_noauto_grp, maps_self_norm_noauto_grp, logprobs_self_norm_noauto_grp, mems_self_norm_noauto_grp =\\\n",
    "    fit_varying_k('grp','self','norm','noauto',maxk)\n",
    "seeds_self_norm_noauto_dim, maps_self_norm_noauto_dim, logprobs_self_norm_noauto_dim =\\\n",
    "    fit_varying_k('dim','self','norm','noauto',maxk)"
   ]
  },
  {
   "cell_type": "code",
   "execution_count": 7,
   "metadata": {
    "execution": {
     "iopub.execute_input": "2021-02-24T21:25:24.355008Z",
     "iopub.status.busy": "2021-02-24T21:25:24.354215Z",
     "iopub.status.idle": "2021-02-24T21:58:19.969305Z",
     "shell.execute_reply": "2021-02-24T21:58:19.970022Z"
    }
   },
   "outputs": [
    {
     "name": "stdout",
     "output_type": "stream",
     "text": [
      "running SVI with: tself_raw_all_3d\n",
      "seed = 58, initial_loss = 88220.6875\n",
      "..............................\n",
      " final loss: -3532.5908203125\n",
      "\n"
     ]
    },
    {
     "name": "stderr",
     "output_type": "stream",
     "text": [
      "/u/zidong/.conda/envs/tomtom-env/lib/python3.8/site-packages/pyro/infer/discrete.py:92: UserWarning: infer_discrete found no sample sites configured for enumeration. If you want to enumerate sites, you need to @config_enumerate or set infer={\"enumerate\": \"sequential\"} or infer={\"enumerate\": \"parallel\"}.\n",
      "  warnings.warn('infer_discrete found no sample sites configured for enumeration. '\n"
     ]
    },
    {
     "name": "stdout",
     "output_type": "stream",
     "text": [
      "running SVI with: tself_raw_all_3d\n",
      "seed = 72, initial_loss = 85132.5\n",
      "..............................\n",
      " final loss: -5425.06640625\n",
      "\n",
      "running SVI with: tself_raw_all_3d\n",
      "seed = 42, initial_loss = 82557.1328125\n",
      "..............................\n",
      " final loss: -6859.53759765625\n",
      "\n",
      "running SVI with: tself_raw_all_3d\n",
      "seed = 54, initial_loss = 83365.4765625\n",
      "..............................\n",
      " final loss: -6542.474609375\n",
      "\n",
      "running SVI with: tself_raw_all_3d\n",
      "seed = 67, initial_loss = 82478.1328125\n",
      "..............................\n",
      " final loss: -7828.6552734375\n",
      "\n",
      "running SVI with: tself_raw_all_3d\n",
      "seed = 41, initial_loss = 84080.296875\n",
      "..............................\n",
      " final loss: -6664.8671875\n",
      "\n",
      "running SVI with: tself_raw_all_3d\n",
      "seed = 88, initial_loss = 81980.53125\n",
      "..............................\n",
      " final loss: -7477.751953125\n",
      "\n",
      "running SVI with: tself_raw_all_3d\n",
      "seed = 47, initial_loss = 80794.78125\n",
      "..............................\n",
      " final loss: -7294.98828125\n",
      "\n",
      "running SVI with: tself_raw_all_3d\n",
      "seed = 9, initial_loss = 83029.5390625\n",
      "..............................\n",
      " final loss: -7297.48486328125\n",
      "\n",
      "running SVI with: tself_raw_all_3d\n",
      "seed = 32, initial_loss = 83671.0078125\n",
      "..............................\n",
      " final loss: -6416.00439453125\n",
      "\n",
      "running SVI with: tself_raw_all_3d\n",
      "seed = 74, initial_loss = 82735.4375\n",
      "..............................\n",
      " final loss: -4250.70654296875\n",
      "\n",
      "running SVI with: tself_raw_all_3d\n",
      "seed = 37, initial_loss = 84346.8515625\n",
      "..............................\n",
      " final loss: -5787.89501953125\n",
      "\n",
      "running SVI with: tself_raw_all_3d\n",
      "seed = 35, initial_loss = 85514.90625\n",
      "..............................\n",
      " final loss: -6656.4287109375\n",
      "\n",
      "running SVI with: tself_raw_all_3d\n",
      "seed = 34, initial_loss = 85440.34375\n",
      "..............................\n",
      " final loss: -7458.341796875\n",
      "\n",
      "running SVI with: tself_raw_all_3d\n",
      "seed = 98, initial_loss = 84369.2109375\n",
      "..............................\n",
      " final loss: -6700.529296875\n",
      "\n",
      "running SVI with: tself_raw_all_3d\n",
      "seed = 73, initial_loss = 89440.0859375\n",
      "..............................\n",
      " final loss: -7155.85888671875\n",
      "\n",
      "running SVI with: tself_raw_all_3d\n",
      "seed = 51, initial_loss = 92159.1640625\n",
      "..............................\n",
      " final loss: -5947.00537109375\n",
      "\n",
      "running SVI with: tself_raw_all_3d\n",
      "seed = 65, initial_loss = 91415.0703125\n",
      "..............................\n",
      " final loss: -6300.958984375\n",
      "\n",
      "running SVI with: tself_raw_all_3d\n",
      "seed = 88, initial_loss = 95692.5625\n",
      "..............................\n",
      " final loss: -5210.3212890625\n",
      "\n",
      "running SVI with: tself_raw_all_3d\n",
      "seed = 96, initial_loss = 97774.609375\n",
      "..............................\n",
      " final loss: -2993.9365234375\n",
      "\n"
     ]
    }
   ],
   "source": [
    "# self, raw, with autotransitions\n",
    "seeds_self_raw_all_grp, maps_self_raw_all_grp, logprobs_self_raw_all_grp, mems_self_raw_all_grp =\\\n",
    "    fit_varying_k('grp','self','raw','all',maxk)\n",
    "seeds_self_raw_all_dim, maps_self_raw_all_dim, logprobs_self_raw_all_dim =\\\n",
    "    fit_varying_k('dim','self','raw','all',maxk)"
   ]
  },
  {
   "cell_type": "code",
   "execution_count": 8,
   "metadata": {
    "execution": {
     "iopub.execute_input": "2021-02-24T21:58:19.979058Z",
     "iopub.status.busy": "2021-02-24T21:58:19.978263Z",
     "iopub.status.idle": "2021-02-24T22:28:53.122133Z",
     "shell.execute_reply": "2021-02-24T22:28:53.122866Z"
    }
   },
   "outputs": [
    {
     "name": "stdout",
     "output_type": "stream",
     "text": [
      "running SVI with: tself_raw_noauto_3d\n",
      "seed = 73, initial_loss = 50224.46875\n",
      "..............................\n",
      " final loss: -2798.165283203125\n",
      "\n"
     ]
    },
    {
     "name": "stderr",
     "output_type": "stream",
     "text": [
      "/u/zidong/.conda/envs/tomtom-env/lib/python3.8/site-packages/pyro/infer/discrete.py:92: UserWarning: infer_discrete found no sample sites configured for enumeration. If you want to enumerate sites, you need to @config_enumerate or set infer={\"enumerate\": \"sequential\"} or infer={\"enumerate\": \"parallel\"}.\n",
      "  warnings.warn('infer_discrete found no sample sites configured for enumeration. '\n"
     ]
    },
    {
     "name": "stdout",
     "output_type": "stream",
     "text": [
      "running SVI with: tself_raw_noauto_3d\n",
      "seed = 7, initial_loss = 49590.33203125\n",
      "..............................\n",
      " final loss: -4322.2236328125\n",
      "\n",
      "running SVI with: tself_raw_noauto_3d\n",
      "seed = 63, initial_loss = 46113.2578125\n",
      "..............................\n",
      " final loss: -4864.85400390625\n",
      "\n",
      "running SVI with: tself_raw_noauto_3d\n",
      "seed = 49, initial_loss = 48942.578125\n",
      "..............................\n",
      " final loss: -5124.84765625\n",
      "\n",
      "running SVI with: tself_raw_noauto_3d\n",
      "seed = 10, initial_loss = 49137.15625\n",
      "..............................\n",
      " final loss: -5127.30078125\n",
      "\n",
      "running SVI with: tself_raw_noauto_3d\n",
      "seed = 31, initial_loss = 49077.34375\n",
      "..............................\n",
      " final loss: -5214.31884765625\n",
      "\n",
      "running SVI with: tself_raw_noauto_3d\n",
      "seed = 29, initial_loss = 47682.359375\n",
      "..............................\n",
      " final loss: -5102.38037109375\n",
      "\n",
      "running SVI with: tself_raw_noauto_3d\n",
      "seed = 12, initial_loss = 48115.8203125\n",
      "..............................\n",
      " final loss: -5023.65869140625\n",
      "\n",
      "running SVI with: tself_raw_noauto_3d\n",
      "seed = 74, initial_loss = 48429.50390625\n",
      "..............................\n",
      " final loss: -5081.34228515625\n",
      "\n",
      "running SVI with: tself_raw_noauto_3d\n",
      "seed = 23, initial_loss = 48485.05078125\n",
      "..............................\n",
      " final loss: -5071.1318359375\n",
      "\n",
      "running SVI with: tself_raw_noauto_3d\n",
      "seed = 40, initial_loss = 48934.90234375\n",
      "..............................\n",
      " final loss: -3017.142333984375\n",
      "\n",
      "running SVI with: tself_raw_noauto_3d\n",
      "seed = 2, initial_loss = 49767.59765625\n",
      "..............................\n",
      " final loss: -4674.0068359375\n",
      "\n",
      "running SVI with: tself_raw_noauto_3d\n",
      "seed = 37, initial_loss = 47964.21875\n",
      "..............................\n",
      " final loss: -5396.32373046875\n",
      "\n",
      "running SVI with: tself_raw_noauto_3d\n",
      "seed = 92, initial_loss = 49036.578125\n",
      "..............................\n",
      " final loss: -5320.93505859375\n",
      "\n",
      "running SVI with: tself_raw_noauto_3d\n",
      "seed = 58, initial_loss = 50539.09375\n",
      "..............................\n",
      " final loss: -5995.7060546875\n",
      "\n",
      "running SVI with: tself_raw_noauto_3d\n",
      "seed = 21, initial_loss = 53220.40625\n",
      "..............................\n",
      " final loss: -4841.3310546875\n",
      "\n",
      "running SVI with: tself_raw_noauto_3d\n",
      "seed = 47, initial_loss = 55089.57421875\n",
      "..............................\n",
      " final loss: -5117.974609375\n",
      "\n",
      "running SVI with: tself_raw_noauto_3d\n",
      "seed = 47, initial_loss = 57257.5546875\n",
      "..............................\n",
      " final loss: -3725.522216796875\n",
      "\n",
      "running SVI with: tself_raw_noauto_3d\n",
      "seed = 88, initial_loss = 59035.19140625\n",
      "..............................\n",
      " final loss: -3587.539306640625\n",
      "\n",
      "running SVI with: tself_raw_noauto_3d\n",
      "seed = 88, initial_loss = 61722.375\n",
      "..............................\n",
      " final loss: -2141.2890625\n",
      "\n"
     ]
    }
   ],
   "source": [
    "# self, raw, no autotransitions\n",
    "seeds_self_raw_noauto_grp, maps_self_raw_noauto_grp, logprobs_self_raw_noauto_grp, mems_self_raw_noauto_grp =\\\n",
    "    fit_varying_k('grp','self','raw','noauto',maxk)\n",
    "seeds_self_raw_noauto_dim, maps_self_raw_noauto_dim, logprobs_self_raw_noauto_dim =\\\n",
    "    fit_varying_k('dim','self','raw','noauto',maxk)"
   ]
  },
  {
   "cell_type": "code",
   "execution_count": 9,
   "metadata": {
    "execution": {
     "iopub.execute_input": "2021-02-24T22:28:53.132264Z",
     "iopub.status.busy": "2021-02-24T22:28:53.131420Z",
     "iopub.status.idle": "2021-02-24T22:28:53.186276Z",
     "shell.execute_reply": "2021-02-24T22:28:53.186977Z"
    }
   },
   "outputs": [],
   "source": [
    "with open('tomtom_fitted_models_withadded.pkl','wb') as f:\n",
    "    pickle.dump([seeds_self_norm_all_grp,maps_self_norm_all_grp,logprobs_self_norm_all_grp,mems_self_norm_all_grp,\n",
    "                 seeds_self_norm_all_dim,maps_self_norm_all_dim,logprobs_self_norm_all_dim,\n",
    "                 seeds_self_norm_noauto_grp,maps_self_norm_noauto_grp,logprobs_self_norm_noauto_grp,mems_self_norm_noauto_grp,\n",
    "                 seeds_self_norm_noauto_dim,maps_self_norm_noauto_dim,logprobs_self_norm_noauto_dim,\n",
    "                 seeds_self_raw_all_grp,maps_self_raw_all_grp,logprobs_self_raw_all_grp,mems_self_raw_all_grp,\n",
    "                 seeds_self_raw_all_dim,maps_self_raw_all_dim,logprobs_self_raw_all_dim,\n",
    "                 seeds_self_raw_noauto_grp,maps_self_raw_noauto_grp,logprobs_self_raw_noauto_grp,mems_self_raw_noauto_grp,\n",
    "                 seeds_self_raw_noauto_dim,maps_self_raw_noauto_dim,logprobs_self_raw_noauto_dim],f)"
   ]
  },
  {
   "cell_type": "markdown",
   "metadata": {},
   "source": [
    "## analyze fitted models\n",
    "\n",
    "analyzing fitted raw_noauto models as an example, but could easily swap out below."
   ]
  },
  {
   "cell_type": "code",
   "execution_count": 10,
   "metadata": {
    "execution": {
     "iopub.execute_input": "2021-02-24T22:28:53.191156Z",
     "iopub.status.busy": "2021-02-24T22:28:53.190307Z",
     "iopub.status.idle": "2021-02-24T22:28:53.192278Z",
     "shell.execute_reply": "2021-02-24T22:28:53.193098Z"
    }
   },
   "outputs": [],
   "source": [
    "maps_grp = maps_self_raw_noauto_grp\n",
    "maps_dim = maps_self_raw_noauto_dim\n",
    "lps_grp = logprobs_self_raw_noauto_grp\n",
    "lps_dim = logprobs_self_raw_noauto_dim"
   ]
  },
  {
   "cell_type": "markdown",
   "metadata": {},
   "source": [
    "1) plot the models' log prob as a function of K, grouped by model type"
   ]
  },
  {
   "cell_type": "code",
   "execution_count": 11,
   "metadata": {
    "execution": {
     "iopub.execute_input": "2021-02-24T22:28:53.197541Z",
     "iopub.status.busy": "2021-02-24T22:28:53.196711Z",
     "iopub.status.idle": "2021-02-24T22:28:53.856089Z",
     "shell.execute_reply": "2021-02-24T22:28:53.856513Z"
    },
    "scrolled": true
   },
   "outputs": [
    {
     "name": "stderr",
     "output_type": "stream",
     "text": [
      "/u/zidong/.conda/envs/tomtom-env/lib/python3.8/site-packages/seaborn/_decorators.py:36: FutureWarning: Pass the following variables as keyword args: x, y. From version 0.12, the only valid positional argument will be `data`, and passing other arguments without an explicit keyword will result in an error or misinterpretation.\n",
      "  warnings.warn(\n",
      "/u/zidong/.conda/envs/tomtom-env/lib/python3.8/site-packages/seaborn/_decorators.py:36: FutureWarning: Pass the following variables as keyword args: x, y. From version 0.12, the only valid positional argument will be `data`, and passing other arguments without an explicit keyword will result in an error or misinterpretation.\n",
      "  warnings.warn(\n"
     ]
    },
    {
     "data": {
      "text/plain": [
       "<AxesSubplot:>"
      ]
     },
     "execution_count": 1,
     "metadata": {},
     "output_type": "execute_result"
    },
    {
     "data": {
      "image/png": "[encoded data removed]",
      "text/plain": [
       "<Figure size 432x288 with 1 Axes>"
      ]
     },
     "metadata": {
      "needs_background": "light"
     },
     "output_type": "display_data"
    }
   ],
   "source": [
    "sns.scatterplot(range(1,11),lps_grp, color = 'blue')\n",
    "sns.scatterplot(range(1,11),lps_dim, color = 'red')"
   ]
  },
  {
   "cell_type": "markdown",
   "metadata": {},
   "source": [
    "2) analyze how similar grp- and dim-model parameters are as a function of K"
   ]
  },
  {
   "cell_type": "code",
   "execution_count": 12,
   "metadata": {
    "execution": {
     "iopub.execute_input": "2021-02-24T22:28:53.861739Z",
     "iopub.status.busy": "2021-02-24T22:28:53.861198Z",
     "iopub.status.idle": "2021-02-24T22:28:53.926511Z",
     "shell.execute_reply": "2021-02-24T22:28:53.926925Z"
    }
   },
   "outputs": [],
   "source": [
    "# compare parameters from the two models under varying k\n",
    "meancor = []\n",
    "meanmaxrow = []\n",
    "meanmaxcol = []\n",
    "otorow = []\n",
    "otocol = []\n",
    "for i in range(len(maps_self_raw_noauto_grp)):\n",
    "    cor_mat = tu.grp_dim_param_convergence(map_grp=maps_grp[i],map_dim=maps_dim[i], dtype='raw')\n",
    "    # get the overall mean of the cormat\n",
    "    meancor.append(cor_mat['b'].mean())\n",
    "    # get means of row max and col max\n",
    "    meanmaxrow.append(cor_mat['b'].max(1).mean())\n",
    "    meanmaxcol.append(cor_mat['b'].max(0).mean())\n",
    "    rowindmax, oto = tu.one_to_one_correspondence(cor_mat['b'])\n",
    "    otorow.append(oto[0]) \n",
    "    otocol.append(oto[1]) "
   ]
  },
  {
   "cell_type": "markdown",
   "metadata": {},
   "source": [
    "is there evidence that there's one-to-one correspondence (indistinguishable clusters) between the group and the dimensional models?"
   ]
  },
  {
   "cell_type": "code",
   "execution_count": 13,
   "metadata": {
    "execution": {
     "iopub.execute_input": "2021-02-24T22:28:53.930550Z",
     "iopub.status.busy": "2021-02-24T22:28:53.929997Z",
     "iopub.status.idle": "2021-02-24T22:28:53.932519Z",
     "shell.execute_reply": "2021-02-24T22:28:53.932932Z"
    }
   },
   "outputs": [
    {
     "name": "stdout",
     "output_type": "stream",
     "text": [
      "[True, True, False, False, False, False, False, False, False, False]\n"
     ]
    }
   ],
   "source": [
    "print(otocol)"
   ]
  },
  {
   "cell_type": "markdown",
   "metadata": {},
   "source": [
    "plot mean pair-wise factor parameter correlations as a function of K\n",
    "\n",
    "alternatives: meamaxcol/meanmaxrow - mean of max parameter correlation per column/row as a function of L"
   ]
  },
  {
   "cell_type": "code",
   "execution_count": 14,
   "metadata": {
    "execution": {
     "iopub.execute_input": "2021-02-24T22:28:53.953221Z",
     "iopub.status.busy": "2021-02-24T22:28:53.952675Z",
     "iopub.status.idle": "2021-02-24T22:28:54.086216Z",
     "shell.execute_reply": "2021-02-24T22:28:54.085752Z"
    }
   },
   "outputs": [
    {
     "name": "stderr",
     "output_type": "stream",
     "text": [
      "/u/zidong/.conda/envs/tomtom-env/lib/python3.8/site-packages/seaborn/_decorators.py:36: FutureWarning: Pass the following variables as keyword args: x, y. From version 0.12, the only valid positional argument will be `data`, and passing other arguments without an explicit keyword will result in an error or misinterpretation.\n",
      "  warnings.warn(\n"
     ]
    },
    {
     "data": {
      "text/plain": [
       "Text(0, 0.5, 'Mean pair-wise param corr')"
      ]
     },
     "execution_count": 1,
     "metadata": {},
     "output_type": "execute_result"
    },
    {
     "data": {
      "image/png": "[encoded data removed]",
      "text/plain": [
       "<Figure size 432x288 with 1 Axes>"
      ]
     },
     "metadata": {
      "needs_background": "light"
     },
     "output_type": "display_data"
    }
   ],
   "source": [
    "ax = sns.scatterplot(range(10), meancor)\n",
    "ax.set_xlabel('K')\n",
    "ax.set_ylabel('Mean pair-wise param corr')"
   ]
  }
 ],
 "metadata": {
  "kernelspec": {
   "display_name": "Python 3",
   "language": "python",
   "name": "python3"
  },
  "language_info": {
   "codemirror_mode": {
    "name": "ipython",
    "version": 3
   },
   "file_extension": ".py",
   "mimetype": "text/x-python",
   "name": "python",
   "nbconvert_exporter": "python",
   "pygments_lexer": "ipython3",
   "version": "3.8.5"
  }
 },
 "nbformat": 4,
 "nbformat_minor": 2
}
